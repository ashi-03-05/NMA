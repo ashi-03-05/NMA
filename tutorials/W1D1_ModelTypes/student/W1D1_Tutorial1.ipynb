{
  "cells": [
    {
      "cell_type": "markdown",
      "metadata": {
        "id": "view-in-github",
        "colab_type": "text"
      },
      "source": [
        "<a href=\"https://colab.research.google.com/github/ashi-03-05/NMA/blob/main/tutorials/W1D1_ModelTypes/student/W1D1_Tutorial1.ipynb\" target=\"_parent\"><img src=\"https://colab.research.google.com/assets/colab-badge.svg\" alt=\"Open In Colab\"/></a>"
      ]
    },
    {
      "cell_type": "markdown",
      "metadata": {
        "execution": {},
        "id": "tLeP3k71ISMg"
      },
      "source": [
        "# Tutorial 1: \"What\" models\n",
        "\n",
        "**Week 1, Day 1: Model Types**\n",
        "\n",
        "**By Neuromatch Academy**\n",
        "\n",
        "__Content creators:__ Matt Laporte, Byron Galbraith, Konrad Kording\n",
        "\n",
        "__Content reviewers:__ Dalin Guo, Aishwarya Balwani, Madineh Sarvestani, Maryam Vaziri-Pashkam, Michael Waskom, Ella Batty\n",
        "\n",
        "__Production editors:__ Gagana B, Spiros Chavlis\n",
        "\n",
        "<br>\n",
        "\n",
        "We would like to acknowledge [Steinmetz _et al._ (2019)](https://www.nature.com/articles/s41586-019-1787-x) for sharing their data, a subset of which is used here."
      ]
    },
    {
      "cell_type": "markdown",
      "metadata": {
        "execution": {},
        "id": "ZlZP_KsxISMj"
      },
      "source": [
        "___\n",
        "# Tutorial Objectives\n",
        "\n",
        "*Estimated timing of tutorial: 50 minutes*\n",
        "\n",
        "This is tutorial 1 of a 3-part series on different flavors of models used to understand neural data. In this tutorial we will explore 'What' models, used to describe the data. To understand what our data looks like, we will visualize it in different ways. Then we will compare it to simple mathematical models. Specifically, we will:\n",
        "\n",
        "- Load a dataset with spiking activity from hundreds of neurons and understand how it is organized\n",
        "- Make plots to visualize characteristics of the spiking activity across the population\n",
        "- Compute the distribution of \"inter-spike intervals\" (ISIs) for a single neuron\n",
        "- Consider several formal models of this distribution's shape and fit them to the data \"by hand\""
      ]
    },
    {
      "cell_type": "code",
      "execution_count": null,
      "metadata": {
        "cellView": "form",
        "execution": {},
        "id": "BUPZXG7CISMj"
      },
      "outputs": [],
      "source": [
        "\n",
        "# @title Tutorial slides\n",
        "# @markdown These are the slides for the videos in all tutorials today\n",
        "from IPython.display import IFrame\n",
        "link_id = \"6dxwe\"\n",
        "print(f\"If you want to download the slides: https://osf.io/download/{link_id}/\")\n",
        "IFrame(src=f\"https://mfr.ca-1.osf.io/render?url=https://osf.io/{link_id}/?direct%26mode=render%26action=download%26mode=render\", width=854, height=480)"
      ]
    },
    {
      "cell_type": "markdown",
      "metadata": {
        "execution": {},
        "id": "WkDerqpeISMk"
      },
      "source": [
        "---\n",
        "# Setup\n",
        "\n"
      ]
    },
    {
      "cell_type": "code",
      "execution_count": null,
      "metadata": {
        "cellView": "form",
        "execution": {},
        "id": "DIp0pnjzISMk"
      },
      "outputs": [],
      "source": [
        "# @title Install and import feedback gadget\n",
        "\n",
        "!pip3 install vibecheck datatops --quiet\n",
        "\n",
        "from vibecheck import DatatopsContentReviewContainer\n",
        "def content_review(notebook_section: str):\n",
        "    return DatatopsContentReviewContainer(\n",
        "        \"\",  # No text prompt\n",
        "        notebook_section,\n",
        "        {\n",
        "            \"url\": \"https://pmyvdlilci.execute-api.us-east-1.amazonaws.com/klab\",\n",
        "            \"name\": \"neuromatch_cn\",\n",
        "            \"user_key\": \"y1x3mpx5\",\n",
        "        },\n",
        "    ).render()\n",
        "\n",
        "\n",
        "feedback_prefix = \"W1D1_T1\""
      ]
    },
    {
      "cell_type": "markdown",
      "metadata": {
        "execution": {},
        "id": "IdSRL749ISMk"
      },
      "source": [
        "Python requires you to explicitly \"import\" libraries before their functions are available to use. We will always specify our imports at the beginning of each notebook or script."
      ]
    },
    {
      "cell_type": "code",
      "execution_count": 7,
      "metadata": {
        "execution": {},
        "pycharm": {
          "name": "#%%\n"
        },
        "id": "jxOg2TfNISMl"
      },
      "outputs": [],
      "source": [
        "import numpy as np\n",
        "import matplotlib.pyplot as plt"
      ]
    },
    {
      "cell_type": "markdown",
      "metadata": {
        "execution": {},
        "id": "OU9_acA5ISMl"
      },
      "source": [
        "Tutorial notebooks typically begin with several set-up steps that are hidden from view by default.\n",
        "\n",
        "**Important:** Even though the code is hidden, you still need to run it so that the rest of the notebook can work properly. Step through each cell, either by pressing the play button in the upper-left-hand corner or with a keyboard shortcut (`Cmd-Return` on a Mac, `Ctrl-Enter` otherwise). A number will appear inside the brackets (e.g. `[3]`) to tell you that the cell was executed and what order that happened in.\n",
        "\n",
        "If you are curious to see what is going on inside each cell, you can double click to expand. Once expanded, double-click the white space to the right of the editor to collapse again."
      ]
    },
    {
      "cell_type": "code",
      "execution_count": 8,
      "metadata": {
        "cellView": "form",
        "execution": {},
        "pycharm": {
          "name": "#%%\n"
        },
        "id": "qC6EdSw5ISMl"
      },
      "outputs": [],
      "source": [
        "# @title Figure Settings\n",
        "import logging\n",
        "logging.getLogger('matplotlib.font_manager').disabled = True\n",
        "\n",
        "import ipywidgets as widgets  # interactive display\n",
        "%matplotlib inline\n",
        "%config InlineBackend.figure_format = 'retina'\n",
        "plt.style.use(\"https://raw.githubusercontent.com/NeuromatchAcademy/course-content/main/nma.mplstyle\")"
      ]
    },
    {
      "cell_type": "code",
      "execution_count": 9,
      "metadata": {
        "cellView": "form",
        "execution": {},
        "id": "HBVo5OoVISMl"
      },
      "outputs": [],
      "source": [
        "# @title Plotting functions\n",
        "\n",
        "def plot_isis(single_neuron_isis):\n",
        "  plt.hist(single_neuron_isis, bins=50, histtype=\"stepfilled\")\n",
        "  plt.axvline(single_neuron_isis.mean(), color=\"orange\", label=\"Mean ISI\")\n",
        "  plt.xlabel(\"ISI duration (s)\")\n",
        "  plt.ylabel(\"Number of spikes\")\n",
        "  plt.legend()"
      ]
    },
    {
      "cell_type": "code",
      "execution_count": 10,
      "metadata": {
        "cellView": "form",
        "execution": {},
        "pycharm": {
          "name": "#%%\n"
        },
        "id": "WTijgUa6ISMl"
      },
      "outputs": [],
      "source": [
        "#@title Data retrieval\n",
        "#@markdown This cell downloads the example dataset that we will use in this tutorial.\n",
        "import io\n",
        "import requests\n",
        "r = requests.get('https://osf.io/sy5xt/download')\n",
        "if r.status_code != 200:\n",
        "  print('Failed to download data')\n",
        "else:\n",
        "  spike_times = np.load(io.BytesIO(r.content), allow_pickle=True)['spike_times']"
      ]
    },
    {
      "cell_type": "markdown",
      "metadata": {
        "execution": {},
        "id": "-ky_POAkISMl"
      },
      "source": [
        "---\n",
        "# \"What\" models"
      ]
    },
    {
      "cell_type": "code",
      "execution_count": 11,
      "metadata": {
        "cellView": "form",
        "execution": {},
        "colab": {
          "base_uri": "https://localhost:8080/",
          "height": 580,
          "referenced_widgets": [
            "049fbf8257d24383b91cdac3fd468571",
            "47ff1b868d804c299a3c2272502558b3",
            "aaae131655fe4c65b3095b3e237c4aec",
            "21c5c738f7194e87a6ed7eb6521c91e3",
            "c29682d3c35544668ac846942921263c",
            "224e1650d0cd4dc18ffd7e918be62504"
          ]
        },
        "id": "8PvUQDGxISMm",
        "outputId": "9b9986c6-6c99-4ee8-ffa2-caeb24e0e0d4"
      },
      "outputs": [
        {
          "output_type": "display_data",
          "data": {
            "text/plain": [
              "Tab(children=(Output(), Output()), _titles={'0': 'Youtube', '1': 'Bilibili'})"
            ],
            "application/vnd.jupyter.widget-view+json": {
              "version_major": 2,
              "version_minor": 0,
              "model_id": "049fbf8257d24383b91cdac3fd468571"
            }
          },
          "metadata": {}
        }
      ],
      "source": [
        "# @title Video 1: \"What\" Models\n",
        "from ipywidgets import widgets\n",
        "from IPython.display import YouTubeVideo\n",
        "from IPython.display import IFrame\n",
        "from IPython.display import display\n",
        "\n",
        "\n",
        "class PlayVideo(IFrame):\n",
        "  def __init__(self, id, source, page=1, width=400, height=300, **kwargs):\n",
        "    self.id = id\n",
        "    if source == 'Bilibili':\n",
        "      src = f'https://player.bilibili.com/player.html?bvid={id}&page={page}'\n",
        "    elif source == 'Osf':\n",
        "      src = f'https://mfr.ca-1.osf.io/render?url=https://osf.io/download/{id}/?direct%26mode=render'\n",
        "    super(PlayVideo, self).__init__(src, width, height, **kwargs)\n",
        "\n",
        "\n",
        "def display_videos(video_ids, W=400, H=300, fs=1):\n",
        "  tab_contents = []\n",
        "  for i, video_id in enumerate(video_ids):\n",
        "    out = widgets.Output()\n",
        "    with out:\n",
        "      if video_ids[i][0] == 'Youtube':\n",
        "        video = YouTubeVideo(id=video_ids[i][1], width=W,\n",
        "                             height=H, fs=fs, rel=0)\n",
        "        print(f'Video available at https://youtube.com/watch?v={video.id}')\n",
        "      else:\n",
        "        video = PlayVideo(id=video_ids[i][1], source=video_ids[i][0], width=W,\n",
        "                          height=H, fs=fs, autoplay=False)\n",
        "        if video_ids[i][0] == 'Bilibili':\n",
        "          print(f'Video available at https://www.bilibili.com/video/{video.id}')\n",
        "        elif video_ids[i][0] == 'Osf':\n",
        "          print(f'Video available at https://osf.io/{video.id}')\n",
        "      display(video)\n",
        "    tab_contents.append(out)\n",
        "  return tab_contents\n",
        "\n",
        "\n",
        "video_ids = [('Youtube', 'KgqR_jbjMQg'), ('Bilibili', 'BV1mz4y1X7ot')]\n",
        "tab_contents = display_videos(video_ids, W=854, H=480)\n",
        "tabs = widgets.Tab()\n",
        "tabs.children = tab_contents\n",
        "for i in range(len(tab_contents)):\n",
        "  tabs.set_title(i, video_ids[i][0])\n",
        "display(tabs)"
      ]
    },
    {
      "cell_type": "code",
      "execution_count": null,
      "metadata": {
        "cellView": "form",
        "execution": {},
        "id": "xUyF9q09ISMm"
      },
      "outputs": [],
      "source": [
        "# @title Submit your feedback\n",
        "content_review(f\"{feedback_prefix}_What_models_Video\")"
      ]
    },
    {
      "cell_type": "markdown",
      "metadata": {
        "execution": {},
        "id": "xH33OtZNISMm"
      },
      "source": [
        "---\n",
        "\n",
        "# Section 1: Exploring the Steinmetz dataset\n",
        "\n",
        "In this tutorial we will explore the structure of a neuroscience dataset.\n",
        "\n",
        "We consider a subset of data from a study of [Steinmetz _et al._ (2019)](https://www.nature.com/articles/s41586-019-1787-x). In this study, Neuropixels probes were implanted in the brains of mice. Electrical potentials were measured by hundreds of electrodes along the length of each probe. Each electrode's measurements captured local variations in the electric field due to nearby spiking neurons. A spike sorting algorithm was used to infer spike times and cluster spikes according to common origin: a single cluster of sorted spikes is causally attributed to a single neuron.\n",
        "\n",
        "In particular, a single recording session of spike times and neuron assignments was loaded and assigned to `spike_times` in the preceding setup.\n",
        "\n",
        "Typically a dataset comes with some information about its structure. However, this information may be incomplete. You might also apply some transformations or \"pre-processing\" to create a working representation of the data of interest, which might go partly undocumented depending on the circumstances. In any case it is important to be able to use the available tools to investigate unfamiliar aspects of a data structure.\n",
        "\n",
        "Let's see what our data looks like..."
      ]
    },
    {
      "cell_type": "markdown",
      "metadata": {
        "execution": {},
        "id": "wAn5ROfyISMm"
      },
      "source": [
        "## Section 1.1: Warming up with `spike_times`"
      ]
    },
    {
      "cell_type": "markdown",
      "metadata": {
        "execution": {},
        "id": "apmSWKoVISMm"
      },
      "source": [
        "What is the Python type of our variable?"
      ]
    },
    {
      "cell_type": "code",
      "execution_count": 12,
      "metadata": {
        "execution": {},
        "pycharm": {
          "name": "#%%\n"
        },
        "colab": {
          "base_uri": "https://localhost:8080/"
        },
        "id": "0C-oVyLeISMm",
        "outputId": "239763e5-f482-4c61-b4f8-d8b1161d5b12"
      },
      "outputs": [
        {
          "output_type": "execute_result",
          "data": {
            "text/plain": [
              "numpy.ndarray"
            ]
          },
          "metadata": {},
          "execution_count": 12
        }
      ],
      "source": [
        "type(spike_times)"
      ]
    },
    {
      "cell_type": "markdown",
      "metadata": {
        "execution": {},
        "id": "3FJawgUUISMm"
      },
      "source": [
        "You should see `numpy.ndarray`, which means that it's a normal NumPy array.\n",
        "\n",
        "If you see an error message, it probably means that you did not execute the set-up cells at the top of the notebook. So go ahead and make sure to do that.\n",
        "\n",
        "Once everything is running properly, we can ask the next question about the dataset: what's its shape?"
      ]
    },
    {
      "cell_type": "code",
      "execution_count": 13,
      "metadata": {
        "execution": {},
        "pycharm": {
          "name": "#%%\n"
        },
        "colab": {
          "base_uri": "https://localhost:8080/"
        },
        "id": "Ez7LK0_YISMn",
        "outputId": "9ade7bd7-449b-4a22-f251-f44b8bcea453"
      },
      "outputs": [
        {
          "output_type": "execute_result",
          "data": {
            "text/plain": [
              "(734,)"
            ]
          },
          "metadata": {},
          "execution_count": 13
        }
      ],
      "source": [
        "spike_times.shape"
      ]
    },
    {
      "cell_type": "markdown",
      "metadata": {
        "execution": {},
        "id": "4Bklw4K7ISMn"
      },
      "source": [
        "There are 734 entries in one dimension, and no other dimensions. What is the Python type of the first entry, and what is *its* shape?"
      ]
    },
    {
      "cell_type": "code",
      "execution_count": 14,
      "metadata": {
        "execution": {},
        "pycharm": {
          "name": "#%%\n"
        },
        "colab": {
          "base_uri": "https://localhost:8080/"
        },
        "id": "YMvkENJOISMn",
        "outputId": "2a4b7b51-f73e-46d5-8876-5de76a2e9647"
      },
      "outputs": [
        {
          "output_type": "stream",
          "name": "stdout",
          "text": [
            "<class 'numpy.ndarray'>\n",
            "(826,)\n"
          ]
        }
      ],
      "source": [
        "idx = 0\n",
        "print(\n",
        "  type(spike_times[idx]),\n",
        "  spike_times[idx].shape,\n",
        "  sep=\"\\n\",\n",
        ")"
      ]
    },
    {
      "cell_type": "markdown",
      "metadata": {
        "execution": {},
        "id": "ECAPFPzUISMn"
      },
      "source": [
        "It's also a NumPy array with a 1D shape! Why didn't this show up as a second dimension in the shape of `spike_times`? That is, why not `spike_times.shape == (734, 826)`?\n",
        "\n",
        "To investigate, let's check another entry."
      ]
    },
    {
      "cell_type": "code",
      "execution_count": 15,
      "metadata": {
        "execution": {},
        "pycharm": {
          "name": "#%%\n"
        },
        "colab": {
          "base_uri": "https://localhost:8080/"
        },
        "id": "1bywPBvNISMn",
        "outputId": "2ac3dd2f-9cef-4688-91cc-bef297e36699"
      },
      "outputs": [
        {
          "output_type": "stream",
          "name": "stdout",
          "text": [
            "<class 'numpy.ndarray'>\n",
            "(9723,)\n"
          ]
        }
      ],
      "source": [
        "idx = 321\n",
        "print(\n",
        "  type(spike_times[idx]),\n",
        "  spike_times[idx].shape,\n",
        "  sep=\"\\n\",\n",
        ")"
      ]
    },
    {
      "cell_type": "markdown",
      "metadata": {
        "execution": {},
        "id": "Cvnh9sS2ISMn"
      },
      "source": [
        "It's also a 1D NumPy array, but it has a different shape. Checking the NumPy types of the values in these arrays, and their first few elements, we see they are composed of floating point numbers (not another level of `np.ndarray`):"
      ]
    },
    {
      "cell_type": "code",
      "execution_count": 16,
      "metadata": {
        "execution": {},
        "pycharm": {
          "name": "#%%\n"
        },
        "colab": {
          "base_uri": "https://localhost:8080/"
        },
        "id": "GhL5eF6JISMn",
        "outputId": "efc3c5a9-2eb9-4fee-b517-af57d85c3e54"
      },
      "outputs": [
        {
          "output_type": "stream",
          "name": "stdout",
          "text": [
            "Neuron 0:\n",
            "float32\n",
            "[ 0.8149   14.822467 24.9646   25.1436   38.8709  ]\n",
            "\n",
            "\n",
            "Neuron 321:\n",
            "float32\n",
            "[1.0698667 1.1536334 1.2403667 1.7072    1.799    ]\n",
            "\n",
            "\n"
          ]
        }
      ],
      "source": [
        "i_neurons = [0, 321]\n",
        "i_print = slice(0, 5)\n",
        "\n",
        "for i in i_neurons:\n",
        "  print(\n",
        "    \"Neuron {}:\".format(i),\n",
        "    spike_times[i].dtype,\n",
        "    spike_times[i][i_print],\n",
        "    \"\\n\",\n",
        "    sep=\"\\n\"\n",
        "  )"
      ]
    },
    {
      "cell_type": "markdown",
      "metadata": {
        "execution": {},
        "id": "epZ1xbJ_ISMn"
      },
      "source": [
        "Note that this time we've checked the NumPy `dtype` rather than the Python variable type. These two arrays contain floating point numbers (\"floats\") with 32 bits of precision.\n",
        "\n",
        "The basic picture is coming together:\n",
        "- `spike_times` is 1D, its entries are NumPy arrays, and its length is the number of neurons (734): by indexing it, we select a subset of neurons.\n",
        "- An array in `spike_times` is also 1D and corresponds to a single neuron; its entries are floating point numbers, and its length is the number of spikes attributed to that neuron. By indexing it, we select a subset of spike times for that neuron.\n",
        "\n",
        "Visually, you can think of the data structure as looking something like this:\n",
        "\n",
        "```\n",
        "| . . . . . |\n",
        "| . . . . . . . . |\n",
        "| . . . |\n",
        "| . . . . . . . |\n",
        "```\n",
        "\n",
        "Before moving on, we'll calculate and store the number of neurons in the dataset and the number of spikes per neuron:"
      ]
    },
    {
      "cell_type": "code",
      "execution_count": 18,
      "metadata": {
        "execution": {},
        "pycharm": {
          "name": "#%%\n"
        },
        "colab": {
          "base_uri": "https://localhost:8080/"
        },
        "id": "Tj9U2SPuISMn",
        "outputId": "65f99c3f-8422-4787-bcfd-9bcd5d5fb9d9"
      },
      "outputs": [
        {
          "output_type": "stream",
          "name": "stdout",
          "text": [
            "Number of neurons: 734\n",
            "Number of spikes for first five neurons: [826, 2818, 3953, 646, 1115]\n"
          ]
        }
      ],
      "source": [
        "n_neurons = len(spike_times)\n",
        "total_spikes_per_neuron = [len(spike_times_i) for spike_times_i in spike_times]\n",
        "\n",
        "print(f\"Number of neurons: {n_neurons}\")\n",
        "print(f\"Number of spikes for first five neurons: {total_spikes_per_neuron[:5]}\")"
      ]
    },
    {
      "cell_type": "code",
      "execution_count": 17,
      "metadata": {
        "cellView": "form",
        "execution": {},
        "colab": {
          "base_uri": "https://localhost:8080/",
          "height": 580,
          "referenced_widgets": [
            "43697d67a0f740ef9326b3ab638ac206",
            "797ed8b001ff477e95e0a42f62615e68",
            "a8e830dab31f49c58bf8785f812eaeed",
            "8957f5555fd6419996be4647de73174c",
            "d48e998f4bd3451cadec332c387b4684",
            "6d2af955e99b4aa1bcd2f3bedd0f2661"
          ]
        },
        "id": "XbqFBvDBISMn",
        "outputId": "03e48140-a1d8-4ed8-9f0e-baf2e0e17751"
      },
      "outputs": [
        {
          "output_type": "display_data",
          "data": {
            "text/plain": [
              "Tab(children=(Output(), Output()), _titles={'0': 'Youtube', '1': 'Bilibili'})"
            ],
            "application/vnd.jupyter.widget-view+json": {
              "version_major": 2,
              "version_minor": 0,
              "model_id": "43697d67a0f740ef9326b3ab638ac206"
            }
          },
          "metadata": {}
        }
      ],
      "source": [
        "# @title Video 2: Exploring the dataset\n",
        "from ipywidgets import widgets\n",
        "from IPython.display import YouTubeVideo\n",
        "from IPython.display import IFrame\n",
        "from IPython.display import display\n",
        "\n",
        "\n",
        "class PlayVideo(IFrame):\n",
        "  def __init__(self, id, source, page=1, width=400, height=300, **kwargs):\n",
        "    self.id = id\n",
        "    if source == 'Bilibili':\n",
        "      src = f'https://player.bilibili.com/player.html?bvid={id}&page={page}'\n",
        "    elif source == 'Osf':\n",
        "      src = f'https://mfr.ca-1.osf.io/render?url=https://osf.io/download/{id}/?direct%26mode=render'\n",
        "    super(PlayVideo, self).__init__(src, width, height, **kwargs)\n",
        "\n",
        "\n",
        "def display_videos(video_ids, W=400, H=300, fs=1):\n",
        "  tab_contents = []\n",
        "  for i, video_id in enumerate(video_ids):\n",
        "    out = widgets.Output()\n",
        "    with out:\n",
        "      if video_ids[i][0] == 'Youtube':\n",
        "        video = YouTubeVideo(id=video_ids[i][1], width=W,\n",
        "                             height=H, fs=fs, rel=0)\n",
        "        print(f'Video available at https://youtube.com/watch?v={video.id}')\n",
        "      else:\n",
        "        video = PlayVideo(id=video_ids[i][1], source=video_ids[i][0], width=W,\n",
        "                          height=H, fs=fs, autoplay=False)\n",
        "        if video_ids[i][0] == 'Bilibili':\n",
        "          print(f'Video available at https://www.bilibili.com/video/{video.id}')\n",
        "        elif video_ids[i][0] == 'Osf':\n",
        "          print(f'Video available at https://osf.io/{video.id}')\n",
        "      display(video)\n",
        "    tab_contents.append(out)\n",
        "  return tab_contents\n",
        "\n",
        "\n",
        "video_ids = [('Youtube', 'oHwYWUI_o1U'), ('Bilibili', 'BV1Hp4y1S7Au')]\n",
        "tab_contents = display_videos(video_ids, W=854, H=480)\n",
        "tabs = widgets.Tab()\n",
        "tabs.children = tab_contents\n",
        "for i in range(len(tab_contents)):\n",
        "  tabs.set_title(i, video_ids[i][0])\n",
        "display(tabs)"
      ]
    },
    {
      "cell_type": "code",
      "execution_count": null,
      "metadata": {
        "cellView": "form",
        "execution": {},
        "id": "TN15GxXcISMo"
      },
      "outputs": [],
      "source": [
        "# @title Submit your feedback\n",
        "content_review(f\"{feedback_prefix}_Exploring_the_dataset_Video\")"
      ]
    },
    {
      "cell_type": "markdown",
      "metadata": {
        "execution": {},
        "id": "8LeZB4W1ISMo"
      },
      "source": [
        "## Section 1.2: Getting warmer: counting and plotting total spike counts\n",
        "\n",
        "As we've seen, the number of spikes over the entire recording is variable between neurons. More generally, some neurons tend to spike more than others in a given period. Let's explore what the distribution of spiking looks like across all the neurons in the dataset."
      ]
    },
    {
      "cell_type": "markdown",
      "metadata": {
        "execution": {},
        "id": "-ZKUldLGISMo"
      },
      "source": [
        "Are most neurons \"loud\" or \"quiet\", compared to the average? To see, we'll define bins of constant width in terms of total spikes and count the neurons that fall in each bin. This is known as a \"histogram\".\n",
        "\n",
        "You can plot a histogram with the matplotlib function `plt.hist`. If you just need to compute it, you can use the numpy function `np.histogram` instead."
      ]
    },
    {
      "cell_type": "code",
      "execution_count": 20,
      "metadata": {
        "execution": {},
        "pycharm": {
          "name": "#%%\n"
        },
        "colab": {
          "base_uri": "https://localhost:8080/",
          "height": 592
        },
        "id": "kQDPYAWuISMo",
        "outputId": "c2f230c8-0d60-4f94-ba5a-9ab876d6d2f3"
      },
      "outputs": [
        {
          "output_type": "display_data",
          "data": {
            "text/plain": [
              "<Figure size 800x600 with 1 Axes>"
            ],
            "image/png": "[encoded data removed]"
          },
          "metadata": {
            "image/png": {
              "width": 775,
              "height": 575
            }
          }
        }
      ],
      "source": [
        "plt.hist(total_spikes_per_neuron, bins=50, histtype=\"stepfilled\")\n",
        "plt.xlabel(\"Total spikes per neuron\")\n",
        "plt.ylabel(\"Number of neurons\");"
      ]
    },
    {
      "cell_type": "markdown",
      "metadata": {
        "execution": {},
        "id": "8ELZuvmEISMo"
      },
      "source": [
        "Let's see what percentage of neurons have a below-average spike count:"
      ]
    },
    {
      "cell_type": "code",
      "execution_count": 21,
      "metadata": {
        "execution": {},
        "pycharm": {
          "name": "#%%\n"
        },
        "colab": {
          "base_uri": "https://localhost:8080/"
        },
        "id": "cpWFVoSdISMo",
        "outputId": "6dab0505-6f82-4c63-fa0b-1f1bef1f59e3"
      },
      "outputs": [
        {
          "output_type": "stream",
          "name": "stdout",
          "text": [
            "68.0% of neurons are below the mean\n"
          ]
        }
      ],
      "source": [
        "mean_spike_count = np.mean(total_spikes_per_neuron)\n",
        "frac_below_mean = (total_spikes_per_neuron < mean_spike_count).mean()\n",
        "print(f\"{frac_below_mean:2.1%} of neurons are below the mean\")"
      ]
    },
    {
      "cell_type": "markdown",
      "metadata": {
        "execution": {},
        "id": "MQ6jyIgAISMp"
      },
      "source": [
        "We can also see this by adding the average spike count to the histogram plot:"
      ]
    },
    {
      "cell_type": "code",
      "execution_count": 22,
      "metadata": {
        "execution": {},
        "pycharm": {
          "name": "#%%\n"
        },
        "colab": {
          "base_uri": "https://localhost:8080/",
          "height": 592
        },
        "id": "U9eFjehPISMp",
        "outputId": "08cb6c24-0d87-4ea7-e7ad-228c07e3f92e"
      },
      "outputs": [
        {
          "output_type": "display_data",
          "data": {
            "text/plain": [
              "<Figure size 800x600 with 1 Axes>"
            ],
            "image/png": "[encoded data removed]"
          },
          "metadata": {
            "image/png": {
              "width": 775,
              "height": 575
            }
          }
        }
      ],
      "source": [
        "plt.hist(total_spikes_per_neuron, bins=50, histtype=\"stepfilled\")\n",
        "plt.xlabel(\"Total spikes per neuron\")\n",
        "plt.ylabel(\"Number of neurons\")\n",
        "plt.axvline(mean_spike_count, color=\"orange\", label=\"Mean neuron\")\n",
        "plt.legend();"
      ]
    },
    {
      "cell_type": "markdown",
      "metadata": {
        "execution": {},
        "id": "DsM8du7dISMp"
      },
      "source": [
        "This shows that the majority of neurons are relatively \"quiet\" compared to the mean, while a small number of neurons are exceptionally \"loud\": they must have spiked more often to reach a large count.\n",
        "\n",
        "### Coding Exercise 1.2: Comparing mean and median neurons\n",
        "\n",
        "If the mean neuron is more active than 68% of the population, what does that imply about the relationship between the mean neuron and the median neuron?\n",
        "\n",
        "*Exercise objective:* Reproduce the plot above, but add the median neuron.\n"
      ]
    },
    {
      "cell_type": "code",
      "execution_count": 23,
      "metadata": {
        "execution": {},
        "pycharm": {
          "name": "#%%\n"
        },
        "colab": {
          "base_uri": "https://localhost:8080/",
          "height": 609
        },
        "id": "LMfIH2apISMp",
        "outputId": "5010ee10-1e8e-400b-dbd7-f1b620e9f7bc"
      },
      "outputs": [
        {
          "output_type": "execute_result",
          "data": {
            "text/plain": [
              "<matplotlib.legend.Legend at 0x7d99cce41c50>"
            ]
          },
          "metadata": {},
          "execution_count": 23
        },
        {
          "output_type": "display_data",
          "data": {
            "text/plain": [
              "<Figure size 800x600 with 1 Axes>"
            ],
            "image/png": "[encoded data removed]"
          },
          "metadata": {
            "image/png": {
              "width": 775,
              "height": 575
            }
          }
        }
      ],
      "source": [
        "import numpy as np\n",
        "import matplotlib.pyplot as plt\n",
        "\n",
        "# Compute median spike count\n",
        "median_spike_count = np.median(total_spikes_per_neuron)  # Hint: Try the function np.median\n",
        "\n",
        "# Visualize median, mean, and histogram\n",
        "plt.hist(total_spikes_per_neuron, bins=50, histtype=\"stepfilled\")\n",
        "plt.axvline(median_spike_count, color=\"limegreen\", label=\"Median neuron\")\n",
        "plt.axvline(mean_spike_count, color=\"orange\", label=\"Mean neuron\")\n",
        "plt.xlabel(\"Total spikes per neuron\")\n",
        "plt.ylabel(\"Number of neurons\")\n",
        "plt.legend()"
      ]
    },
    {
      "cell_type": "markdown",
      "metadata": {
        "execution": {},
        "pycharm": {
          "name": "#%%\n"
        },
        "id": "dA6bh-18ISMq"
      },
      "source": [
        "[*Click for solution*](https://github.com/NeuromatchAcademy/course-content/tree/main/tutorials/W1D1_ModelTypes/solutions/W1D1_Tutorial1_Solution_9af91fe0.py)\n",
        "\n",
        "*Example output:*\n",
        "\n",
        "<img alt='Solution hint' align='left' width=775.0 height=575.0 src=https://raw.githubusercontent.com/NeuromatchAcademy/course-content/main/tutorials/W1D1_ModelTypes/static/W1D1_Tutorial1_Solution_9af91fe0_0.png>\n",
        "\n"
      ]
    },
    {
      "cell_type": "markdown",
      "metadata": {
        "execution": {},
        "id": "xJ8gfWjzISMq"
      },
      "source": [
        "\n",
        "*Bonus:* The median is the 50th percentile. What about other percentiles? Can you show the interquartile range on the histogram?"
      ]
    },
    {
      "cell_type": "code",
      "execution_count": null,
      "metadata": {
        "cellView": "form",
        "execution": {},
        "id": "QiORj6POISMq"
      },
      "outputs": [],
      "source": [
        "# @title Submit your feedback\n",
        "content_review(f\"{feedback_prefix}_Comparing_mean_and_median_neurons_Exercise\")"
      ]
    },
    {
      "cell_type": "markdown",
      "metadata": {
        "execution": {},
        "id": "oH6gAYM0ISMq"
      },
      "source": [
        "---\n",
        "\n",
        "# Section 2: Visualizing neuronal spiking activity\n",
        "\n",
        "*Estimated timing to here from start of tutorial: 15 min*"
      ]
    },
    {
      "cell_type": "markdown",
      "metadata": {
        "execution": {},
        "id": "oMWlHr60ISMq"
      },
      "source": [
        "## Section 2.1: Getting a subset of the data\n",
        "\n",
        "Now we'll visualize trains of spikes. Because the recordings are long, we will first define a short time interval and restrict the visualization to only the spikes in this interval. We defined a helper function, `restrict_spike_times`, to do this for you. If you call `help()` on the function, it will tell you a little bit about itself:"
      ]
    },
    {
      "cell_type": "code",
      "execution_count": 25,
      "metadata": {
        "cellView": "form",
        "execution": {},
        "id": "VGCtu-LiISMq"
      },
      "outputs": [],
      "source": [
        "# @markdown Execute this cell for helper function `restrict_spike_times`\n",
        "def restrict_spike_times(spike_times, interval):\n",
        "  \"\"\"Given a spike_time dataset, restrict to spikes within given interval.\n",
        "\n",
        "  Args:\n",
        "    spike_times (sequence of np.ndarray): List or array of arrays,\n",
        "      each inner array has spike times for a single neuron.\n",
        "    interval (tuple): Min, max time values; keep min <= t < max.\n",
        "\n",
        "  Returns:\n",
        "    np.ndarray: like `spike_times`, but only within `interval`\n",
        "  \"\"\"\n",
        "  interval_spike_times = []\n",
        "  for spikes in spike_times:\n",
        "    interval_mask = (spikes >= interval[0]) & (spikes < interval[1])\n",
        "    interval_spike_times.append(spikes[interval_mask])\n",
        "  return np.array(interval_spike_times, object)"
      ]
    },
    {
      "cell_type": "code",
      "execution_count": 26,
      "metadata": {
        "execution": {},
        "pycharm": {
          "name": "#%%\n"
        },
        "colab": {
          "base_uri": "https://localhost:8080/"
        },
        "id": "EK408926ISMq",
        "outputId": "e3fbe22b-3027-45c5-fb8e-d9f3e8ddfd40"
      },
      "outputs": [
        {
          "output_type": "stream",
          "name": "stdout",
          "text": [
            "Help on function restrict_spike_times in module __main__:\n",
            "\n",
            "restrict_spike_times(spike_times, interval)\n",
            "    Given a spike_time dataset, restrict to spikes within given interval.\n",
            "    \n",
            "    Args:\n",
            "      spike_times (sequence of np.ndarray): List or array of arrays,\n",
            "        each inner array has spike times for a single neuron.\n",
            "      interval (tuple): Min, max time values; keep min <= t < max.\n",
            "    \n",
            "    Returns:\n",
            "      np.ndarray: like `spike_times`, but only within `interval`\n",
            "\n"
          ]
        }
      ],
      "source": [
        "help(restrict_spike_times)"
      ]
    },
    {
      "cell_type": "code",
      "execution_count": 27,
      "metadata": {
        "execution": {},
        "pycharm": {
          "name": "#%%\n"
        },
        "id": "l-9WhUWhISMq"
      },
      "outputs": [],
      "source": [
        "t_interval = (5, 15)  # units are seconds after start of recording\n",
        "interval_spike_times = restrict_spike_times(spike_times, t_interval)"
      ]
    },
    {
      "cell_type": "markdown",
      "metadata": {
        "execution": {},
        "id": "yDULMWiLISMq"
      },
      "source": [
        "Is this a representative interval? What fraction of the total spikes fall in this interval?"
      ]
    },
    {
      "cell_type": "code",
      "execution_count": 28,
      "metadata": {
        "execution": {},
        "pycharm": {
          "name": "#%%\n"
        },
        "colab": {
          "base_uri": "https://localhost:8080/"
        },
        "id": "B3guJXvrISMq",
        "outputId": "468bb81b-da27-4fee-c2a2-e5ac703eefbb"
      },
      "outputs": [
        {
          "output_type": "stream",
          "name": "stdout",
          "text": [
            "0.33% of the total spikes are in the interval\n"
          ]
        }
      ],
      "source": [
        "original_counts = sum([len(spikes) for spikes in spike_times])\n",
        "interval_counts = sum([len(spikes) for spikes in interval_spike_times])\n",
        "frac_interval_spikes = interval_counts / original_counts\n",
        "print(f\"{frac_interval_spikes:.2%} of the total spikes are in the interval\")"
      ]
    },
    {
      "cell_type": "markdown",
      "metadata": {
        "execution": {},
        "id": "fgf-_lfMISMq"
      },
      "source": [
        "How does this compare to the ratio between the interval duration and the experiment duration? (What fraction of the total time is in this interval?)\n",
        "\n",
        "We can approximate the experiment duration by taking the minimum and maximum spike time in the whole dataset. To do that, we \"concatenate\" all of the neurons into one array and then use `np.ptp` (\"peak-to-peak\") to get the difference between the maximum and minimum value:"
      ]
    },
    {
      "cell_type": "code",
      "execution_count": 29,
      "metadata": {
        "execution": {},
        "pycharm": {
          "name": "#%%\n"
        },
        "colab": {
          "base_uri": "https://localhost:8080/"
        },
        "id": "jSX_pKPIISMq",
        "outputId": "fe126dd0-b90f-4094-afc1-12108f9041bc"
      },
      "outputs": [
        {
          "output_type": "stream",
          "name": "stdout",
          "text": [
            "0.37% of the total time is in the interval\n"
          ]
        }
      ],
      "source": [
        "spike_times_flat = np.concatenate(spike_times)\n",
        "experiment_duration = np.ptp(spike_times_flat)\n",
        "interval_duration = t_interval[1] - t_interval[0]\n",
        "\n",
        "frac_interval_time = interval_duration / experiment_duration\n",
        "print(f\"{frac_interval_time:.2%} of the total time is in the interval\")"
      ]
    },
    {
      "cell_type": "markdown",
      "metadata": {
        "execution": {},
        "id": "g35SRDZSISMr"
      },
      "source": [
        "These two values—the fraction of total spikes and the fraction of total time—are similar. This suggests the average spike rate of the neuronal population is not very different in this interval compared to the entire recording.\n",
        "\n",
        "## Section 2.2: Plotting spike trains and rasters\n",
        "\n",
        "Now that we have a representative subset, we're ready to plot the spikes, using the matplotlib `plt.eventplot` function. Let's look at a single neuron first:"
      ]
    },
    {
      "cell_type": "code",
      "execution_count": 30,
      "metadata": {
        "execution": {},
        "pycharm": {
          "name": "#%%\n"
        },
        "colab": {
          "base_uri": "https://localhost:8080/",
          "height": 592
        },
        "id": "JdGIPC3tISMr",
        "outputId": "ef49a361-4898-437c-cb27-07004bfe5d0f"
      },
      "outputs": [
        {
          "output_type": "display_data",
          "data": {
            "text/plain": [
              "<Figure size 800x600 with 1 Axes>"
            ],
            "image/png": "[encoded data removed]"
          },
          "metadata": {
            "image/png": {
              "width": 775,
              "height": 575
            }
          }
        }
      ],
      "source": [
        "neuron_idx = 1\n",
        "plt.eventplot(interval_spike_times[neuron_idx], color=\".2\")\n",
        "plt.xlabel(\"Time (s)\")\n",
        "plt.yticks([]);"
      ]
    },
    {
      "cell_type": "markdown",
      "metadata": {
        "execution": {},
        "id": "DE_MVfS_ISMr"
      },
      "source": [
        "We can also plot multiple neurons. Here are three:"
      ]
    },
    {
      "cell_type": "code",
      "execution_count": 31,
      "metadata": {
        "execution": {},
        "pycharm": {
          "name": "#%%\n"
        },
        "colab": {
          "base_uri": "https://localhost:8080/",
          "height": 592
        },
        "id": "PxR9j5dCISMr",
        "outputId": "7a8ce9d1-0505-4d5c-fa6b-9a9bdebf4b3e"
      },
      "outputs": [
        {
          "output_type": "display_data",
          "data": {
            "text/plain": [
              "<Figure size 800x600 with 1 Axes>"
            ],
            "image/png": "[encoded data removed]"
          },
          "metadata": {
            "image/png": {
              "width": 775,
              "height": 575
            }
          }
        }
      ],
      "source": [
        "neuron_idx = [1, 11, 51]\n",
        "plt.eventplot(interval_spike_times[neuron_idx], color=\".2\")\n",
        "plt.xlabel(\"Time (s)\")\n",
        "plt.yticks([]);"
      ]
    },
    {
      "cell_type": "markdown",
      "metadata": {
        "execution": {},
        "id": "7_Woa0arISMr"
      },
      "source": [
        "This makes a \"raster\" plot, where the spikes from each neuron appear in a different row.\n",
        "\n",
        "Plotting a large number of neurons can give you a sense for the characteristics in the population. Let's show every 5th neuron that was recorded:"
      ]
    },
    {
      "cell_type": "code",
      "execution_count": 32,
      "metadata": {
        "execution": {},
        "pycharm": {
          "name": "#%%\n"
        },
        "colab": {
          "base_uri": "https://localhost:8080/",
          "height": 592
        },
        "id": "USX5mevqISMr",
        "outputId": "224c0243-5e43-473a-a201-6cab1581bdd9"
      },
      "outputs": [
        {
          "output_type": "display_data",
          "data": {
            "text/plain": [
              "<Figure size 800x600 with 1 Axes>"
            ],
            "image/png": "[encoded data removed]"
          },
          "metadata": {
            "image/png": {
              "width": 775,
              "height": 575
            }
          }
        }
      ],
      "source": [
        "neuron_idx = np.arange(0, len(spike_times), 5)\n",
        "plt.eventplot(interval_spike_times[neuron_idx], color=\".2\")\n",
        "plt.xlabel(\"Time (s)\")\n",
        "plt.yticks([]);"
      ]
    },
    {
      "cell_type": "markdown",
      "metadata": {
        "execution": {},
        "id": "joKu-J4PISMr"
      },
      "source": [
        "*Question*: How does the information in this plot relate to the histogram of total spike counts that you saw above?"
      ]
    },
    {
      "cell_type": "markdown",
      "metadata": {
        "execution": {},
        "id": "0Vsaw_a4ISMr"
      },
      "source": [
        "[*Click for solution*](https://github.com/NeuromatchAcademy/course-content/tree/main/tutorials/W1D1_ModelTypes/solutions/W1D1_Tutorial1_Solution_60e8b44b.py)\n",
        "\n"
      ]
    },
    {
      "cell_type": "code",
      "execution_count": 6,
      "metadata": {
        "cellView": "form",
        "execution": {},
        "colab": {
          "base_uri": "https://localhost:8080/",
          "height": 580,
          "referenced_widgets": [
            "cbd2e4b061294adf9df138113b1d3384",
            "e2b73103696940c592c72183f522976c",
            "3ef18c6626684502bc424c3c43da35fa",
            "188552d81f5a46139a7685fafc27636c",
            "bb68e725d730438991436d341801434f",
            "b1fd25175e4c4932ac5bac13c4f474a9"
          ]
        },
        "id": "n6dXwgOGISMr",
        "outputId": "2b59b197-d022-437b-b095-c3c3541019f8"
      },
      "outputs": [
        {
          "output_type": "display_data",
          "data": {
            "text/plain": [
              "Tab(children=(Output(), Output()), _titles={'0': 'Youtube', '1': 'Bilibili'})"
            ],
            "application/vnd.jupyter.widget-view+json": {
              "version_major": 2,
              "version_minor": 0,
              "model_id": "cbd2e4b061294adf9df138113b1d3384"
            }
          },
          "metadata": {}
        }
      ],
      "source": [
        "# @title Video 3: Visualizing activity\n",
        "from ipywidgets import widgets\n",
        "from IPython.display import YouTubeVideo\n",
        "from IPython.display import IFrame\n",
        "from IPython.display import display\n",
        "\n",
        "\n",
        "class PlayVideo(IFrame):\n",
        "  def __init__(self, id, source, page=1, width=400, height=300, **kwargs):\n",
        "    self.id = id\n",
        "    if source == 'Bilibili':\n",
        "      src = f'https://player.bilibili.com/player.html?bvid={id}&page={page}'\n",
        "    elif source == 'Osf':\n",
        "      src = f'https://mfr.ca-1.osf.io/render?url=https://osf.io/download/{id}/?direct%26mode=render'\n",
        "    super(PlayVideo, self).__init__(src, width, height, **kwargs)\n",
        "\n",
        "\n",
        "def display_videos(video_ids, W=400, H=300, fs=1):\n",
        "  tab_contents = []\n",
        "  for i, video_id in enumerate(video_ids):\n",
        "    out = widgets.Output()\n",
        "    with out:\n",
        "      if video_ids[i][0] == 'Youtube':\n",
        "        video = YouTubeVideo(id=video_ids[i][1], width=W,\n",
        "                             height=H, fs=fs, rel=0)\n",
        "        print(f'Video available at https://youtube.com/watch?v={video.id}')\n",
        "      else:\n",
        "        video = PlayVideo(id=video_ids[i][1], source=video_ids[i][0], width=W,\n",
        "                          height=H, fs=fs, autoplay=False)\n",
        "        if video_ids[i][0] == 'Bilibili':\n",
        "          print(f'Video available at https://www.bilibili.com/video/{video.id}')\n",
        "        elif video_ids[i][0] == 'Osf':\n",
        "          print(f'Video available at https://osf.io/{video.id}')\n",
        "      display(video)\n",
        "    tab_contents.append(out)\n",
        "  return tab_contents\n",
        "\n",
        "\n",
        "video_ids = [('Youtube', 'QGA5FCW7kkA'), ('Bilibili', 'BV1dt4y1Q7C5')]\n",
        "tab_contents = display_videos(video_ids, W=854, H=480)\n",
        "tabs = widgets.Tab()\n",
        "tabs.children = tab_contents\n",
        "for i in range(len(tab_contents)):\n",
        "  tabs.set_title(i, video_ids[i][0])\n",
        "display(tabs)"
      ]
    },
    {
      "cell_type": "code",
      "execution_count": null,
      "metadata": {
        "cellView": "form",
        "execution": {},
        "id": "wXIJBMI8ISMr"
      },
      "outputs": [],
      "source": [
        "# @title Submit your feedback\n",
        "content_review(f\"{feedback_prefix}_Visualizing_activity_Video\")"
      ]
    },
    {
      "cell_type": "markdown",
      "metadata": {
        "execution": {},
        "id": "OBMUlt3CISMr"
      },
      "source": [
        "---\n",
        "\n",
        "# Section 3: Inter-spike intervals and their distributions\n",
        "\n",
        "*Estimated timing to here from start of tutorial: 25 min*"
      ]
    },
    {
      "cell_type": "markdown",
      "metadata": {
        "execution": {},
        "id": "J65b0wtWISMr"
      },
      "source": [
        "Given the ordered arrays of spike times for each neuron in `spike_times`, which we've just visualized, what can we ask next?\n",
        "\n",
        "Scientific questions are informed by existing models. So, what knowledge do we already have that can inform questions about this data?\n",
        "\n",
        "We know that there are physical constraints on neuron spiking. Spiking costs energy, which the neuron's cellular machinery can only obtain at a finite rate. Therefore neurons should have a refractory period: they can only fire as quickly as their metabolic processes can support, and there is a minimum delay between consecutive spikes of the same neuron.\n",
        "\n",
        "More generally, we can ask \"how long does a neuron wait to spike again?\" or \"what is the longest a neuron will wait?\" Can we transform spike times into something else, to address questions like these more directly?\n",
        "\n",
        "We can consider the inter-spike times (or interspike intervals: ISIs). These are simply the time differences between consecutive spikes of the same neuron.\n",
        "\n",
        "### Exercise 3: Plot the distribution of ISIs for a single neuron\n",
        "\n",
        "*Exercise objective:* make a histogram, like we did for spike counts, to show the distribution of ISIs for one of the neurons in the dataset.\n",
        "\n",
        "Do this in three steps:\n",
        "\n",
        "1. Extract the spike times for one of the neurons\n",
        "2. Compute the ISIs (the amount of time between spikes, or equivalently, the difference between adjacent spike times)\n",
        "3. Plot a histogram with the array of individual ISIs"
      ]
    },
    {
      "cell_type": "code",
      "execution_count": 35,
      "metadata": {
        "execution": {},
        "pycharm": {
          "name": "#%%\n"
        },
        "colab": {
          "base_uri": "https://localhost:8080/",
          "height": 592
        },
        "id": "itinO_UyISMr",
        "outputId": "4b4f62e7-477f-449a-cfaf-0287d08942fb"
      },
      "outputs": [
        {
          "output_type": "display_data",
          "data": {
            "text/plain": [
              "<Figure size 800x600 with 1 Axes>"
            ],
            "image/png": "[encoded data removed]"
          },
          "metadata": {
            "image/png": {
              "width": 775,
              "height": 575
            }
          }
        }
      ],
      "source": [
        "def compute_single_neuron_isis(spike_times, neuron_idx):\n",
        "  \"\"\"Compute a vector of ISIs for a single neuron given spike times.\n",
        "\n",
        "  Args:\n",
        "    spike_times (list of 1D arrays): Spike time dataset, with the first\n",
        "      dimension corresponding to different neurons.\n",
        "    neuron_idx (int): Index of the unit to compute ISIs for.\n",
        "\n",
        "  Returns:\n",
        "    isis (1D array): Duration of time between each spike from one neuron.\n",
        "  \"\"\"\n",
        "  #############################################################################\n",
        "  # Students: Fill in missing code (...) and comment or remove the next line\n",
        "  #############################################################################\n",
        "\n",
        "  # Extract the spike times for the specified neuron\n",
        "  single_neuron_spikes = spike_times[neuron_idx]\n",
        "\n",
        "  # Compute the ISIs for this set of spikes\n",
        "  # Hint: the function np.diff computes discrete differences along an array\n",
        "  isis = np.diff(single_neuron_spikes)\n",
        "\n",
        "  return isis\n",
        "\n",
        "# Compute ISIs\n",
        "single_neuron_isis = compute_single_neuron_isis(spike_times, neuron_idx=283)\n",
        "\n",
        "# Visualize ISIs\n",
        "plot_isis(single_neuron_isis)"
      ]
    },
    {
      "cell_type": "markdown",
      "metadata": {
        "execution": {},
        "pycharm": {
          "name": "#%%\n"
        },
        "id": "-b233lmBISMr"
      },
      "source": [
        "[*Click for solution*](https://github.com/NeuromatchAcademy/course-content/tree/main/tutorials/W1D1_ModelTypes/solutions/W1D1_Tutorial1_Solution_2972c168.py)\n",
        "\n",
        "*Example output:*\n",
        "\n",
        "<img alt='Solution hint' align='left' width=775.0 height=575.0 src=https://raw.githubusercontent.com/NeuromatchAcademy/course-content/main/tutorials/W1D1_ModelTypes/static/W1D1_Tutorial1_Solution_2972c168_0.png>\n",
        "\n"
      ]
    },
    {
      "cell_type": "markdown",
      "metadata": {
        "execution": {},
        "id": "CDq6YRTXISMs"
      },
      "source": [
        "In general, the shorter ISIs are predominant, with counts decreasing rapidly (and smoothly, more or less) with increasing ISI. However, counts also rapidly decrease to zero with _decreasing_ ISI below the maximum of the distribution (8-11 ms). The absence of these very low ISIs agrees with the refractory period hypothesis: the neuron cannot fire quickly enough to populate this region of the ISI distribution.\n",
        "\n",
        "Check the distributions of some other neurons. To resolve various features of the distributions, you might need to play with the value of `bins` in the call to `plt.hist`. Using too few bins might smooth over interesting details, but if you use too many bins, the random variability will start to dominate.\n",
        "\n",
        "You might also want to restrict the range to see the shape of the distribution when focusing on relatively short or long ISIs. *Hint:* `plt.hist` takes a `range` argument"
      ]
    },
    {
      "cell_type": "code",
      "execution_count": null,
      "metadata": {
        "cellView": "form",
        "execution": {},
        "id": "tnDJVaO5ISMs"
      },
      "outputs": [],
      "source": [
        "# @title Submit your feedback\n",
        "content_review(f\"{feedback_prefix}_ISIs_and_their_distributions_Exercise\")"
      ]
    },
    {
      "cell_type": "markdown",
      "metadata": {
        "execution": {},
        "id": "cTeFC4AKISMs"
      },
      "source": [
        "---\n",
        "\n",
        "# Section 4: What is the functional form of an ISI distribution?\n",
        "\n",
        "*Estimated timing to here from start of tutorial: 35 min*"
      ]
    },
    {
      "cell_type": "code",
      "execution_count": 36,
      "metadata": {
        "cellView": "form",
        "execution": {},
        "colab": {
          "base_uri": "https://localhost:8080/",
          "height": 580,
          "referenced_widgets": [
            "60fdf138ea4e4d418a2819975ec4e65b",
            "92bb5fed49354c47b380d2227e19e70e",
            "0e99a40bc55b490da983a41aa8ea9dbf",
            "a25f591af84447cd86b7981c4c5490d5",
            "ed48bc1b2bb148d6a20d0020bd5c97ba",
            "9726b5f5b8dd43a8bd725e65806b3e36"
          ]
        },
        "id": "bBlKsMz5ISMs",
        "outputId": "50b45209-c965-4831-f0a8-7265f2460448"
      },
      "outputs": [
        {
          "output_type": "display_data",
          "data": {
            "text/plain": [
              "Tab(children=(Output(), Output()), _titles={'0': 'Youtube', '1': 'Bilibili'})"
            ],
            "application/vnd.jupyter.widget-view+json": {
              "version_major": 2,
              "version_minor": 0,
              "model_id": "60fdf138ea4e4d418a2819975ec4e65b"
            }
          },
          "metadata": {}
        }
      ],
      "source": [
        "# @title Video 4: ISI distribution\n",
        "from ipywidgets import widgets\n",
        "from IPython.display import YouTubeVideo\n",
        "from IPython.display import IFrame\n",
        "from IPython.display import display\n",
        "\n",
        "\n",
        "class PlayVideo(IFrame):\n",
        "  def __init__(self, id, source, page=1, width=400, height=300, **kwargs):\n",
        "    self.id = id\n",
        "    if source == 'Bilibili':\n",
        "      src = f'https://player.bilibili.com/player.html?bvid={id}&page={page}'\n",
        "    elif source == 'Osf':\n",
        "      src = f'https://mfr.ca-1.osf.io/render?url=https://osf.io/download/{id}/?direct%26mode=render'\n",
        "    super(PlayVideo, self).__init__(src, width, height, **kwargs)\n",
        "\n",
        "\n",
        "def display_videos(video_ids, W=400, H=300, fs=1):\n",
        "  tab_contents = []\n",
        "  for i, video_id in enumerate(video_ids):\n",
        "    out = widgets.Output()\n",
        "    with out:\n",
        "      if video_ids[i][0] == 'Youtube':\n",
        "        video = YouTubeVideo(id=video_ids[i][1], width=W,\n",
        "                             height=H, fs=fs, rel=0)\n",
        "        print(f'Video available at https://youtube.com/watch?v={video.id}')\n",
        "      else:\n",
        "        video = PlayVideo(id=video_ids[i][1], source=video_ids[i][0], width=W,\n",
        "                          height=H, fs=fs, autoplay=False)\n",
        "        if video_ids[i][0] == 'Bilibili':\n",
        "          print(f'Video available at https://www.bilibili.com/video/{video.id}')\n",
        "        elif video_ids[i][0] == 'Osf':\n",
        "          print(f'Video available at https://osf.io/{video.id}')\n",
        "      display(video)\n",
        "    tab_contents.append(out)\n",
        "  return tab_contents\n",
        "\n",
        "\n",
        "video_ids = [('Youtube', 'DHhM80MOTe8'), ('Bilibili', 'BV1ov411B7Pm')]\n",
        "tab_contents = display_videos(video_ids, W=854, H=480)\n",
        "tabs = widgets.Tab()\n",
        "tabs.children = tab_contents\n",
        "for i in range(len(tab_contents)):\n",
        "  tabs.set_title(i, video_ids[i][0])\n",
        "display(tabs)"
      ]
    },
    {
      "cell_type": "code",
      "execution_count": null,
      "metadata": {
        "cellView": "form",
        "execution": {},
        "id": "9AlnCJ_qISMs"
      },
      "outputs": [],
      "source": [
        "# @title Submit your feedback\n",
        "content_review(f\"{feedback_prefix}_ISI_distribution_Video\")"
      ]
    },
    {
      "cell_type": "markdown",
      "metadata": {
        "execution": {},
        "id": "96CxxNHnISMs"
      },
      "source": [
        "The ISI histograms seem to follow continuous, monotonically decreasing functions above their maxima. The function is clearly non-linear. Could it belong to a single family of functions?\n",
        "\n",
        "To motivate the idea of using a mathematical function to explain physiological phenomena, let's define a few different function forms that we might expect the relationship to follow: exponential, inverse, and linear."
      ]
    },
    {
      "cell_type": "code",
      "execution_count": 38,
      "metadata": {
        "execution": {},
        "pycharm": {
          "name": "#%%\n"
        },
        "id": "zQADSOXMISMs"
      },
      "outputs": [],
      "source": [
        "def exponential(xs, scale, rate, x0):\n",
        "  \"\"\"A simple parameterized exponential function, applied element-wise.\n",
        "\n",
        "  Args:\n",
        "    xs (np.ndarray or float): Input(s) to the function.\n",
        "    scale (float): Linear scaling factor.\n",
        "    rate (float): Exponential growth (positive) or decay (negative) rate.\n",
        "    x0 (float): Horizontal offset.\n",
        "\n",
        "  \"\"\"\n",
        "  ys = scale * np.exp(rate * (xs - x0))\n",
        "  return ys\n",
        "\n",
        "def inverse(xs, scale, x0):\n",
        "  \"\"\"A simple parameterized inverse function (`1/x`), applied element-wise.\n",
        "\n",
        "  Args:\n",
        "    xs (np.ndarray or float): Input(s) to the function.\n",
        "    scale (float): Linear scaling factor.\n",
        "    x0 (float): Horizontal offset.\n",
        "\n",
        "  \"\"\"\n",
        "  ys = scale / (xs - x0)\n",
        "  return ys\n",
        "\n",
        "def linear(xs, slope, y0):\n",
        "  \"\"\"A simple linear function, applied element-wise.\n",
        "\n",
        "  Args:\n",
        "    xs (np.ndarray or float): Input(s) to the function.\n",
        "    slope (float): Slope of the line.\n",
        "    y0 (float): y-intercept of the line.\n",
        "\n",
        "  \"\"\"\n",
        "  ys = slope * xs + y0\n",
        "  return ys"
      ]
    },
    {
      "cell_type": "markdown",
      "metadata": {
        "execution": {},
        "id": "jnCJGPlkISMs"
      },
      "source": [
        "### Interactive Demo 4: ISI functions explorer\n",
        "\n",
        "Here is an interactive demo where you can vary the parameters of these functions and see how well the resulting outputs correspond to the data. Adjust the parameters by moving the sliders and see how close you can get the lines to follow the falling curve of the histogram. This will give you a taste of what you're trying to do when you *fit a model* to data.\n",
        "\n",
        "\"Interactive demo\" cells have hidden code that defines an interface where you can play with the parameters of some function using sliders. You don't need to worry about how the code works – but you do need to **run the cell** to enable the sliders.\n",
        "\n",
        "- Which type of function (exponential/inverse/linear) can you make match the data best?\n"
      ]
    },
    {
      "cell_type": "code",
      "execution_count": 39,
      "metadata": {
        "cellView": "form",
        "execution": {},
        "pycharm": {
          "name": "#%%\n"
        },
        "colab": {
          "base_uri": "https://localhost:8080/",
          "height": 816,
          "referenced_widgets": [
            "c61aee3aeb3a476eb3fcd72c1b5e3ed3",
            "4a171e8585444dd1bc17ca1819a6be76",
            "6f186e428838467dac0285829655ebf7",
            "b5524fbae315431784b32f74aba03a5c",
            "7c9188604fbd4802a76f4b82b05cc362",
            "5f11e1c32ad8446f8329d5bd0604e80c",
            "7ff5a684f7004e08b6e96e611cb66381",
            "c1cdc1143b194ad8839952e62bec3d98",
            "417a457c53934b0ebd3a229ea7c5c604",
            "9fe843b3482e4906b56eea60cf953d18",
            "814107704e194b74a85fcb045311854d",
            "e1423d218b9d4770b2d7cdc68d0c72e9",
            "16b8983072ca483bb2884c72464b3db4",
            "6c82290e4864466aaf192117d4fcc4c5",
            "6523b4d3ba4e491b9b947452650e915e",
            "7e409bfea58e4a4280321fb0f7bef079",
            "baff1df564a94e80aee2bae3f2d7bcaa",
            "e3a8c3a4be8943c4ae3b17da208f3ee5",
            "6f93b396405349a5b84791cbe1f9cd85",
            "61fbda2db745463eb149620755877228",
            "adf81cbe13b14ec286c1215a21c54177",
            "72ee194bf80b421cba00795443f0c091",
            "e4457003ea8f4967914e787280cc874a",
            "9b2296a26eee41bab0494d8a40bde421",
            "66040f09665e402e906e68ae149b1652"
          ]
        },
        "id": "8U_JJT_yISMs",
        "outputId": "d2eb0817-c981-45f6-a48f-c470a47c4513"
      },
      "outputs": [
        {
          "output_type": "display_data",
          "data": {
            "text/plain": [
              "interactive(children=(FloatSlider(value=1000.0, description='exp_scale', max=20000.0, step=250.0), FloatSlider…"
            ],
            "application/vnd.jupyter.widget-view+json": {
              "version_major": 2,
              "version_minor": 0,
              "model_id": "c61aee3aeb3a476eb3fcd72c1b5e3ed3"
            }
          },
          "metadata": {}
        }
      ],
      "source": [
        "#@markdown Be sure to run this cell to enable the demo\n",
        "# Don't worry about understanding this code! It's to setup an interactive plot.\n",
        "single_neuron_idx = 283\n",
        "single_neuron_spikes = spike_times[single_neuron_idx]\n",
        "single_neuron_isis = np.diff(single_neuron_spikes)\n",
        "\n",
        "counts, edges = np.histogram(\n",
        "  single_neuron_isis,\n",
        "  bins=50,\n",
        "  range=(0, single_neuron_isis.max())\n",
        ")\n",
        "\n",
        "functions = dict(\n",
        "  exponential=exponential,\n",
        "  inverse=inverse,\n",
        "  linear=linear,\n",
        ")\n",
        "\n",
        "colors = dict(\n",
        "  exponential=\"C1\",\n",
        "  inverse=\"C2\",\n",
        "  linear=\"C4\",\n",
        ")\n",
        "\n",
        "@widgets.interact(\n",
        "  exp_scale=widgets.FloatSlider(1000, min=0, max=20000, step=250),\n",
        "  exp_rate=widgets.FloatSlider(-10, min=-200, max=50, step=1),\n",
        "  exp_x0=widgets.FloatSlider(0.1, min=-0.5, max=0.5, step=0.005),\n",
        "  inv_scale=widgets.FloatSlider(1000, min=0, max=3e2, step=10),\n",
        "  inv_x0=widgets.FloatSlider(0, min=-0.2, max=0.2, step=0.01),\n",
        "  lin_slope=widgets.FloatSlider(-1e5, min=-6e5, max=1e5, step=10000),\n",
        "  lin_y0=widgets.FloatSlider(10000, min=0, max=4e4, step=1000),\n",
        ")\n",
        "def fit_plot(\n",
        "  exp_scale=1000, exp_rate=-10, exp_x0=0.1,\n",
        "  inv_scale=1000, inv_x0=0,\n",
        "  lin_slope=-1e5, lin_y0=2000,\n",
        "):\n",
        "  \"\"\"Helper function for plotting function fits with interactive sliders.\"\"\"\n",
        "  func_params = dict(\n",
        "    exponential=(exp_scale, exp_rate, exp_x0),\n",
        "    inverse=(inv_scale, inv_x0),\n",
        "    linear=(lin_slope, lin_y0),\n",
        "  )\n",
        "  f, ax = plt.subplots()\n",
        "  ax.fill_between(edges[:-1], counts, step=\"post\", alpha=.5)\n",
        "  xs = np.linspace(1e-10, edges.max())\n",
        "  for name, function in functions.items():\n",
        "    ys = function(xs, *func_params[name])\n",
        "    ax.plot(xs, ys, lw=3, color=colors[name], label=name);\n",
        "  ax.set(\n",
        "      xlim=(edges.min(), edges.max()),\n",
        "      ylim=(0, counts.max() * 1.1),\n",
        "      xlabel=\"ISI (s)\",\n",
        "      ylabel=\"Number of spikes\",\n",
        "  )\n",
        "  ax.legend()\n",
        "  plt.show()"
      ]
    },
    {
      "cell_type": "markdown",
      "metadata": {
        "execution": {},
        "id": "r28aANP3ISMs"
      },
      "source": [
        "[*Click for solution*](https://github.com/NeuromatchAcademy/course-content/tree/main/tutorials/W1D1_ModelTypes/solutions/W1D1_Tutorial1_Solution_1bfa4ab0.py)\n",
        "\n"
      ]
    },
    {
      "cell_type": "code",
      "execution_count": null,
      "metadata": {
        "cellView": "form",
        "execution": {},
        "id": "m8ql3nH9ISMs"
      },
      "outputs": [],
      "source": [
        "# @title Submit your feedback\n",
        "content_review(f\"{feedback_prefix}_ISI_functions_explorer_Interactive_Demo_and_Discussion\")"
      ]
    },
    {
      "cell_type": "code",
      "execution_count": 40,
      "metadata": {
        "cellView": "form",
        "execution": {},
        "colab": {
          "base_uri": "https://localhost:8080/",
          "height": 580,
          "referenced_widgets": [
            "1549ffa0cf16470c84fe3101d780baba",
            "670053ff3d55491dbb1277f04daab45f",
            "5d6cb70da5b2429198392b4676a183b5",
            "089bbdc5fa06450f9118b53b4b07980d",
            "eb7b068f81434a4584159c03d0e2af24",
            "59224c9197dd46d7975ee7a22dac7ebf"
          ]
        },
        "id": "c-0V5pW7ISMs",
        "outputId": "0d7d3bfb-44ac-4151-c095-ddf93b27ebe6"
      },
      "outputs": [
        {
          "output_type": "display_data",
          "data": {
            "text/plain": [
              "Tab(children=(Output(), Output()), _titles={'0': 'Youtube', '1': 'Bilibili'})"
            ],
            "application/vnd.jupyter.widget-view+json": {
              "version_major": 2,
              "version_minor": 0,
              "model_id": "1549ffa0cf16470c84fe3101d780baba"
            }
          },
          "metadata": {}
        }
      ],
      "source": [
        "# @title Video 5: Fitting models by hand\n",
        "from ipywidgets import widgets\n",
        "from IPython.display import YouTubeVideo\n",
        "from IPython.display import IFrame\n",
        "from IPython.display import display\n",
        "\n",
        "\n",
        "class PlayVideo(IFrame):\n",
        "  def __init__(self, id, source, page=1, width=400, height=300, **kwargs):\n",
        "    self.id = id\n",
        "    if source == 'Bilibili':\n",
        "      src = f'https://player.bilibili.com/player.html?bvid={id}&page={page}'\n",
        "    elif source == 'Osf':\n",
        "      src = f'https://mfr.ca-1.osf.io/render?url=https://osf.io/download/{id}/?direct%26mode=render'\n",
        "    super(PlayVideo, self).__init__(src, width, height, **kwargs)\n",
        "\n",
        "\n",
        "def display_videos(video_ids, W=400, H=300, fs=1):\n",
        "  tab_contents = []\n",
        "  for i, video_id in enumerate(video_ids):\n",
        "    out = widgets.Output()\n",
        "    with out:\n",
        "      if video_ids[i][0] == 'Youtube':\n",
        "        video = YouTubeVideo(id=video_ids[i][1], width=W,\n",
        "                             height=H, fs=fs, rel=0)\n",
        "        print(f'Video available at https://youtube.com/watch?v={video.id}')\n",
        "      else:\n",
        "        video = PlayVideo(id=video_ids[i][1], source=video_ids[i][0], width=W,\n",
        "                          height=H, fs=fs, autoplay=False)\n",
        "        if video_ids[i][0] == 'Bilibili':\n",
        "          print(f'Video available at https://www.bilibili.com/video/{video.id}')\n",
        "        elif video_ids[i][0] == 'Osf':\n",
        "          print(f'Video available at https://osf.io/{video.id}')\n",
        "      display(video)\n",
        "    tab_contents.append(out)\n",
        "  return tab_contents\n",
        "\n",
        "\n",
        "video_ids = [('Youtube', 'uW2HDk_4-wk'), ('Bilibili', 'BV1w54y1S7Eb')]\n",
        "tab_contents = display_videos(video_ids, W=854, H=480)\n",
        "tabs = widgets.Tab()\n",
        "tabs.children = tab_contents\n",
        "for i in range(len(tab_contents)):\n",
        "  tabs.set_title(i, video_ids[i][0])\n",
        "display(tabs)"
      ]
    },
    {
      "cell_type": "code",
      "execution_count": null,
      "metadata": {
        "cellView": "form",
        "execution": {},
        "id": "z2xoqazNISMt"
      },
      "outputs": [],
      "source": [
        "# @title Submit your feedback\n",
        "content_review(f\"{feedback_prefix}_Fitting_models_by_hand_Video\")"
      ]
    },
    {
      "cell_type": "markdown",
      "metadata": {
        "execution": {},
        "id": "vIbgpnbAISMt"
      },
      "source": [
        "---\n",
        "# Section 5: Reflecting on what models\n",
        "\n",
        "*Estimated timing to here from start of tutorial: 40 min*"
      ]
    },
    {
      "cell_type": "markdown",
      "metadata": {
        "execution": {},
        "id": "nVhxZLpkISMt"
      },
      "source": [
        "## Think! 5: Reflecting on what models\n",
        "\n",
        "Please discuss the following questions for around 10 minutes with your group:\n",
        "- Have you seen what models before?\n",
        "- Have you ever done one?\n",
        "- Why are what models useful?\n",
        "- When are they possible? Does your field have what models?\n",
        "- What do we learn from constructing them?"
      ]
    },
    {
      "cell_type": "code",
      "execution_count": null,
      "metadata": {
        "cellView": "form",
        "execution": {},
        "id": "cajtKWU4ISMt"
      },
      "outputs": [],
      "source": [
        "# @title Submit your feedback\n",
        "content_review(f\"{feedback_prefix}_Reflecting_on_what_models_Discussion\")"
      ]
    },
    {
      "cell_type": "markdown",
      "metadata": {
        "execution": {},
        "id": "TMNl9VSWISMt"
      },
      "source": [
        "---\n",
        "# Summary\n",
        "\n",
        "*Estimated timing of tutorial: 50 minutes*\n",
        "\n",
        "In this tutorial, we loaded some neural data and poked at it to understand how the dataset is organized. Then we made some basic plots to visualize (1) the average level of activity across the population and (2) the distribution of ISIs for an individual neuron. In the very last bit, we started to think about using mathematical formalisms to understand or explain some physiological phenomenon. All of this only allowed us to understand \"What\" the data looks like.\n",
        "\n",
        "This is the first step towards developing models that can tell us something about the brain. That's what we'll focus on in the next two tutorials."
      ]
    }
  ],
  "metadata": {
    "colab": {
      "name": "W1D1_Tutorial1",
      "provenance": [],
      "toc_visible": true,
      "include_colab_link": true
    },
    "kernel": {
      "display_name": "Python 3",
      "language": "python",
      "name": "python3"
    },
    "kernelspec": {
      "display_name": "Python 3",
      "name": "python3"
    },
    "language_info": {
      "codemirror_mode": {
        "name": "ipython",
        "version": 3
      },
      "file_extension": ".py",
      "mimetype": "text/x-python",
      "name": "python",
      "nbconvert_exporter": "python",
      "pygments_lexer": "ipython3",
      "version": "3.9.21"
    },
    "widgets": {
      "application/vnd.jupyter.widget-state+json": {
        "049fbf8257d24383b91cdac3fd468571": {
          "model_module": "@jupyter-widgets/controls",
          "model_name": "TabModel",
          "model_module_version": "1.5.0",
          "state": {
            "_dom_classes": [],
            "_model_module": "@jupyter-widgets/controls",
            "_model_module_version": "1.5.0",
            "_model_name": "TabModel",
            "_titles": {
              "0": "Youtube",
              "1": "Bilibili"
            },
            "_view_count": null,
            "_view_module": "@jupyter-widgets/controls",
            "_view_module_version": "1.5.0",
            "_view_name": "TabView",
            "box_style": "",
            "children": [
              "IPY_MODEL_47ff1b868d804c299a3c2272502558b3",
              "IPY_MODEL_aaae131655fe4c65b3095b3e237c4aec"
            ],
            "layout": "IPY_MODEL_21c5c738f7194e87a6ed7eb6521c91e3",
            "selected_index": 0
          }
        },
        "47ff1b868d804c299a3c2272502558b3": {
          "model_module": "@jupyter-widgets/output",
          "model_name": "OutputModel",
          "model_module_version": "1.0.0",
          "state": {
            "_dom_classes": [],
            "_model_module": "@jupyter-widgets/output",
            "_model_module_version": "1.0.0",
            "_model_name": "OutputModel",
            "_view_count": null,
            "_view_module": "@jupyter-widgets/output",
            "_view_module_version": "1.0.0",
            "_view_name": "OutputView",
            "layout": "IPY_MODEL_c29682d3c35544668ac846942921263c",
            "msg_id": "",
            "outputs": [
              {
                "output_type": "stream",
                "name": "stdout",
                "text": [
                  "Video available at https://youtube.com/watch?v=KgqR_jbjMQg\n"
                ]
              },
              {
                "output_type": "display_data",
                "data": {
                  "text/plain": "<IPython.lib.display.YouTubeVideo at 0x7d9a011ebe90>",
                  "text/html": "\n        <iframe\n            width=\"854\"\n            height=\"480\"\n            src=\"https://www.youtube.com/embed/KgqR_jbjMQg?fs=1&rel=0\"\n            frameborder=\"0\"\n            allowfullscreen\n            \n        ></iframe>\n        ",
                  "image/jpeg": "/9j/4AAQSkZJRgABAQAAAQABAAD/2wCEAAUDBAkICgsICAgICAgKCgoICAgICggICAgICAoICggICAoIChALCAgOCggIDRUNDhERExMTCAsWGBYSGBASExIBBQUFCAcIDwgJDhINDg8SEhISEhISEhISEhISEhISEhISEhISEhISEhISEhISEhISEhISEhISEhISEhISEhISEv/AABEIAWgB4AMBIgACEQEDEQH/xAAdAAEAAgMBAQEBAAAAAAAAAAAABQYEBwgDAgEJ/8QAWhAAAQMCAwMGBgsMBggFBQAAAQACAwQRBRIhBhMxBxYiQVFSCBRhcZLSGCMyM1RVgZGT1OIVNUJzdZShpLGytNEJYnKCwfAkNjdDdLPh8Rc0VoO1JYWio8T/xAAaAQEBAAMBAQAAAAAAAAAAAAAAAQIEBQMG/8QALBEBAAIBAwIDBwUBAAAAAAAAAAECEQMEIRIxBUFRFCJhgbHB8BORodHxI//aAAwDAQACEQMRAD8A4yREQEREBERAREQEREBERAREQEREBERAREQEREBERAREQEREBERAREQEREBERAREQEREBERAREQEREBERAREQEREBERAREQEREBERAREQEREBERAREQEREBERAREQEREBERAREQEREBERAREQEREBERAREQEREBERAREQEREBERAREQEREBERAREQEREBERAREQEREBERART/NSfvw+k/wBROak/fh9J/qIIBFP81J+/D6T/AFE5qT9+H0n+oggEU/zUn78PpP8AUTmpP34fSf6iCART/NSfvw+k/wBROak/fh9J/qIIBFP81J+/D6T/AFE5qT9+H0n+oggEU/zUn78PpP8AUTmpP34fSf6iCART/NSfvw+k/wBROak/fh9J/qIIBFP81J+/D6T/AFE5qT9+H0n+oggEU/zUn78PpP8AUTmpP34fSf6iCART/NSfvw+k/wBROak/fh9J/qIIBFP81J+/D6T/AFE5qT9+H0n+oggEU/zUn78PpP8AUTmpP34fSf6iCART/NSfvw+k/wBROak/fh9J/qIIBFP81J+/D6T/AFE5qT9+H0n+oggEU/zUn78PpP8AUTmpP34fSf6iCART/NSfvw+k/wBROak/fh9J/qIIBFP81J+/D6T/AFE5qT9+H0n+oggEU/zUn78PpP8AUTmpP34fSf6iCART/NSfvw+k/wBROak/fh9J/qIIBFP81J+/D6T/AFE5qT9+H0n+oggEU/zUn78PpP8AUTmpP34fSf6iCART/NSfvw+k/wBROak/fh9J/qIIBFP81J+/D6T/AFE5qT9+H0n+oggEU/zUn78PpP8AUTmpP34fSf6iCART/NSfvw+k/wBROak/fh9J/qIIBFP81J+/D6T/AFE5qT9+H0n+oggEU/zUn78PpP8AUTmpP34fSf6iCART/NSfvw+k/wBROak/fh9J/qIIBFP81J+/D6T/AFE5qT9+H0n+oggEU/zUn78PpP8AUTmpP34fSf6iC5oiLJiIiICIiAiIgIiICIiAiIgIiICIiAiIgIiICIiAiIgIiICIiAiIgIiICIiAiIgIiICIiAiIgIiICIiAiIgIiICIiAiIgIiICIiAiIgIobHMd8VeI91nuwPvny8S4WtlPd/SsDncPg5+k+wouFoRVfncPg5+k+wnO4fBz9J9hDC0IqvzuHwc/SfYTncPg5+k+whhaEVX53D4OfpPsJzuHwc/SfYQwtCKr87h8HP0n2E53D4OfpPsIYWhFV+dw+Dn6T7Cc7h8HP0n2EMLQiq/O4fBz9J9hOdw+Dn6T7CGFoRVfncPg5+k+wnO4fBz9J9hDC0IqvzuHwc/SfYTncPg5+k+whhaEVX53D4OfpPsJzuHwc/SfYQwtCKr87h8HP0n2E53D4OfpPsIYWhFV+dw+Dn6T7Cc7h8HP0n2EMLQiq/O4fBz9J9hOdw+Dn6T7CGFoRVfncPg5+k+wnO4fBz9J9hDC0IqvzuHwc/SfYTncPg5+k+whhaEVX53D4OfpPsJzuHwc/SfYQwtCKr87h8HP0n2E53D4OfpPsIYWhFXKPagSPZHuCM72svvL2zEC9smvFWNAREVQREQEREBERAREQEREBERAREQEREBERAREQEREFM259/b+Kb+/KoBT+3Pv7fxTf35VALFkIiICK6VXJTj8VJ905MGr20AgbVmrMR3IpntD2zlw/3eRwdfsKpaAimtj9lMQxiY0uF0VRXVDY3Tuhp2GR7YWOY10jgODA6Rgv2vHavPavZutwqc0eJUs1HVNa17oJ25JAyQXY4jsIQRKIiAiIgIrzyKcl9dtbWyYdh01HBPFTPrXOrXzRxGKOWnhc1pghkcZM1Sw2LQLB2vAGsbUYPJh1XU4fM6N81JUz0croi50TpaaV8Ujoy9rXGMuYSCWg2IuBwQRqIiAi2ByJck9ftdUzUeGzUUEtPB4zI6ufPGwxmRkdmGCCUl+Z40IAtfVUzHsNfR1E9HKWOkp5paaR0ZcY3Pge6N5YXNBLCWm1wDa2gQYSK67M8k+0GJ08ddQYNX1dJLn3VRDEXxybt74pMpvraSN7T5WlSX/gTtX/6dxP6E/wA0GuEWx/8AwJ2r/wDTuJ/Qn+aoeMYdNRzS0tVE+CogkdDPDIMr4pYyWvY8dTg4EfIgxEREBERAREQEREBERAREQZeD+/w/jY/32rY61xg/v8P42P8AfatjqwkiIiqCIiAi/Y2FxDWgucTYAC5JPAADiVb8E5PqycB72iNl+k0uYJcn4TgHEN0Hlv5Fha9a95wyisz2U9FsvENh6FhayOpLix2abpNLnMtcNabho4gE6/OvMYFTNIiYynvYOdvHPEuugzNadG6g2uPnK8Lbuker1jb2lrhFtNmwtPMLhjDduu4llzBw6w2Xo28/b5LqnbSbMGma6WB5mhY7JK12UTQOJsN61pOl+sdoTS3enqTiJ5L7e9YzKuoiLaeAiIgIiICIiAiIgIiICIiCmbc+/t/FN/flUAp/bn39v4pv78qgFiyEREH9VNgH0tTgmE4PVtztxDZ+Jjo3Wyy07KKhiqYteLiyrGnYHnqX8xdudnZcIr6vDKi5lo6mWlc4tLBJuXua2VrTqGPaGvHG4eOK7R5V9sjgFDsHipNooGUwqbBzr0c+G0kNXZrdXO3EkhA16Qb2LXnh88n8n3bocRoYjKcaZHShseu9xGnMUMYzXygyQy0jW3IvunntsF1/o/8AZ6PDMNqMeqmlsmJ1sGFUF8t3wxyBjnRdeV1RJLmB6sPvbTXT3h7f60z/APCUf/JW9drq2LCMc2M2KpHAxYe6OtqyAAJKgw1EEEht7mVxNdK4W18aadFo/wAOqndNtbLFGLvkp6GNg4Xe+MNaNeGpCDXHJbySY5tKXnCKB88Mbt3NVSOjgpYn2BLDLM4NfIGuaSxmZwD2m1iFadufBo2qwiF1XLhzaunjaXzPoJo6p0TRa7nQi0zmgEkljHABriSBqt8eGJj02x2C4PszgEsmHwysmE9TSvMFS+KiFPnbniAc11RPVPlke0tLjGQbte8HU3ge8quKUmP0dBPX1VTQV8ppJ6apmlnYJJWu3E0IlcRFKJt3dzfdNLgeogOfVs7kr5B9odpIfG8OoQ2iJc1lZVyMpoJXRuyvEOf2ycBwc0uY0tBje0kEWV88IjkvgZtxDhNM3c0uMVFDUZIQG+Lsr5tzWOjB0AEkVTKABYBwAFgrr4ee3VXhc+H7M4TNLhuHwUEdTJFRPfTCRrnzU9NTO3VneLwx0pIZfKTMCQSxpAZ/gbcleM7M7S1DMXonQMlweqEFQxzJ6aYtrcKu1ksRLQ+2uR2V1tbWXL/LT9/sY/K+JfxlQulf6PvlExetxKqwetxCorKFuHyV0TKt76iSCeKooYQIZZSXshLKh9475bgEAG99O02yseN7cz4XP7xUbQ1wqAC5pfTRVlTLURtc0gsc6KKRocOBcD1IMPky8H3aTaGEVlFQNion3MVVWyMpoprW1ha68srNT02sLOiRmuLKvcqXJdjGzMrIsYonU4lzeLzscyamnye63csRLc4uCWOs4BwJAuF2N4VHJ5tfjVXT02z5FLglLTMZHDBWsoGSVBJzufFG9uZkcbYY2Bws3K/LbMb+e1mxOLybAV1DtUBLiWGiWto6l0zKyYxUeSeGUzanebt9VTEk5t2TrrdBrL+jb+++I/k0fxVOueOU777Yl+Ua3+JmXQ/9G3998R/Jo/iqdc8cp332xL8o1v8AEzILLsby57TYPSRYbhuLPpaKDebmBtPQyBm+lkmk6U1O57rySyO1J91bhYLr3wPOUfF8dwfFqvFa59XUU0jmU0hipojE0Uu8ADYImtd09ekCv59rtnwAPvBjn45/8Eg0L7JjbL4+l/NcN+qqFx/k+2jxChm2xqqTxjD6h76upxJk+HkvklqDDLI6mgl3rP8ASCQQIxlsSQALrXS7C8AvHYcVw/F9ja8l8M8MtTAwlxPi1WwUteyMn3vI51NI0N/CmkdoQSg49Vx2z5McZwakpcSxOh8UpK4MdRvfPRulmEkQmaTTxzOnitGWk52NylzQ6xICsnJLyUz1+1MezlXGbUtbK3E7B2TxXD3uNSQdC1kojEbX9tRGdbq1+HZtyMVx40EEgdR4RH4ixrC0x+OOIfXubbVrg8RQOHUaPz3CkYlyE7T076OKTB5TJiJIoGRT0VQ6bKxsj3O8XnduI2se1xfLlaAdSFZNovBZ2toqc1Zw6KpDWl8tPR1EVRVRtDS51ogQZ3C1ssOdxJFgV0p4WXKVX7OYJhTsKMUFZWRCm8fLGSVFLTtgppJmUwkaWtdK5sQLjewj0GbK5mj/AAQeWHGxtDSUFditdiFFiDn008VfUT1mSTdSvgmgM73GGXetYCRo5rnAg2aWhzcto8lvIJtHtHCKugoBHROzBlZWSMpoJS0gHcB/tk7b5hnYwsux4zXFlsfl85NqeflAhwyNoZTYtUUVXURsuzKypP8A9RLC0aSPMFTJfvS9S3P4U3J5tbi81JQbNBlJgVJSxsbDBVsoA+oDnNyuYx7c0EUMdO1jSLNvJbjoHHHKryUY1sw9jMXojDHKSIKmN7J6WYt4tZLESGvA1yPyusL2tqq7sjs3W4vUx0GG0stZVym0cMQBcQNXOcSQ2ONo1L3ENA1JC7krth8ZdsHiuHbW2nraCOqraCczNrJhT0MUdXTufPmc4yCRtVDrY7ohvBag/o8NoaCjxmqpqt0cVXW0jYKCaTK0PeyZr5aNjibiSX2t4bwd4tbjlBCvTeCRtc2LeikonvtfxdtbTiYG3ubvIhzdXu7eVaKrKd8L3xSDLJG50b23ByvYS1wuDY2IPBdG8tXJrt3s/UVOJtxPF8QpM8kxxTD6yqErIi5zs1VBFI2Wlys1dlaYmcA6wXONTM6RzpHuLnvcXvcdS5ziS5x8pJJ+VB5oiIMvB/f4fxsf77Vsda4wf3+H8bH++1bHVhJERFUERfrW5iGjiSAPOdFBfNi6CKjidW1DWulI9oB4sabNzD+sS8C/81+Vm3LbucB0m6tzXsDlFyzMLAE3v5vMpDGqCSSjAaLse1rmlrXXIaCLHXTQix6/0KhtwqQExyNJadcpb0nD+r18Osdq52pMWnMuhp1mI4Wen2tcGGSd8IcALMYyNuV1yAC4gkixvxOt+NgvmGojnZni8XZK4AeMTODGhzeB1sZSBbjoBbgqbiGz75LtaHMc4Zt3axvoOkc3YSeHWsvANjJXOb7YdLtfexAGa1mjsI0+Qryv0YznDOtb57JhmNtoC4y1b6osA9rpy+MPcLm29cAMlr+4vc34cFN4HtKyva+SdpErScrbNbvKQ2a+KS7ss4sDcOsQQbeTIrtkskcLXNjbC17N68X1ZmuRc6u6RDidf0KFxPBwyYPhjYx7GhslgGGxZK3I8j3OaSVotfQCx4LyiaWjjv6srVtWee3oxNs8GihLZ6YPEEnFpuWscRcGN3XE6zrX4EEeQVtXTD4fapKeVrnQ2LTnN905zc7ZGnzlrh/Z1uqbLGWktcLOaS0jyg2K6W11JtXE8zDR16YnMeb5REW08BERAREQEREBERAREQUzbn39v4pv78qgFP7c+/t/FN/flUAsWQiIg628Mn/VbZL/AISD/wCOolujwbsRotqdnMHrMRyy1GA1IzOe7SOswyCWGnmlc7V/+i1EE5J/Dsdcq4P2y5ScXxilpMPxGt8Yo8PY2Ohh3FJDuGMjZE0Z4IWyS2jjYLvLuF+Oqqsc72gta97Wu901riA64sbgGx0Qb55Otrzj3KFTYsb5KrFS6AEWc2liifDRtcO+KeKEHyg8F9+HXO6LayWWM5ZGU9DIx2hyvZGHNdrobEBaT2Ux+qwqqhxCgl3FZTv3tPNkil3b7EZskzXRu0J0cCFl7e7Y4hj1U7EMVqfGqx7GRum3UEF2RDLG3JTRsjFh1ht0HXnhfYDNtngmD7TYBDJXxxNlM9NTN39SyKtEG8OSMlzn089K6KRjA4gyE+5Y4jVXgfckuLVOP0lfU4dV0mH4fIaueoqoZadrpY2P8Xhg3rRvpTNuyQ33LQ4m3RB1hyYcq+ObNl33IxCSmikcHzUzmxz0srxlBc6GdrmNkLWtaXsyus0C+gVn258JHarF4HUk+J+L00jck0dDFFSOlabXa+WMb4MIuC0PDXBxBBBsguXLlypUsm3lNisUjX0GE1VDSPnjvIJYKObPXvjDR0rPmqmNLbh27a4XzK9+HjyXYpitbR47hFHPilM+iZRzMoI3VUsTopZpoZwyHM+WGVlVYOY0hu4JcRmbfjRbY5OvCG2mwKnbQ0eINko4xlggrIoqlsDepsL3jeMjHUzNlHUAg6C8BTkixTBqybGMWi+55qaGWko8PqLNr5o3T0U01VJDfNTxMMUTMrwH3m1DRlz6C51NwTbioxWQEw020Nc+ewLneLPramOpLAPdPEMkhA7QFgf+Pu1H3QdjAxiTx91O+iEhgo5IYqSSSGV8MNPLA6CEF8EJLmsDjuxcnW+vcaxKatnmrKl+8qamaSpqJMrGbyed7pJX5YwGNu9zjZoAF9AEHZXhkbLY/UzU+0ezFXidZhdVSxb6PCKipkEb2i8NXHDTSXkp5YHx9NjSAYXFxGZt+cZsM2yqKaokmZtK6higklrZKp2Ix0gp2D20SuqXCN/RPuNSRfQr45MeW3aHZyMU+GYk9lIC53ic7IqmmBdmLt22dpMF3OLjuiy51N9VLbeeEZtRjMEtHVYixlHPGYZ6ampqWFksbr52ufuzNZwNiA+1hw4oNnf0bf33xH8mj+Kp1zxynffbEvyjW/xMyyOTblDxbZyaSpwas8Tnmj3Er9zS1GeLM1+XLVRPa3pNabgA6KvYpXSVM0tTO7PNNI+eZ9mtzyyuL5HZWANbdzibAAC+iDGXbPgAfeDHPxz/AOCXEyu3J/yr45gFPPR4TX+KU1U4uqY/F6KfeOLN2TmqYHvZ0NOiQgpKvPINtsdnsbocVLi2GKYR1gGY5qKoBiqui33wiKRz2jXpRsPEBUZSOzODT4jVU9BSsz1NVNHTQN1AMsz2sZmIHRbd1yeoAlB/SfbfCsP2Wkx3btojfU1GG08bGu0a6phBjjYyQE2jqpBhbCGjjBm1Ll/M7EKySolkqJ3ukmlkfNNI7V0ksri6R7j1uLnE/Kut/Du2iGGYfg+xsFRLMaemgqa2V5dvJoqSI0lDviOi8yPZUyuaeBjiNvclcgoO8/DK2CxTGsCwiXCqOSuNE0S1MMHTqRFLTQtbJFCOnOA5li1l3dIHKRmI0x4GfJVi020FLiNTh9XSUOHmSomnq4Zadr5d1KyCCHesG9l3r2OIHuWscTYloO3/AAxNscRwLD9na/CayWiqmtkj3kWVzXxupaUuimjka6OeIlrXZJGuF2NNrgEc6bb+EntVi9O6inxIQU8jTHO2ihipXzsNrtfLGN61pAILWOaHBzg4EGyCx8s/KvCdumY5TuFRRYZV0lOx0IBM9NRFra3dEnK/M91WGOvYgsPBbZ8MXZrHa91JtLstWYlWYZPSRMngwieqJFnPfDXMhpn3likila0lrbs3F3aO04jWw+THlo2g2cZucLxJ8dKSXGjnZHU0uY5i4xxztduCXOuTEWFxAvdB7uwzbOpp6h8jNpnUUVPNLWvqXYiykbSxxudUCZ1Q4Rubuw67CSXC9gVW9i9gsWxqOplwrD569tG2N9U2mySTMbOZBFkgDt7OTupNI2uIy62uFeNuPCR2pxeCWjqcRjipJ4nwVFPTU1NE2aKUFsjHSGMyhrmuIIDwCCqdybcpGMbOSSTYNXPonzBjZwI4JmTNiLjGHsqI3sNs77G1xmKDqTwMdr9s3Yk3CsUp8TqcHbFKZ6jFYZ2yYe5jHOg3dTUtEkpfLu4hA5zrNcXNDQxy5z8JiioqfaTFocNEbaRtW7KyK27jnLGOrI2AaMayqM7cg0blygAABWbaXwo9ra6B1McSZSse0skkooIaedzXCxyzAGSF39aIscO1aVJQfiIiDLwf3+H8bH++1bHWuMH9/h/Gx/vtWx1YSRERVBfrTY3HEaj5F+Ig3xyWQHFo4baxxvPjDXcDu2gm44FrnFgt2O+a1YvscBnkip4nPtmDBljzcLtL2tN/m6gOCp/gnVQMlZTED3EUzXa34va8dluixb0rahjej18PlP8A0XI3k9M4h2tjHVXLn6PZOoD5JZWNbM8m7SL7pl9A3q11PXoG9hU/sxsgW6yC46/N2eX/AKrY1djFNCbvMYAHSc+wAt23UezbPDnnI2aNznGwyatHlJvYBcXVveXXrSsY4YeP4ZEYsugyDQf99NeC0xtzCWOMsLy1zxu3gXAc0OJ4douB/fat81ETJQTG8OYeD2nMAfkWpuUGnFPI2OWM5nEvAjGdsrLHPYNBLXZM3V1Ada9djaerpae+px1Khg9SQA2UWzsEeozgvYTka7ycezrCre1UYbUyWFgcjgP7UbCf03Vwwpkk87IaSCWpyuBlAbfdxkN6T3ONoTYNdZ5bc3sqvt5A6KtmiewsdHkjLXCx6MbLHzWtbyWXd22IvMfBxdeJ6YnHGe6DREW+1BERAREQEREBERAREQUzbn39v4pv78qgFP7c+/t/FN/flUAsWQiIgIiICIiAiIgIr3yQVmzML5ztTSYtVRFkYoxhToWuZIC/embezx3aW5LWvwK6H5I+T/k92nir56DDtoYm4ZCyoqRVzxRukZI2oc0QbmpkDn2ppPdFo1brxsHHqLeO0uL8m7qWpbh+FbUx17qeZtDJUPpDTsrDG8Uz5w2ucTCJchdYE2B0PBaOQERXjke5MMQ2qqJqPDX0rJYIDVymrkfEzdNfHGcpjjeS7NI3SyCjoiICIiAs/Z7GanD52VlDUS0tVEXGKohcWSxl7XMcWOGrSWPcP7xUhydtw44hSjGnSNwrejx50OfeiCxuWbsF9724C69uU9uFDEqkYC6V2EZ2eJOn3m9LN1HvM+9Af77vOI4WQRu02P1mJzurMQqp6yqeGtfPUPdLK5sbQ1jS5xvYNAFlGIvaiaDIwEXBe0EHgQXDQoJvanbfFcVjigxLEqythp//AC8dTK+VkN2tad2HHo9FrR8iry6C8PPZ2hwzHqenw2hpKCB2FQTOho4YqaJ0rqrEGukLIWhpeWxsF7XsxvYufUBERAREQEREBERBl4P7/D+Nj/fatjrXGD+/w/jY/wB9q2OrCSIiKoIiINi8l9QcPllYKjJLUwlntbHuLGxtE2jiACXMuPlGqkanaWupDcTVEgdHv2GUPmiAuSL9cd2tOlxxGnEKN5HaJtfiNPa5fBTyunhIA3scUbomPjeXZcw38d2ut7k2JutsVWCCtlFPuS3Od3eQg5GPuJXNYzQvEeexJ0Nj1LnbqYi/MZdjZUtanuzMYa929dWiWJlVBKzewxTwxOdHeSR+czR2bcXZ0LtuTqLHVR0NJVysidTysjJLt9E4agkjKxjY+lwFtSLarfvKHgbarI9ozSxHNT2yksfrbR3UdPmB0IBFSwCrsdMrJW+7LYo2yNcPdD23MAb36iuV7THaKxEurXZzaMzMz81KwyjrqeV0dS2YRyQxmERzlscMkD5d44Bzi9zpGyxi1ne9akaK3HZVhp5JLOLszpIor5Hlrs996Wnpuyvd0eBGlutTrSJnl7nXeO/robG3YG6DQdgWbG7MNNLGxH+HmssPar8Ujj1x5vO2zpEza3Mz/DX2FU0NNJHHUNkibMC8bprWtay7Q1r72IZdzrdlitZ8rzA3EHMvd7Io45CTc5m5hHmPW7c7hdB4i+lijkrqtuVtM0kS9xsfSsxt7Pe5+gBB6VrLljGsQfVzy1Mnu5pHykXvlzuJDAesNFm+ZoW54XW19S2r5Rx+fs1vE9StNCujHfOf2z9c/wAMRERd18+IiICIiAiIgIiICIiCmbc+/t/FN/flUAp/bn39v4pv78qgFiyEREBERAREQEREBdW+AP8A+S2p/wCAp/8AlYsuUl1d4A//AJLan/gKb/lYsg5RXSnKDTsHJls/II2CQ4xOHSBrQ8jfbSaF1rkaDTyBc1rrrCdjazark5wvD8DbDWV+H4pPNVUu+hhkaN/i5MYdM5sbZd3iNNLle5t2E2ubAhWvBHp2P2f23c9jHOZgwLHOa1xYfEsf1aSLtOg4dgVs/o7Nrqh0ldgu7pvFYaabEmSbs+NGeSSkiLHy5rGDK2+TLx61PckvJkdmNmtq6atq4ZMaqMElqMQw+B7ZW4bT+I4v4hHK9os6okvVOdYkWYy1xZz9bf0eGJQxY7VUssjY5KvDJoqYOIBlljmppHRRgm75N02WSw/BheepBR8d23xLlAxHCMKrYsPpSavxWKSgpzBlZiElKyeWUOlcJN2yAOAFuDuN1t/lw5YHbC1o2Y2SoMPooKKGA1s8tOJqiqqZ4o5hvXkje+0yQ5nuu4lxFwGgLTA2WxfYLGcNxDGaF8McNcJojG+CVtbBQyweN+LFr+uKZti/L763hYgba8KDkZxPaLFBtLszEzGsNxWCnl3tNNTt3M0EMVNlLZnsO7cyBjr6lrt612UgAhictWGUW1WyUO3MVDTYdjFPOKXGG0bd3T1YM7abeFvEy55aWRrnEuDZXsc5+VjhauTXF8Nwrk9pcVxHDYsSNPXTSU1LI1m7nrfG6llMKlxabwMLjIQb33TRrwUBytNZshsPDsjWywux3Ep21tXRwyNlNHAKmOpzyll2gDxami42e/fFheIyVi4l/srpvym7+OqkEBsLypV2121uAz4pBQxmnnFNHHSRSRxGJxlkyvbNLJexNhrwA86rvhNVMVFtpXTmmhnhp62jndRva0QTxxQUb308jcpbu3hpadDo46FQ3gsf60YP/wAaz91621jdLQzcqTosUELqN1cy7ai25fUDDGGhY8O6Ls1WKZoadHFwGt0Fj5I+WXbHEa+gjGzLGbOVVTT00rKPCKxlBDRVEjI3VDagBzA2ON+cuJyEMNwBw0h4UWAUuGbWYhR0MDKalZPSSxwRANijdVUlHUStjaNI497PIQxtg0EAAAALorbLZzbZ21BxXEcS+5+ytFiENX4w7E2UWFDB6apZI2GSnjlDn1T4Ru3b2OzpCQXZMpWpfDh2SraXaaXFZoHNoMQfR+KVHRLJH01JSQTRGxu2RroXGxA0IKDM/pGf9Yqb8j038Zia5pXS39Iz/rFTfkem/jMTXNKAiIgIiICIiAiIgy8H9/h/Gx/vtWx1rjB/f4fxsf77VsdWEkREVQREQXHkXx1uH4rTzSECKTPSyk8A2oblYT2NEu6J8gK3zS4vLJWSNiABbG5hNj0XG3Dy2BH95cqFbz5NMVlxGHNT1G4rmMEFQ8ta/wBsDSIahzT7pkjWgO4HMx2o0XP3tJnFvLPLr+Ga8RFtP17fdLYtiWJB7t1MW2sCctyT1lubqUe9kkTTI9xMriXuN7OLnHU2PV5D2KZrYnvjAqaetfVMG7mAkZFBNKIwTNEWkuEBedL62vcdtPxbBnVQySQQQRAnOI5XzSuBy9EvytDODuBJ6XVZcjW04rPpDu0taY4z9IWHDsSe46nW17jh5fMf5hWvAKzOOlxt89uB/SqNh8QaMo0A0+SwAGvVYKw0FSI7X0WvXmXnrW45Uzl/qzFHFTjNaeWWV3SIbaIxlt29ZzPv5LLTq274QVOXR0dSB0c08Tj2F4hewH0H/MtRL6PYxH6MTHx+r5re5/WnPw+giItxqCIiAiIgIiICIiAiIgpm3Pv7fxTf35VAKf259/b+Kb+/KoBYshERAREQEREBERAWZh+KVFMHinqJ4BIMsohkkiEjRcBsgY4Zx0naHvHtWGiApPANoa7Dy51BXVlC54DZHUc81M6RovZrzC9pcBc6HtKjEQZ0eMVTd9lqqlvjN/Gssso8ZzZ83jFne3X3kl81753dpWLTzPjc2SN7o5GOD2PYS17HtILXsc3VrgQCCOFl5oglMf2irsQLDX11ZXGMERGsqJ6kxh1swjMz3ZAcrb27o7F94DtRiOHtcygxGvomPOZ7aSpqKZrzYC7xC9ocbAC57FEIg9qyqkme6WaR8srzmfJK50kj3Hi57nElx8pXqcTqDCKU1E5pgcwp95JuA65OYR3yB1yTe3WViIg9aSpkhe2WKR8UjTmZJG5zHsd2tc0gtPlC/a2qkneZZpJJpXavklc6SRxAABc55JcbADXsXiiCWxnabEK2NkNZiFdVwxWMUVTUzzxxEAgGNkry1mhI0A0K+MW2hrqtkcVXXVlVHAMtPHUTzTMgaAAGwtkeRELACzbcAoxEGVieIz1ThJUzzVEgAYHzyPleGgkhodISQ27nG3lKxURAREQEREBERAREQZeD+/w/jY/32rY61xg3v8P42P8AfatjqwkiIiqCIiApjY7aCXDKllVF0g3oyxXsJoTbPGew6Ag9TmtPUodfRYRqdOvXS/VoOJ17FJjMYllW0xOYdQYuwV0EVdTSAwTxtkbm0vnAIzDWzxwI6iCoGHDZG6yEAdgI4f4Kl8lu00zWw4MOm6aWQUhcQGseIpp5YSe57U8g96S3A3Uhj1fVRvLJI3RvBsQ42A+Y2PnXA32hMTh9Jtd310hN1crYzpx6uC+qWbO8EnQcP8/KqjT1EjyLkuceJOgVlwdjtL6dq58x0w9qz1zmWXypYbJV4RMadwFTTWrIbgEPMFzJC4HRwfHnbY9ZaufROHOcAMtibN7AdRbtsDZdAbe4sKXD6g5rF7DE3tzS9A28wJd/dK5uo43SOzNJDnSWYBexuQLfM5dnwm1uic9s8fdyPFK1jUjHfHP2SiL7qIixzmEG7TxsQHA+5c0ni0jUL4XWcsREVQREQEREBERAREQfLo2nUtB84B/avncs7jfRH8l6Iorz3LO430R/JNyzuN9EfyXoiDaPgtbGYdjeLyUWJ0jKqmbh1RUtjzzQ2mjqKBjH5qd7H6MmlFr26XDQW6f9jrsl8Ss/O8S+tLQHgRff+X8k1f8AF4Wu1VFap9jrsl8Ss/O8S+tJ7HXZL4lZ+d4l9aWw6LaCjnqZ8PhqoJK2lEbqulY9rp6dszWvhMzAbsDmuaRfiCvOq2moIquLDJK2mbiM8ZmgoTIzxqWFu8vKyK+cxe1S9K1va39hQUD2OuyXxKz87xL60nsddkviVn53iX1pbWRBqn2OuyXxKz87xL60nsddkviVn53iX1pbWRBqn2OuyXxKz87xL60nsddkviVn53iX1pbWRBqn2OuyXxKz87xL60nsddkviVn53iX1pbWRBqn2OuyXxKz87xL60nsddkviVn53iX1pXHANt6KuxCuweB0hrcMEBrWujc2NnjbN5DkedJLt424KSx3aGjoDC2tq4KU1MzKWlE72xmoqZNI4Isx6crupo1KDXnsddkviVn53iX1pPY67JfErPzvEvrS2LtHjtJhsDquvqoKOlYWh9RUyMhiaXuDWAueQAS5wAHaVm0k7JWNljcHRva2Rjhwcx4DmuF+oggoNW+x12S+JWfneJfWk9jrsl8Ss/O8S+tLayINU+x12S+JWfneJfWk9jrsl8Ss/O8S+tLaywNo8Whw+lqK+pLm09JBNVzua0vcIaaN8spa0aucGMdoOKDXHsddkviVn53iX1pPY67JfErPzvEvrSuOC7dYdVYYzHhUtgwuSPfipqv8AR2sizmPPLn97GYW17Qp3Da2KpijqaeRk0E0bJ4JoyHxywytD45I3DRzHNc0gjiCEGsfY67JfErPzvEvrSex12S+JWfneJfWltZEGqfY67JfErPzvEvrSex12S+JWfneJfWltZEHJHhY8lWB4FhtLU4VhzKWeXEWU0km+qp80DqSvlLMtRM9o6cMRuBfo8bE35s3LO430R/Jdj+Hb96KH8rR/wGKLjxVHnuWdxvoj+Sblncb6I/kvREHwImjUNb8wX2iKgiIiP1o7SAOsnQDylZdJFC46yF3aQMrL90E3LvmCgmEyuN9W8bDhx6N/kN1MSgRtA17ANCDcXPFFe1dWRxA5AGDgDYZ3HtBPSt51gUjnPyTHLZxe2NrXXDHM1dfr3pGo8mo/BtjVQ3rw0us0C73dxo46DUcDw7Co+irTlJia8NsbuOhcblzCG/g2IZY3va+isJLYOxFayDHMML3BrYnvkk7rd9BI0DThZsmv9ldA7YYZHP0nNBI6/wDPUuS8Kc5tdS2Ju3W5PCzQ0DjoNCt/Um0k0UeW28jI9ydcna1vW0eTq8i526jqtj4Ojs9SK159XjBTMa+zW31UtBx4DRVtm1Mcbi4wPJPAWAGvVcn/AAWBiO1k+V742MiHeOpubANBItckgcFyp2tp4dP2vTrGUDy44w97o6Nh6LelIerO8aD+6w//ALVRcGjtJc8GNLhp+HZrWEWOtnOafkWVjZmqniUvc4/hl1r5hdxeXONg02JueGXzLAwqQSEtbI10ri27Wkvs3ouLnOAytIc1oy3vx7Ne5oaMaWnFI8nB19WdW83nzXKGW04Y8Nkikb7lwu0tIbby8D/+K9qjZTOSYJWsudGTE2AJ4NkANx5x8qiqm4kheD7l27Nr8HaftN1aqCoIGR1z2acOPCwXq81PxXCKilPt0Tmg8HjpRnzPbosFbQZXtaCHWI4OaeBB4ggi1v8Aqq/i2EU0t3RAQO4AstkJ6g5hOnZ0beYq9XqYU9F+ytyuLCRmabG3mBBHkIIPyr8WSCIiqCIiAiIgIiICIiDePgRff+X8k1f8Xha7VXFXgRff+X8k1f8AF4Wu1Viycm4xyk0uzG1e11bM01FXJBgsGG4fGf8ASMQrH0VM2OGJou7dguaXvAOVvAOcWtdt7kI5Op8P3+OY25lTtPigEmIT6ObRQHKYsKpCCRHTxBsYdlJDnRN1cGMK1jzDodpNq9ssKxGPNDLTYK6OVtt9S1DKGDdVNO4joSsJPkcHOa4FrnA2PkJ2/rsLrnbEbVS3xSBoOC4m+4ZjOH9IQgucenVNDHAOvd27e13tkbnSBYdruVLEZ8Xl2b2Yw2mr66jhZPildiM0tNhtBvmsdBAdyx0lRO9r2mzOGoscsmTI5OuVCsmxWXZnaDD4cNxllOK6lfSTOqKDEqPMWulpnSNbJG5rmv6DgSd1Jwy2VE5PcXptm9sdo6bGaiKhGMGhxDC6qseyCmqYohUCSKOaUhm8D6rdhhIJMDrX0v8AgxWDaTb/AA+qweWKtosCwyoOIV9Od7S7+ujrIYqVk7BupH/6TG4ZXG+WcDWJ9gm8U5bsSdjeJ7M4XgQxDEKR1MKN2+MFNuJYWy1dZiUzxlp4YTJC0Nbd0hkDRrZT3ItynV+J4hiWAY5h9PQYvhYglk8SmdPSz09Uxr43sL+kwhskLtSbiYaNLSFAcif+uO2P9rBv4WZY/Jv/ALQdpfydhn8Nh6D6g5a8axDEsUwHBMBhq67D6x9P4zPO+HDqejjL2iprpCMxnkeGtZBHcuDZnXtGb3/a7F9pm+KwYThGGTTSUwmrqyvrHwUVJVDIHUscUDH1E9yXkPGgDNTci9G8Gb787YflwfsqVF8rG2z5tqW7OYlj02zGBxYa3EPGYKiHDZsTq3ysDYTXzC9NDl3wtGWkmnlF7ubkC8ci3KVXYpW4ngmM0FPQ4vhLoN8aOV89JUw1bHPilhMgzs6IY6ziTaVvAggRI5UcbxivrqPZXC8OqKLC5zRVmI4tUVFPFU1sdxNS0TaeNziWEEbx12m4Ogc0uofg0YphrdrsfjosRlq6epp6D7nVNdUz1NTiIpYxHVvhnrDva1jJmytDwXDLGMpLQCngr7a4bs4zHcEx7EKfDMQp8crKtza+RtNv4JoqaNksBlsJ83izngMuS2WNwBDgUEx4NmI1NXtVtVPW0L8Nq3MwcVFE+WOoMErKZ7HBs0XQmiOTM14tdr2mwvZZ3hk1UcDtmp55GQwxbTUEs0srgyOKKMudJJI52jGNaCSToACo7wZ9o4MX2p2qxGkbMKWoZhD6d1RE+CSWBtPIyKoEclnthlawSsLgCWSsJAvYS3hfNBl2XDgHA7UYcC1wBBBcbgg6EeRBibKUzuULEo8cqmvGyOFzvGB0MgLW4ziEJLJMVrI3aup43AtjY4X4g2vMx+yeWzlJj2bpYZBSyV9fW1MdBheHROEb6ysmNmMLyDu4xpd1jq5gt0lp/HaWfkzxN2JUcUs2xGKTj7pUkQL/ALhV0haxtVCwatp39FoyixDRGek2DNn+FVVRsn2W2tjc2qwbDsREtXUQB08bKPEnULoq4GIOvE0UuhA1fJE0G7hcJnaLlU2j2dbDX7UYLhrcGlmjgqarB6qoqKjCt9pG+rimitOzN0SYja/AklrXT/L5ytu2Y+5ckdH90IcRrG0sghL3ziI7t2ajZGD4xO5ryGsuA4louLqkeFvt9hWKYBJg2FV9JiuJ4tNQ09BSYdPDWTSObWU85eWwOcY47U72ZnWGZwHavHwiaB1JNsLSvcHPgx3C6d7hwc6F1CxzhfqJaT8qDYFByg4rh2HYhje1mG0mE0dNFFUUlNSVPjtW7eGRppah5yxGqdI6ljblytLptSLaUHbLbXa2u2er8Qq9ncPgwmtwmtPi8NdI/GKKkqaScMrJ2SxtgmY2N7ZHRtLJMt+iHAtVs8NPCZ6vZXEW07XSOi8Xq5GN4mnpqiGSod/ZZG18h8kRUDt3y2bP1my1QylxCGesrsHqaWDDKc76viqJqGVj456eO76eOHpufI+zA2JzgSLXDy2KxiLD+TmCsnoqfEYYcN3klDVgOp6hvjJGSUFpBbrfgdQFY9s+VE4FsjRbRUmHUwDqLCnxYc1xipqeOtip8sERY3oxxNkDWgAaMHBUQf7Lf/tP/wDUsbl6/wBmeHfk7Z7/AJVEgsO2PLhtDQ0nONuzMTNmGyQjPV1W6xeekqHsjirm07btponvkYGxvDn9NpIynMNh8sXKnDgFBT1kVNJiFXiEsNLhNBGd3JWVNUAYml1ju2AEXNjq5jfwgVW/DR/1OxP+zh3/AMnhypnhJUslLBsjtIYZKigwWpppsSZGwymKnqG4e4VRaDYbs0hDXHg+aPUXQTHKRyt7WbM4e7EsY2ewmaJxja2XD66ZzKSSR7A2CujmjzkuDngSwlzQ5gB92COgYH5mtd2gH5xdck+FzyyYPjmz89Dgks2Jkvo6mqqIYJ46Wgh38e68akqI2ZZpZLMbEAXaPJDcuvWtIOg3+y39gQaA8O370UP5Wj/gMUXHi7D8O370UP5Wj/gMUXHiqCIiqCIiAvGtlyMc7sabefqXsozaB5yBg/COvmCBhLi11hfjGO0XDG6H5VJYjUEvY0aNGawHFpA6TSONrm4WHhzTdr9bF44HUgjXhx49a/ZZc07rfgtA1sNT/wBAsu0DyqrBr+svZLfrB6D2jjpYXX5RU9o8oFurhxufL519VA0cRpoGAA8S97GkaeRxWVTjgOFzewJP6RqfnWI9sBjD68AWtGwcO3pLbNLDnaWh5b2cLEf57Fq/YKAvq5XdhDfJoB/ity4TS/JwvfguTr3/AOst3Sj3UM7CpZD0SwNvxyOv+l9lU9vW5HNpg973N6chBAAc73DcrQBoLngeI7FtXEXx00Lpjwa0m5sLho7fmHyrSVVUGaR0shs57i4nsvft/B4Beu2jqnqnyYa04jCLmYWDLI1rozdpuLtfcWLJLa2tcXHC6k6SBl2iMjJla8ZQ1pDTfoPA4O049dgRxWPVzgDtGgLBo55Nwxrf7Zv0uprXnqAOTh8O7BuQ6RxzSEcC4gXA7rABlaOoNAW7LVe2QA6gkh1xe+XQi1rFScFRpd3AeXQn/IsoeKTMRex1tw+XT/PasXEa8ueIGHQavtwvr1W4WVwqaqcQvw0HC4v5B0j5LrBrsUDG3ubnpDtDOrXtJ7TwA7So6smLnshaQAbZjaxsLl2o68rSovE6wvfbRw4AN4XHVrropgYlfWOLxISRcjyfP5dApimlD2hw8vzg2KgsQbpfr42/yFmbOzXa5vYbjzH/ALLKBKoiLJBERAREQEREBERBvHwIvv8Ay/kmr/i8LXaq4O8Fna2gwTF5K3E6jxWmdh1RTNk3c815pKigexmWnje/VkMpva3R46i/T/shNlfjf9TxT6qoyhsOlwWkinlrYqSmirKgMbVVccMTKmpbC0NibUTNaJJgxoDWhxNgAAvHHNmsPrnwzV2H0VZLTOL6SWqp4KiSmeSxxfTvmYXQuLoozdtjeNvYFQvZCbK/G/6nin1VPZCbK/G/6nin1VQXzafZnD8UY2HEqCjxCJjs7I62CGpYx9rZ2CZpDH20uLFeuz2BUeHRCmw+jpaGnBLhBSQxU0Qc73TskLQ3Mes2uVr72Qmyvxv+p4p9VT2Qmyvxv+p4p9VQbDosFpIJpquCkpoaqpyeN1MUMUdRVboFsXjErGh8+RpIGcmwOiU2CUkdRJXR0lLHWztbHUVjIYm1U8cYaI2TTNbvJWNDWgBxIGUW4LXnshNlfjf9TxT6qnshNlfjf9TxT6qg2HhmC0lK+aWmpKanlqX76rlghihkqptfbah0bQ6aTU9J9zqVh7UbIYZiu7OJ4Zh+IGK+5NbTU9UYs+XOI9+x2QOytuBocovwVI9kJsr8b/qeKfVU9kJsr8b/AKnin1VBeZdlMNdUQ1zsOoXVtNGIKWrNNAammhaHhsUEuTPFGBJIA1pAG8fb3Rv4Y/sRhGITMqq/CcNramMBsdRVUlNUTMa0kta2SWMuDQSSBfQm6pvshNlfjf8AU8U+qp7ITZX43/U8U+qoNh0WCUkE01XBSUsNVU5BVVMUMUdRUiFuWEVErGh8wY3RuYmw0CYvgtJWGI1dJTVRp5W1NMamGKc09RH73UQGVp3Uzep7bEdq157ITZX43/U8U+qp7ITZX43/AFPFPqqDZWJ0MNVE+nqYYqinlaY5oJ2Mlhljdo5kkcgLXsI4gghY2F4FR0tOKGlo6WmogHtFHBBDDShspc6VohjaIw17nvJFtS51+K197ITZX43/AFPFPqqeyE2V+N/1PFPqqC37ObBYNhspqMPwbC6GcgtM1JR0tPLkd7pgfDGHBhsOiDbRSeLYHR1joZKujpap9NK2opH1EMU76WoYQWT07pWkwzAtaQ9liLDVa99kJsr8b/qeKfVU9kJsr8b/AKnin1VBtIqs4fye4JTvllgwTCYZKiOSGpfFQ0jHTwzi08MxbEDJFIPdNOjusFVP2Qmyvxv+p4p9VT2Qmyvxv+p4p9VQX7m7Q+K/c3xCj+52TdeIeLweJbq+bd+L5N1u82uXLa6Yhs3QVNM3D6igop6BjY2MopqeCWkYyCwhY2B7DG1rA1uUAWblFrWVB9kJsr8b/qeKfVU9kJsr8b/qeKfVUGxcawilroXUlbS09ZSyZd5TVUUdRTybtzXszxStLH5XsY4XGha09SheUCbEqWkacDw6jr52PYx1DUTCjifRhjw9kMmUsjkuIwA4ZbXVU9kJsr8b/qeKfVU9kJsr8b/qeKfVUFB2p2S2k2uZT4RX7PUOyeAtq4qzFAyvpcQqsQZCcwp6YYexrIcx4ufY3axwd0Sx/SC1b7ITZX43/U8U+qp7ITZX43/U8U+qoKd4dv3oofytH/AYouPF0l4WPKfg2O4bS02FV3jU8WIsqZI9xWQZYG0lfEX5qiFjT05ohYG/S4WBtzaqgiIqgiIgKHxF2Z5cNcnRcO0cTbygqXJUHTPJc4t1N3E34PBOrT/PqVgScZywxH+t7rXUZjxPHgOpYUEvt0uutx1A9v8An5FlSR56du7/AAXOLGuNnE5m+1tvoXX0GovbS9wsOnsJZj2Bululfr0PA3CyuQz3tuw6ZhmZ8hzB3Dr0YeKyaVo4gm/DhbiewXI4LwYQWWN3Xc3iNQMk+nDTXX5F6F4DXOF7NBcctgOiDpxXmLFyV012yzEOPtjzpqXAE2t5ToAFuCigIHA2tck21vppr2kaeZaq5O6JzaYkNIzXkeSD0gwbuJo4EkEGTzgdq2phsDnvikL3We+S8YLmt3bHSlmnB1s0XHs61zJ062mbfFuRaYiIVnlixHdxRUbT05PbZAOIijPRB/tP1/8AaPatWzjS2tu3gfPp/n51J7a414/WTVLTdhdu4DxbuIehG7j7l1nP/wDcKgJZHe4aem45IzYGztC5+uuVrTmsRbMY1u6VOmuGte2ZyysNYC4vcehGXBt9Q6VwAkfpp0WtbH5w/tUk4eUa/Na/Vrw4alYUEbWBrGE2AsOu3G1+03usozho1NiPwbW8pGvk/avRi+ZHCIF56r8dNbG/A+RQeBOL3SSO67gG44fKV+47iBeC0HTXtHbx+f8AQvnA3lsTh0NG3JsL8NeKyhJeRmAMkh4j2ttzY3cLvvbjYED5V54dRE+2O0HVoLW43Av2LGpqxjI2ucA4kuf0h1vJygfJYfIveSokeM8hyNIOWIaEggWv2cFJGPXuBuAb9v8AkcF8bOyWkt3gWnzjUH9H6V+ubfgBrZY+EHLKB5f8bH9qirUiIs0EREBERAREQEREBERAREQEREBERAREQEREBERAREQEREBERAREQEREBERAREQEREBERBh4xKWROI4mzR8p/ksGilbIRdjt4BxiLQXDrOV+jj5iF9bRye5b1XzH/BY1J7WM72gWByg3PHr08l1YGZWFpjMQ1GYta6QiOzyGuDTYltybt42uRwXvs/Qy1TQ3dTSyAuYXsje+YBvFrwATKBYiztR2hbb8EfYiKtnlxbEqaklw1gkipBUneE10JgL5BTvBY9jY5H9Nx0e1tgdSOpqXE6KnIYyOEEaBzWMYQB1NDAABpwt1LR3W/jTnEVz8cx39PVu6GxvqV6o/I9XDeH7K4jKGRjDa18wu7IaWobeNsMri6z2A2AOvEX0vwvDVIaGPtpq1paP67gLeQr+gtVtHSM6T4g6MkCwvceUarXPL5s7Q4rQuFBRMdXjLLTua2zy9jg4sMjgGtBaHdDg45eHFa+n4lW2Yt7vzel/D71iJiJn5NH7KTWjZbSPM6S2uaRsbgbi5s1uWKRvYdToOMztXjrqShnfHmLreLxOzZ3NmqBJG94dwORwJ0sLN04BeWyNOY4zHJmDml4DXNs5rmjI5hBvY5mu7OJ01KqfK/XNvS0jRlPtlRJYBtg0NjjabaZbmX6Mdi9NCYm2HjqcRlTYxlbcZbWy2PAdnEaDjfq0PYvnCbPJmJJBBZDe49rBJc+x4F7iX+YtH4Kxa+VxDYRo6S7ewiIe+m7dC1xsziP8AeLNjmAFmgW4cNNPNot5qM64HDX5bC381GYlUgC1yDc34HydXkK/J57Dj5rDhcEquyPcXEkk3N9VlAyaiXy3Hl/7r68aywzOB0LWsb1avLr2+SyjppNbLKrb7qOMWzSSAi/Do2Df0gqjIoYWxtbNNbNb2qM6kNto4jjdflQXv1cA1vVewJtw0WU2ERHQ7yS3TfcHXrt2BeboQelK+/kHHrUkYwd+Dx+RYkT8kgJ0s/h5L9az5ZuLY22HbbXyqJlBDrnTz9fyLFV2ReVI/Mxru1oP6F6rMEREQREQEREBERAREQEREBERAREQEREBERAREQEREBERAREQEREBERAREQEREBERAREAvoC0HtccrR5XHqCCu44SZTmc2NgsLuIBNgCco4u6+CxZ8VisQ1heQNC/3NwNCWjjwVli2ZE2WXxmIukaXNswOc8D8JgJuI/KLjyr82f2ZbNiNHSyPMsU1ZSwyMIia58Mk8TZW5WO1BYXdV1naMRkr704dQ8i2zDKDDqFlRUFhjhE9RAQ1rn1WIh00rJBwayMStYOsmMcLFWnFMGw8XmMtRfXK1kzmi58o6/OVWttdlZ8XqzFFVfc6na28lUC4SAXAaIGNIzuzBw6RAGUnW4BzdsNlWWDosRqY5CQBuA1kd+8WG4K+e1Y6otaeOZ/19XT3JrWJmeI/z7ozEcMq7tfTVcVQziIqs5JW+Rs0LchH9pnnKm8EfVxD2+It0tZsjHi393q8uir+E4RXsNn1UdS0XyucxkMgA7xa4Nd6IU6TVwssI7t1uRY8fl0K5mpT45bdZzPPDF2ipo6q8jYwypYbiQAAztsQY5NbbwWbZ/XYArl7batfVYjNI6zTHlpQ0aZdxfNYAk3Er5Li99Cum2TG+pvfi0/gk9TiB8y0h4QeyRp3HEqaN25qXtjqsouyCoebGdw/BbKNMwtaR7u+Auh4ZuMW/Tt59v6cjxTa5j9Ssdu8fdrOj9sc6YNu0kBnDSNtwCTYXubu4fhrOa6w4gDz/t+ZfVK4RMDdPLw1HC2nyKPqagDr07Ov9i7zglTUk6Ai1h/m3aoqckG+lu3tXrU1DLaXuf2fMsN02YW6+I8vkWSPppzPCzqsF8kTcokyM3hbewNrcba8T+hR9I4Zrn/us7DsQEdS17m5mOa6Nw7GuIsR5QQ1Ue5qHPAPRb1WaLf91+wEDjx8uvWpDEMNB9ugIc06kC2mv8lFOJB6Qtbjf/FTuPeoudf2edRlYOlfrspNr7j+X7b2URVHpG3VoscKtWCSZoW+S7fmWaonZd3tZHY4/pAUssgREVQREQEU/sPs6zE5KiE1kdJJDQ1dfA18Uk7qyShjdM+kibGQWyOijndm6RAhdZruAxsB2YxHEG7yhw3EK2PX22kpampiBboRvIYyzMD1XvogiUWRiNDNTSGGpgnppwA50NTFJTzNBuAXRzNDwCQdSOorHQEREBERAREQEREBERARF+XQfqIsiloJ5mySRQTyxwNElRJFHJJHTxuNmyTuY0thYToHOIF0GOiIgIiICIiAiIgIiICIiAiIgIiICCkE5bG49Fzhcd4d0+Q9fkui9qJxD2kcb6ec6C3l1WVO5PZM4dG1sjo4wCQRvZP7PuIx29Yt7lvn1WyuS3D2ur6Z8mr2ytdEy2a5a17yfOGxvdfqyrW2Ft3YAv0iS+TyuJzW+QlXrkxx5sOLUUbiAJI64Zjwa9kcTYzrw0dIL/1irq8Um0s9CudSsfF0TtDVxxsvLDBNEW2GntjS618w4gGw4dg7FTsSjwu2dratrtBliqJS1vlDHuc39CbQtkkkyb3LZtwLajjrfgTx0VSqsEpmPM8lRUSy9Q3r4ooweoNjIaPOblfP61eqfR9VozFY/pPtooLh0GIyADV0dVFG9x8gdDk/S0rwxjEHi0fjDXNPA3Lc1uogcFTJ8SmilAiPjUbibtf0QwNtmyS26TwDoDcGx4WKzKGrgqS7dPa6WMgSwnKJYyeGdtz84uFoX07fJ79dfmmaKrJ6iHjRw4aeQjiLdqlY6qCdpp3QiRjwWSiVoMZYdHNcHXDmlVzxpzPk0BOhHmPFZ1FjEbGPe5rhkY5xOhuGAk/JovCaTM8LMx5ufOU6ipo6yeOiDYoI3bpsYLzctNi5r3k31v8AIAqLU07r21Fu3XTtBbxGnYrHW1m+e57iS55c9wI63Enr86wXTahpHDS9+Gq+upE1iI9HxtpzMygybA9fk0N/mXlCTl4D5jfzAdqnJIQ4m4zN6tO0+TgbBYFVQuHSY0uYdMoGazh1ebyrPLFGAW8nEEHiLI94BaeNv5qRlwyQgC7S7XoC5IuLm3UTpw7Viy4a9paLscxwBZLciNweAQbkdHrGvAgq5E1g1W9tix12ni08De/bpdStRDHMBfK134Q0/wC/Uq6/CKuBzWuiLc/uHZmmNx8j2ki9ivqXB52OAkifCXEZZZJA2F5PANla1zC4nqvdMZRly074uIuw9YvYa/tURXNs4kcDZTFfRVVKBn9sjtckXcGHrBuBp5bW8qi5iH6jzEcMp04jiNbKKm9mBZj/AO0D87Wn/FS6jNm2+1X8tj52gA/sUmqCIiqCIiDffJBt74lBS4rjcuH1tLRhmBYRRU9JRTY9SvswGoa8NZLFRNpTI113uMhLBlzOBfhcvu1bH1WIUswx/DcUpaiOmw+mjrw7BTRxP/8ANNp2MjdTGamLZGhue5kj6QAcFTNhaaOtwnF6GOkppcSiFLi1JNug6vdS0smTE4aeT3QDInRyiNurg6fQ6WqO8qcQqG5pJ62sqZIoWPmkfNPUTSFkMDDJM4l7iTGwZjwyjgEVdtitrX4i6LBMenlrcPqXtp6arqHGetwernOSnrKSokvKYN46NskL3FhZewFiHUXGqCSjmnpZwBPTTS00zRewlp3vjkDSRctzMNj1iy2hs5yX4iaWpazBa9m0eH4lRSRuqCyOgkopRJ0WGX/RqoRz0+Z7muIyTMIJAc1VHljqGT4pVzx4jSYsZiyWStoYHUlJLM6Jge2CN0kl2NLQM4e4P1dcklBbse5KcOwo0rsY2kio4qykgqoGxUFTVVGeVpM28jhkIhpYyY7TON5CXgNbkJMdWcj1azGjgLaineGwfdB2IuvHTMwwC766RmYuYA7oZAT0yBmynOPbwm66Gpq8PdTzRTtGz2HRl0L2StbJnr3GMlhID8r2HLxs9vatpYltrQUu0QEtbSx0tfsvTYZ4/wC01NNSVMj55YXVIdmiMOUjM14LfbI81mklEafrdhMPnpaurwPHPuq/D4hU11NLQz4dIaTMWyVtI6aRwmiZxcw2c1tiTcta6J5QtjjhEWGzGoFR90sNgxTKI914uZwHGC+d29DQW9Po316IWydoosdoqOsfW4zspSU81HUU2XD48HNVisczLPo6PxOibMWSjTOS3L0XEC12/O2Wz7dpMMwWqocTwiBlBhUWGYmK+rZSvoZqZsbXPkY5pc6M2kI4EgMLQ4OuCoWl5GXSYvSYIMRGarwlmMeMeLEiMyCceLCPfjP04PfMzdH+501xcN5LIKypjw6gx2lq62Nss2MObTVMeHYVTU7W7+ZtbIQyvDZXCMbsNzFwJyAOI25T43QN2vw6eKvpX0bdmo4WVRliZGS3x97WvJdaOUxFr8h1AcNFpnwecbpKd1bh2IVDKKnxbCZ8L8dk6MdJPKy0b5idGREOkBcSACGXsLkBkScm1BWU9VNgGPNxeooYXVVVRSUFTh80tNH77UURme7ftb3AL6t1u5od9Q8mVFDh2H4zimPMoKOvZK7dsoqisqmysfaOKCOB5MzDGHPfKQ0MIY2zy8Ws3J7gXM81mL4tX4U97sOqKLD6Kgq2Vs1fUVLoS1zWsaC2lbum3e4aCS5DcutZ5UqyF+AbLwxTRSSQ0uJMmYx7HvicZqJrRK1pvGSY32zWvkd2IjOx7kkw/C5Y/uttNTU1FVtZJhdRBRVNTNVwyNY41M8Ub8tDTsMjBnc9wdqRlsbR7ORys+7NTgclTBFHRwmtqsUka4UseHhjHiqLM1w45w3dlws5knSytL1++EVWxTwYGIJopizZyijkET2yGOTI8GN4YTkkuD0TrotqbXbS4dNj2MYdNiFNBT4zgcGGw4jvGSUtPVbmUxNnkY7Kxjm1BJJIHRYPwwg1zs/yUYdixqXYPtIyrjpKWapnbNh9TSVIfG28O7jnkAlppHB4MgN4yGAtdnBE7SbLYE/ZVj343FEx2MNe/FvuPWSTR1DqMB2Gblr9++NoJdvQ7dm3C6y+RrZEbP1FfLiuKYOyokwetgpqamrYqh0kbt1JNUSOs0RRjcRhgd0n55DlG7KrfJ/SsxjZmXAqerooMUhxZuJMp62ojpPGKV1LHCXQOk0e5ry+46sgvbM24Q2GcndHDRwYnjmNNwqnrXSfcyGOinr6ysgiIBq3QxPBp6exa7W+kkeoLmg3jkn2Zgjp9p6Cmxegq6WXCqJ7cVbnhpYoZTiBkfVsdd9PJE1rnPju4gBvWbDCx7Bm7UYbhDMPrsNixDCKQ4TiFBWVUVM+1Puo46umfcsngfuC7O0lpEjdbtIWPsdQ0+E0O1FC7FMNrJX4RSASUcwfA+pc+tbLSU735fGnxufE0uYLXlaNDcAK5i3J5RSYbU4tguNjFmUDoW4jBJQ1GHSxMqHBsdRCKh5c+K5OhA0jk1u0tWuls/knroYsD2njlmijklpcObCx72MfM4T1gIia43kIL2XDb+7b2rWCAiIgIiICIiAiIgIiICIiAiIgIDax6wQR5wbj9iIglnVFmlw42JB7TbiPOqxtdjktLPRTRGz44HPsfws1RMOlbUXEbdf6qki82y9X/a/7FV+UF2d9O/8AB8WEd/60cs2b99p/vL11Ji1cFZms5huXBeXCg3bfGGTslLbOsHua12lz0erzXWWzlRwWRubxktdfUPjqcoB7CYjrcdS5qAWXu7FsehJs51v6w6A89jf+8FzbbKlvX8+ToV8R1a+n5823tv8AlHY5j4KCcTXDX542uZCwtIIsXAOkkBtw07b2savsdXPjGcOcJNOmCQ+/EnNe5JOt1Vo2WzXHANYPKXG518zT86s2AQ9E2Cw1NvWleiGHtFtS/VP8MvF+ULE4pgyOoBa1oJbLHG+5Nzq6wdw8qk8O5TquoY+llgizSxTNM0RczK1sZJJY4m9ybcetUbHIvb5Nbe4FgL/gN1Pk1X1hTcr33A6FNldxNnzSNd8+Un5lsV22niPdjMPP2rVjMdUsiaQtcRe+gHV2LwncRqOv/qF5GQXPbwXmx59yfk/l5VsNZkxznttof5f4le5qMosO9fS/Zp+xYbdQfkH7T/Jfpf13t/nyqYGZvbNDrkPBaQeOodp/nyLI8YYxro3C7HFxDTboFxzZR/VzF3zqPYRdt7ZQQT+0rHklMgceskuHyaj9imFW6lxNj2Mp3C92uyZtbOaLtHkva3yrJmxFhp7P6cbhkeziHNuOI7RcKkw1B6Lm8W2IssypqejYHoOJe0dmb3TfMCf2KYRnYhJI1piDy5sfttM8km8f4cT9elpqL90hQtU0OAlj6LvclvDUD3vzWuW/KOxe7qs2DQb21t2tI6bB+351hxSBriCMzescL2sW+Y9d1lgT2zTwYjbvE+a4H/VSigdl5LuksLNd0gOzXh+kqeVURERBERBl4Nic9FPFV0kz6eqgeJYJ4yA+N4BFxcEEFpc0tcC1zXOaQQSDcpdqcErXb/EMDnpawkSSVGA1jaKGeW9y/wATqoJYqVxNiTC4Akk2BVCRFdAclPK48VBwigbTYRR1EVc9tfjVfVYjNFiPi0jqSqmqKt7YI4jNFEHQNiykyOIJcTm09tbtG2vZTsGG4VQy07ZmTT4ZTR0YrnSvYWyTshAjuwMs3KAPbH2sCGiARB+AIAv1ER+BoHAAIWjjYXX6iD8sOxfqIg/A0DgAPMll+ogmsK2TxCqhNVT0cssHthD27sOl3Dc05gjc4SVWQe6MTXZbG9rLzbsxXeKnEBSS+JBhmM3QHtDX7t1QI829dTCTomYNyAggu0KvXJ3tNhdE3D5JpY4ZKcVTK0SYe6vrHSVL6psc1HVSOLKGjbDPAXMgDJc0M/RkMuZQmJV+HTQwzOrq1k8GEU+DGhpY3QvnfSQtpC51S8GIYZNE0yvicM5Mj2ZdcyCExTY7EKSNs09BNFG58cfBjnslnBdBHNFG4y08rwDlZI1rnW0BUhinJ/X01N4xU08sczq+mwyGkDGTSTzVUVbIWtdDI7LUsdSMjNOW571LL5dA69c+MKpXzz08kMrTiOF4nSUseGvp53wYZXGd1NXV0znz1mIGKQe2SvdFmhe4PvJlEXs1tNheDmN0NXU4j/8AWYsSkBpnwFtJ4hjFG91p32kxBjsQje4aMcWMAedS0KbUbE4k2aOldQTOnmbLJTxx7uffNpmufUiJ0LnMkkja0lzAS5ugIBIB9a/YTFYI3zy0ErYYonVDpQ6B7DBG3NLPCY5D4xExur3RZgwA5stlaRtdR0zGUsM1O6NsOMPL8Ow77l0ranEMImw+kDY3Xnknc8s3khysa0RAZ8pcozBtpqWI4cXueG0mC4th01mE5arEOcG4azvMP3RpbuGgu6/uSiqvVYBVxPnjkppGSUkbZqtrsv8Ao8UhgbG95vbK41NOBYm+9ba6jlsfbbEd3hFEySOaDEsQgpo69szXMdJh2AvqoMLnLZLPy1DZIDnI6X3KaQSCL64RBERAREQEREBERAREQEREBERAREQFi4nRNnaGmwLSXMdYOyl1swIPFpsLjT3I1WUiCs1WDMgY6YjM9vBmpicTYXsekWa3ynzXKgoHHPncbnNmJPXc6q4bRP8Aa3MB6XRcRp7nNb9tlVY2CwJ4X17TpwFuJ8iYEpPBlyMGoe90vXbKAGxkAgEcX/Mrzs3RAMuQqm1l5w0aiNjGg6dbQ93DQnM8i/XZbCwWICMeZaevbN2xpRxlRNpKcCeTtO71Fh/uxx6yvhtJu45J2lrw8wizHAuY2KEZg8fguzOOnHog8CL5m1mUVD72Jyx/hG40I1b1Dh/kqvV1TK1ha15DC67mCxa46dKxHkA+RbcdmvPd4PYXnQ2FtfPfgNR8q8je1utt7HqcBpp5l8+NPIsS21yfcs4kWJ4diCd3k6wNLcdT7lB9tkPEdetv+h4r6dLfQi36NV5GXgC3QXN2mx186eMDUhrr6i9wdT5LedUegdc5fIdV9U0trXHBYjJgOrXyr7ErT5EH6527Jb1dXm4hfYmuMl9L5m+RfjXtcLG1+o3HD519OpesaEdnaFADjcEGxGt+wjgvRzszsxtqNerhofMvMRuHugQe3qP8lmYZh75nC4LYvwncLjsb2kqqldmKYsjLz+Gej/ZHA/Kb/oUuvxrQAABYAWAHAAcAv1EEREBFTOdc/ch9F/rpzrn7kPov9dRcLmipnOufuQ+i/wBdOdc/ch9F/roYXNFTOdc/ch9F/rpzrn7kPov9dDC5oqZzrn7kPov9dOdc/ch9F/roYXNFTOdc/ch9F/rpzrn7kPov9dDC5oqZzrn7kPov9dOdc/ch9F/roYXNFTOdc/ch9F/rpzrn7kPov9dDC5oqZzrn7kPov9dOdc/ch9F/roYXNFTOdc/ch9F/rpzrn7kPov8AXQwuaKmc65+5D6L/AF051z9yH0X+uhhdHEnUkk6C51NgAANeoAAeYBfipnOufuQ+i/1051z9yH0X+uhhc0VM51z9yH0X+unOufuQ+i/10MLmipnOufuQ+i/1051z9yH0X+uhhc0VM51z9yH0X+unOufuQ+i/10MLmipnOufuQ+i/1051z9yH0X+uhhc0VM51z9yH0X+unOufuQ+i/wBdDC5oqZzrn7kPov8AXTnXP3IfRf66GFzRUznXP3IfRf66c65+5D6L/XQwuaKmc65+5D6L/XTnXP3IfRf66GFzRUznXP3IfRf66c65+5D6L/XQwz8ble91gx2UakhpJcSbC9uIDGt8xe7tXjQUJeGsc1zQZGNeSHCzSQCfNYLG511Hch9F/rpzrqO5D6L/AF1l1GE9g4dJI+VwLS97n6gi2Yk63Ww8OLWsALm8B1hae51z9yH0X+uvznVP3IPRf661baGZzl6xqYjC4bXMLp3kAubkiN2lrh/vBbUXB06r9XaqvWwuJ9w+2umU/IvDnXP3IfRf66c65+5D6L/XWxHbDyw+Y6J3cd8oP8l6CjPcf8x/kvnnXP3IfRf66c66juQ+i/10MHiju4/0T/JYviz7noSce67+Syudc/ch9F/rpzrqO5D6L/XQwxDTv4ZH+ToO/kvjxd5/3cgP9hw/wWdzrqO5D6MnrpzrqO5D80nroYYApXkgbuTXQ9B3X8iv5ibwLQbdoBVP511Hch9F/rpzrn7kPov9dDC4CJvdb8wX2qZzrn7kPov9dOdc/ch9F/roYXNFTOdc/ch9F/rpzrn7kPov9dDC5oqZzrn7kPov9dOdc/ch9F/roYQCIiiiIiAiIgIiICIiAiIgIiICIiAiIgIiICIiAiIgIiICIiAiIgIiICIiAiIgIiICIiAiIgIiICIiAiIgIiICIiAiIgIiICIiAiIgIiICIiAiIgIiICIiAiIgIiICIiAiIgIiICIiAiIgIiICIiAiIgIiICIiAiIgIiICIiAiIgIiICIiAiIgIiICIiAiIgIiICIiAiIgIiICIiAiIgIiICIiAiIgIiICIiAiIgIiICIiAiIgIiICIiAiIgIiICIiAiIgIiICIiAiIgIiICIiAiIgIiICIiAiIgIiICIiAiIg/9k=\n"
                },
                "metadata": {}
              }
            ]
          }
        },
        "aaae131655fe4c65b3095b3e237c4aec": {
          "model_module": "@jupyter-widgets/output",
          "model_name": "OutputModel",
          "model_module_version": "1.0.0",
          "state": {
            "_dom_classes": [],
            "_model_module": "@jupyter-widgets/output",
            "_model_module_version": "1.0.0",
            "_model_name": "OutputModel",
            "_view_count": null,
            "_view_module": "@jupyter-widgets/output",
            "_view_module_version": "1.0.0",
            "_view_name": "OutputView",
            "layout": "IPY_MODEL_224e1650d0cd4dc18ffd7e918be62504",
            "msg_id": "",
            "outputs": [
              {
                "output_type": "stream",
                "name": "stdout",
                "text": [
                  "Video available at https://www.bilibili.com/video/BV1mz4y1X7ot\n"
                ]
              },
              {
                "output_type": "display_data",
                "data": {
                  "text/plain": "<__main__.PlayVideo at 0x7d99cfbc1a10>",
                  "text/html": "\n        <iframe\n            width=\"854\"\n            height=\"480\"\n            src=\"https://player.bilibili.com/player.html?bvid=BV1mz4y1X7ot&page=1?fs=1&autoplay=False\"\n            frameborder=\"0\"\n            allowfullscreen\n            \n        ></iframe>\n        "
                },
                "metadata": {}
              }
            ]
          }
        },
        "21c5c738f7194e87a6ed7eb6521c91e3": {
          "model_module": "@jupyter-widgets/base",
          "model_name": "LayoutModel",
          "model_module_version": "1.2.0",
          "state": {
            "_model_module": "@jupyter-widgets/base",
            "_model_module_version": "1.2.0",
            "_model_name": "LayoutModel",
            "_view_count": null,
            "_view_module": "@jupyter-widgets/base",
            "_view_module_version": "1.2.0",
            "_view_name": "LayoutView",
            "align_content": null,
            "align_items": null,
            "align_self": null,
            "border": null,
            "bottom": null,
            "display": null,
            "flex": null,
            "flex_flow": null,
            "grid_area": null,
            "grid_auto_columns": null,
            "grid_auto_flow": null,
            "grid_auto_rows": null,
            "grid_column": null,
            "grid_gap": null,
            "grid_row": null,
            "grid_template_areas": null,
            "grid_template_columns": null,
            "grid_template_rows": null,
            "height": null,
            "justify_content": null,
            "justify_items": null,
            "left": null,
            "margin": null,
            "max_height": null,
            "max_width": null,
            "min_height": null,
            "min_width": null,
            "object_fit": null,
            "object_position": null,
            "order": null,
            "overflow": null,
            "overflow_x": null,
            "overflow_y": null,
            "padding": null,
            "right": null,
            "top": null,
            "visibility": null,
            "width": null
          }
        },
        "c29682d3c35544668ac846942921263c": {
          "model_module": "@jupyter-widgets/base",
          "model_name": "LayoutModel",
          "model_module_version": "1.2.0",
          "state": {
            "_model_module": "@jupyter-widgets/base",
            "_model_module_version": "1.2.0",
            "_model_name": "LayoutModel",
            "_view_count": null,
            "_view_module": "@jupyter-widgets/base",
            "_view_module_version": "1.2.0",
            "_view_name": "LayoutView",
            "align_content": null,
            "align_items": null,
            "align_self": null,
            "border": null,
            "bottom": null,
            "display": null,
            "flex": null,
            "flex_flow": null,
            "grid_area": null,
            "grid_auto_columns": null,
            "grid_auto_flow": null,
            "grid_auto_rows": null,
            "grid_column": null,
            "grid_gap": null,
            "grid_row": null,
            "grid_template_areas": null,
            "grid_template_columns": null,
            "grid_template_rows": null,
            "height": null,
            "justify_content": null,
            "justify_items": null,
            "left": null,
            "margin": null,
            "max_height": null,
            "max_width": null,
            "min_height": null,
            "min_width": null,
            "object_fit": null,
            "object_position": null,
            "order": null,
            "overflow": null,
            "overflow_x": null,
            "overflow_y": null,
            "padding": null,
            "right": null,
            "top": null,
            "visibility": null,
            "width": null
          }
        },
        "224e1650d0cd4dc18ffd7e918be62504": {
          "model_module": "@jupyter-widgets/base",
          "model_name": "LayoutModel",
          "model_module_version": "1.2.0",
          "state": {
            "_model_module": "@jupyter-widgets/base",
            "_model_module_version": "1.2.0",
            "_model_name": "LayoutModel",
            "_view_count": null,
            "_view_module": "@jupyter-widgets/base",
            "_view_module_version": "1.2.0",
            "_view_name": "LayoutView",
            "align_content": null,
            "align_items": null,
            "align_self": null,
            "border": null,
            "bottom": null,
            "display": null,
            "flex": null,
            "flex_flow": null,
            "grid_area": null,
            "grid_auto_columns": null,
            "grid_auto_flow": null,
            "grid_auto_rows": null,
            "grid_column": null,
            "grid_gap": null,
            "grid_row": null,
            "grid_template_areas": null,
            "grid_template_columns": null,
            "grid_template_rows": null,
            "height": null,
            "justify_content": null,
            "justify_items": null,
            "left": null,
            "margin": null,
            "max_height": null,
            "max_width": null,
            "min_height": null,
            "min_width": null,
            "object_fit": null,
            "object_position": null,
            "order": null,
            "overflow": null,
            "overflow_x": null,
            "overflow_y": null,
            "padding": null,
            "right": null,
            "top": null,
            "visibility": null,
            "width": null
          }
        },
        "43697d67a0f740ef9326b3ab638ac206": {
          "model_module": "@jupyter-widgets/controls",
          "model_name": "TabModel",
          "model_module_version": "1.5.0",
          "state": {
            "_dom_classes": [],
            "_model_module": "@jupyter-widgets/controls",
            "_model_module_version": "1.5.0",
            "_model_name": "TabModel",
            "_titles": {
              "0": "Youtube",
              "1": "Bilibili"
            },
            "_view_count": null,
            "_view_module": "@jupyter-widgets/controls",
            "_view_module_version": "1.5.0",
            "_view_name": "TabView",
            "box_style": "",
            "children": [
              "IPY_MODEL_797ed8b001ff477e95e0a42f62615e68",
              "IPY_MODEL_a8e830dab31f49c58bf8785f812eaeed"
            ],
            "layout": "IPY_MODEL_8957f5555fd6419996be4647de73174c",
            "selected_index": 0
          }
        },
        "797ed8b001ff477e95e0a42f62615e68": {
          "model_module": "@jupyter-widgets/output",
          "model_name": "OutputModel",
          "model_module_version": "1.0.0",
          "state": {
            "_dom_classes": [],
            "_model_module": "@jupyter-widgets/output",
            "_model_module_version": "1.0.0",
            "_model_name": "OutputModel",
            "_view_count": null,
            "_view_module": "@jupyter-widgets/output",
            "_view_module_version": "1.0.0",
            "_view_name": "OutputView",
            "layout": "IPY_MODEL_d48e998f4bd3451cadec332c387b4684",
            "msg_id": "",
            "outputs": [
              {
                "output_type": "stream",
                "name": "stdout",
                "text": [
                  "Video available at https://youtube.com/watch?v=oHwYWUI_o1U\n"
                ]
              },
              {
                "output_type": "display_data",
                "data": {
                  "text/plain": "<IPython.lib.display.YouTubeVideo at 0x7d99cf8b71d0>",
                  "text/html": "\n        <iframe\n            width=\"854\"\n            height=\"480\"\n            src=\"https://www.youtube.com/embed/oHwYWUI_o1U?fs=1&rel=0\"\n            frameborder=\"0\"\n            allowfullscreen\n            \n        ></iframe>\n        ",
                  "image/jpeg": "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\n"
                },
                "metadata": {}
              }
            ]
          }
        },
        "a8e830dab31f49c58bf8785f812eaeed": {
          "model_module": "@jupyter-widgets/output",
          "model_name": "OutputModel",
          "model_module_version": "1.0.0",
          "state": {
            "_dom_classes": [],
            "_model_module": "@jupyter-widgets/output",
            "_model_module_version": "1.0.0",
            "_model_name": "OutputModel",
            "_view_count": null,
            "_view_module": "@jupyter-widgets/output",
            "_view_module_version": "1.0.0",
            "_view_name": "OutputView",
            "layout": "IPY_MODEL_6d2af955e99b4aa1bcd2f3bedd0f2661",
            "msg_id": "",
            "outputs": [
              {
                "output_type": "stream",
                "name": "stdout",
                "text": [
                  "Video available at https://www.bilibili.com/video/BV1Hp4y1S7Au\n"
                ]
              },
              {
                "output_type": "display_data",
                "data": {
                  "text/plain": "<__main__.PlayVideo at 0x7d99ccf42f10>",
                  "text/html": "\n        <iframe\n            width=\"854\"\n            height=\"480\"\n            src=\"https://player.bilibili.com/player.html?bvid=BV1Hp4y1S7Au&page=1?fs=1&autoplay=False\"\n            frameborder=\"0\"\n            allowfullscreen\n            \n        ></iframe>\n        "
                },
                "metadata": {}
              }
            ]
          }
        },
        "8957f5555fd6419996be4647de73174c": {
          "model_module": "@jupyter-widgets/base",
          "model_name": "LayoutModel",
          "model_module_version": "1.2.0",
          "state": {
            "_model_module": "@jupyter-widgets/base",
            "_model_module_version": "1.2.0",
            "_model_name": "LayoutModel",
            "_view_count": null,
            "_view_module": "@jupyter-widgets/base",
            "_view_module_version": "1.2.0",
            "_view_name": "LayoutView",
            "align_content": null,
            "align_items": null,
            "align_self": null,
            "border": null,
            "bottom": null,
            "display": null,
            "flex": null,
            "flex_flow": null,
            "grid_area": null,
            "grid_auto_columns": null,
            "grid_auto_flow": null,
            "grid_auto_rows": null,
            "grid_column": null,
            "grid_gap": null,
            "grid_row": null,
            "grid_template_areas": null,
            "grid_template_columns": null,
            "grid_template_rows": null,
            "height": null,
            "justify_content": null,
            "justify_items": null,
            "left": null,
            "margin": null,
            "max_height": null,
            "max_width": null,
            "min_height": null,
            "min_width": null,
            "object_fit": null,
            "object_position": null,
            "order": null,
            "overflow": null,
            "overflow_x": null,
            "overflow_y": null,
            "padding": null,
            "right": null,
            "top": null,
            "visibility": null,
            "width": null
          }
        },
        "d48e998f4bd3451cadec332c387b4684": {
          "model_module": "@jupyter-widgets/base",
          "model_name": "LayoutModel",
          "model_module_version": "1.2.0",
          "state": {
            "_model_module": "@jupyter-widgets/base",
            "_model_module_version": "1.2.0",
            "_model_name": "LayoutModel",
            "_view_count": null,
            "_view_module": "@jupyter-widgets/base",
            "_view_module_version": "1.2.0",
            "_view_name": "LayoutView",
            "align_content": null,
            "align_items": null,
            "align_self": null,
            "border": null,
            "bottom": null,
            "display": null,
            "flex": null,
            "flex_flow": null,
            "grid_area": null,
            "grid_auto_columns": null,
            "grid_auto_flow": null,
            "grid_auto_rows": null,
            "grid_column": null,
            "grid_gap": null,
            "grid_row": null,
            "grid_template_areas": null,
            "grid_template_columns": null,
            "grid_template_rows": null,
            "height": null,
            "justify_content": null,
            "justify_items": null,
            "left": null,
            "margin": null,
            "max_height": null,
            "max_width": null,
            "min_height": null,
            "min_width": null,
            "object_fit": null,
            "object_position": null,
            "order": null,
            "overflow": null,
            "overflow_x": null,
            "overflow_y": null,
            "padding": null,
            "right": null,
            "top": null,
            "visibility": null,
            "width": null
          }
        },
        "6d2af955e99b4aa1bcd2f3bedd0f2661": {
          "model_module": "@jupyter-widgets/base",
          "model_name": "LayoutModel",
          "model_module_version": "1.2.0",
          "state": {
            "_model_module": "@jupyter-widgets/base",
            "_model_module_version": "1.2.0",
            "_model_name": "LayoutModel",
            "_view_count": null,
            "_view_module": "@jupyter-widgets/base",
            "_view_module_version": "1.2.0",
            "_view_name": "LayoutView",
            "align_content": null,
            "align_items": null,
            "align_self": null,
            "border": null,
            "bottom": null,
            "display": null,
            "flex": null,
            "flex_flow": null,
            "grid_area": null,
            "grid_auto_columns": null,
            "grid_auto_flow": null,
            "grid_auto_rows": null,
            "grid_column": null,
            "grid_gap": null,
            "grid_row": null,
            "grid_template_areas": null,
            "grid_template_columns": null,
            "grid_template_rows": null,
            "height": null,
            "justify_content": null,
            "justify_items": null,
            "left": null,
            "margin": null,
            "max_height": null,
            "max_width": null,
            "min_height": null,
            "min_width": null,
            "object_fit": null,
            "object_position": null,
            "order": null,
            "overflow": null,
            "overflow_x": null,
            "overflow_y": null,
            "padding": null,
            "right": null,
            "top": null,
            "visibility": null,
            "width": null
          }
        },
        "cbd2e4b061294adf9df138113b1d3384": {
          "model_module": "@jupyter-widgets/controls",
          "model_name": "TabModel",
          "model_module_version": "1.5.0",
          "state": {
            "_dom_classes": [],
            "_model_module": "@jupyter-widgets/controls",
            "_model_module_version": "1.5.0",
            "_model_name": "TabModel",
            "_titles": {
              "0": "Youtube",
              "1": "Bilibili"
            },
            "_view_count": null,
            "_view_module": "@jupyter-widgets/controls",
            "_view_module_version": "1.5.0",
            "_view_name": "TabView",
            "box_style": "",
            "children": [
              "IPY_MODEL_e2b73103696940c592c72183f522976c",
              "IPY_MODEL_3ef18c6626684502bc424c3c43da35fa"
            ],
            "layout": "IPY_MODEL_188552d81f5a46139a7685fafc27636c",
            "selected_index": 0
          }
        },
        "e2b73103696940c592c72183f522976c": {
          "model_module": "@jupyter-widgets/output",
          "model_name": "OutputModel",
          "model_module_version": "1.0.0",
          "state": {
            "_dom_classes": [],
            "_model_module": "@jupyter-widgets/output",
            "_model_module_version": "1.0.0",
            "_model_name": "OutputModel",
            "_view_count": null,
            "_view_module": "@jupyter-widgets/output",
            "_view_module_version": "1.0.0",
            "_view_name": "OutputView",
            "layout": "IPY_MODEL_bb68e725d730438991436d341801434f",
            "msg_id": "",
            "outputs": [
              {
                "output_type": "stream",
                "name": "stdout",
                "text": [
                  "Video available at https://youtube.com/watch?v=QGA5FCW7kkA\n"
                ]
              },
              {
                "output_type": "display_data",
                "data": {
                  "text/plain": "<IPython.lib.display.YouTubeVideo at 0x7d99cfbc16d0>",
                  "text/html": "\n        <iframe\n            width=\"854\"\n            height=\"480\"\n            src=\"https://www.youtube.com/embed/QGA5FCW7kkA?fs=1&rel=0\"\n            frameborder=\"0\"\n            allowfullscreen\n            \n        ></iframe>\n        ",
                  "image/jpeg": "/9j/4AAQSkZJRgABAQAAAQABAAD/2wCEAAUDBAkICgsICAgICAgKCgoICAgICggICAgICAoICggICAoIChALCAgOCggIDRUNDhERExMTCAsWGBYSGBASExIBBQUFCAcIDwgJDhINDg8SEhISEhISEhISEhISEhISEhISEhISEhISEhISEhISEhISEhISEhISEhISEhISEhISEv/AABEIAWgB4AMBIgACEQEDEQH/xAAdAAEAAgMBAQEBAAAAAAAAAAAABQYEBwgDAgEJ/8QAWhAAAQMCAwMGBgsMBggFBQAAAQACAwQRBRIhBhMxBxYiQVFSCBRhcZLSGCMyM1RVgZGT1OIVNUJzdZShpLGytNEJYnKCwfAkNjdDdLPh8Rc0VoO1JYWio8T/xAAaAQEBAAMBAQAAAAAAAAAAAAAAAQIEBQMG/8QALBEBAAIBAwIDBwUBAAAAAAAAAAECEQMEIRIxBUFRFCJhgbHB8BORodHxI//aAAwDAQACEQMRAD8A4yREQEREBERAREQEREBERAREQEREBERAREQEREBERAREQEREBERAREQEREBERAREQEREBERAREQEREBERAREQEREBERAREQEREBERAREQEREBERAREQEREBERAREQEREBERAREQEREBERAREQEREBERAREQEREBERAREQEREBERAREQEREBERAREQEREBERAREQEREBERART/NSfvw+k/wBROak/fh9J/qIIBFP81J+/D6T/AFE5qT9+H0n+oggEU/zUn78PpP8AUTmpP34fSf6iCART/NSfvw+k/wBROak/fh9J/qIIBFP81J+/D6T/AFE5qT9+H0n+oggEU/zUn78PpP8AUTmpP34fSf6iCART/NSfvw+k/wBROak/fh9J/qIIBFP81J+/D6T/AFE5qT9+H0n+oggEU/zUn78PpP8AUTmpP34fSf6iCART/NSfvw+k/wBROak/fh9J/qIIBFP81J+/D6T/AFE5qT9+H0n+oggEU/zUn78PpP8AUTmpP34fSf6iCART/NSfvw+k/wBROak/fh9J/qIIBFP81J+/D6T/AFE5qT9+H0n+oggEU/zUn78PpP8AUTmpP34fSf6iCART/NSfvw+k/wBROak/fh9J/qIIBFP81J+/D6T/AFE5qT9+H0n+oggEU/zUn78PpP8AUTmpP34fSf6iCART/NSfvw+k/wBROak/fh9J/qIIBFP81J+/D6T/AFE5qT9+H0n+oggEU/zUn78PpP8AUTmpP34fSf6iCART/NSfvw+k/wBROak/fh9J/qIIBFP81J+/D6T/AFE5qT9+H0n+oggEU/zUn78PpP8AUTmpP34fSf6iCART/NSfvw+k/wBROak/fh9J/qIIBFP81J+/D6T/AFE5qT9+H0n+oggEU/zUn78PpP8AUTmpP34fSf6iCART/NSfvw+k/wBROak/fh9J/qIIBFP81J+/D6T/AFE5qT9+H0n+oggEU/zUn78PpP8AUTmpP34fSf6iC5oiLJiIiICIiAiIgIiICIiAiIgIiICIiAiIgIiICIiAiIgIiICIiAiIgIiICIiAiIgIiICIiAiIgIiICIiAiIgIiICIiAiIgIiICIiAiIgIobHMd8VeI91nuwPvny8S4WtlPd/SsDncPg5+k+wouFoRVfncPg5+k+wnO4fBz9J9hDC0IqvzuHwc/SfYTncPg5+k+whhaEVX53D4OfpPsJzuHwc/SfYQwtCKr87h8HP0n2E53D4OfpPsIYWhFV+dw+Dn6T7Cc7h8HP0n2EMLQiq/O4fBz9J9hOdw+Dn6T7CGFoRVfncPg5+k+wnO4fBz9J9hDC0IqvzuHwc/SfYTncPg5+k+whhaEVX53D4OfpPsJzuHwc/SfYQwtCKr87h8HP0n2E53D4OfpPsIYWhFV+dw+Dn6T7Cc7h8HP0n2EMLQiq/O4fBz9J9hOdw+Dn6T7CGFoRVfncPg5+k+wnO4fBz9J9hDC0IqvzuHwc/SfYTncPg5+k+whhaEVX53D4OfpPsJzuHwc/SfYQwtCKr87h8HP0n2E53D4OfpPsIYWhFXKPagSPZHuCM72svvL2zEC9smvFWNAREVQREQEREBERAREQEREBERAREQEREBERAREQEREFM259/b+Kb+/KoBT+3Pv7fxTf35VALFkIiICK6VXJTj8VJ905MGr20AgbVmrMR3IpntD2zlw/3eRwdfsKpaAimtj9lMQxiY0uF0VRXVDY3Tuhp2GR7YWOY10jgODA6Rgv2vHavPavZutwqc0eJUs1HVNa17oJ25JAyQXY4jsIQRKIiAiIgIrzyKcl9dtbWyYdh01HBPFTPrXOrXzRxGKOWnhc1pghkcZM1Sw2LQLB2vAGsbUYPJh1XU4fM6N81JUz0croi50TpaaV8Ujoy9rXGMuYSCWg2IuBwQRqIiAi2ByJck9ftdUzUeGzUUEtPB4zI6ufPGwxmRkdmGCCUl+Z40IAtfVUzHsNfR1E9HKWOkp5paaR0ZcY3Pge6N5YXNBLCWm1wDa2gQYSK67M8k+0GJ08ddQYNX1dJLn3VRDEXxybt74pMpvraSN7T5WlSX/gTtX/6dxP6E/wA0GuEWx/8AwJ2r/wDTuJ/Qn+aoeMYdNRzS0tVE+CogkdDPDIMr4pYyWvY8dTg4EfIgxEREBERAREQEREBERAREQZeD+/w/jY/32rY61xg/v8P42P8AfatjqwkiIiqCIiAi/Y2FxDWgucTYAC5JPAADiVb8E5PqycB72iNl+k0uYJcn4TgHEN0Hlv5Fha9a95wyisz2U9FsvENh6FhayOpLix2abpNLnMtcNabho4gE6/OvMYFTNIiYynvYOdvHPEuugzNadG6g2uPnK8Lbuker1jb2lrhFtNmwtPMLhjDduu4llzBw6w2Xo28/b5LqnbSbMGma6WB5mhY7JK12UTQOJsN61pOl+sdoTS3enqTiJ5L7e9YzKuoiLaeAiIgIiICIiAiIgIiICIiCmbc+/t/FN/flUAp/bn39v4pv78qgFiyEREH9VNgH0tTgmE4PVtztxDZ+Jjo3Wyy07KKhiqYteLiyrGnYHnqX8xdudnZcIr6vDKi5lo6mWlc4tLBJuXua2VrTqGPaGvHG4eOK7R5V9sjgFDsHipNooGUwqbBzr0c+G0kNXZrdXO3EkhA16Qb2LXnh88n8n3bocRoYjKcaZHShseu9xGnMUMYzXygyQy0jW3IvunntsF1/o/8AZ6PDMNqMeqmlsmJ1sGFUF8t3wxyBjnRdeV1RJLmB6sPvbTXT3h7f60z/APCUf/JW9drq2LCMc2M2KpHAxYe6OtqyAAJKgw1EEEht7mVxNdK4W18aadFo/wAOqndNtbLFGLvkp6GNg4Xe+MNaNeGpCDXHJbySY5tKXnCKB88Mbt3NVSOjgpYn2BLDLM4NfIGuaSxmZwD2m1iFadufBo2qwiF1XLhzaunjaXzPoJo6p0TRa7nQi0zmgEkljHABriSBqt8eGJj02x2C4PszgEsmHwysmE9TSvMFS+KiFPnbniAc11RPVPlke0tLjGQbte8HU3ge8quKUmP0dBPX1VTQV8ppJ6apmlnYJJWu3E0IlcRFKJt3dzfdNLgeogOfVs7kr5B9odpIfG8OoQ2iJc1lZVyMpoJXRuyvEOf2ycBwc0uY0tBje0kEWV88IjkvgZtxDhNM3c0uMVFDUZIQG+Lsr5tzWOjB0AEkVTKABYBwAFgrr4ee3VXhc+H7M4TNLhuHwUEdTJFRPfTCRrnzU9NTO3VneLwx0pIZfKTMCQSxpAZ/gbcleM7M7S1DMXonQMlweqEFQxzJ6aYtrcKu1ksRLQ+2uR2V1tbWXL/LT9/sY/K+JfxlQulf6PvlExetxKqwetxCorKFuHyV0TKt76iSCeKooYQIZZSXshLKh9475bgEAG99O02yseN7cz4XP7xUbQ1wqAC5pfTRVlTLURtc0gsc6KKRocOBcD1IMPky8H3aTaGEVlFQNion3MVVWyMpoprW1ha68srNT02sLOiRmuLKvcqXJdjGzMrIsYonU4lzeLzscyamnye63csRLc4uCWOs4BwJAuF2N4VHJ5tfjVXT02z5FLglLTMZHDBWsoGSVBJzufFG9uZkcbYY2Bws3K/LbMb+e1mxOLybAV1DtUBLiWGiWto6l0zKyYxUeSeGUzanebt9VTEk5t2TrrdBrL+jb+++I/k0fxVOueOU777Yl+Ua3+JmXQ/9G3998R/Jo/iqdc8cp332xL8o1v8AEzILLsby57TYPSRYbhuLPpaKDebmBtPQyBm+lkmk6U1O57rySyO1J91bhYLr3wPOUfF8dwfFqvFa59XUU0jmU0hipojE0Uu8ADYImtd09ekCv59rtnwAPvBjn45/8Eg0L7JjbL4+l/NcN+qqFx/k+2jxChm2xqqTxjD6h76upxJk+HkvklqDDLI6mgl3rP8ASCQQIxlsSQALrXS7C8AvHYcVw/F9ja8l8M8MtTAwlxPi1WwUteyMn3vI51NI0N/CmkdoQSg49Vx2z5McZwakpcSxOh8UpK4MdRvfPRulmEkQmaTTxzOnitGWk52NylzQ6xICsnJLyUz1+1MezlXGbUtbK3E7B2TxXD3uNSQdC1kojEbX9tRGdbq1+HZtyMVx40EEgdR4RH4ixrC0x+OOIfXubbVrg8RQOHUaPz3CkYlyE7T076OKTB5TJiJIoGRT0VQ6bKxsj3O8XnduI2se1xfLlaAdSFZNovBZ2toqc1Zw6KpDWl8tPR1EVRVRtDS51ogQZ3C1ssOdxJFgV0p4WXKVX7OYJhTsKMUFZWRCm8fLGSVFLTtgppJmUwkaWtdK5sQLjewj0GbK5mj/AAQeWHGxtDSUFditdiFFiDn008VfUT1mSTdSvgmgM73GGXetYCRo5rnAg2aWhzcto8lvIJtHtHCKugoBHROzBlZWSMpoJS0gHcB/tk7b5hnYwsux4zXFlsfl85NqeflAhwyNoZTYtUUVXURsuzKypP8A9RLC0aSPMFTJfvS9S3P4U3J5tbi81JQbNBlJgVJSxsbDBVsoA+oDnNyuYx7c0EUMdO1jSLNvJbjoHHHKryUY1sw9jMXojDHKSIKmN7J6WYt4tZLESGvA1yPyusL2tqq7sjs3W4vUx0GG0stZVym0cMQBcQNXOcSQ2ONo1L3ENA1JC7krth8ZdsHiuHbW2nraCOqraCczNrJhT0MUdXTufPmc4yCRtVDrY7ohvBag/o8NoaCjxmqpqt0cVXW0jYKCaTK0PeyZr5aNjibiSX2t4bwd4tbjlBCvTeCRtc2LeikonvtfxdtbTiYG3ubvIhzdXu7eVaKrKd8L3xSDLJG50b23ByvYS1wuDY2IPBdG8tXJrt3s/UVOJtxPF8QpM8kxxTD6yqErIi5zs1VBFI2Wlys1dlaYmcA6wXONTM6RzpHuLnvcXvcdS5ziS5x8pJJ+VB5oiIMvB/f4fxsf77Vsda4wf3+H8bH++1bHVhJERFUERfrW5iGjiSAPOdFBfNi6CKjidW1DWulI9oB4sabNzD+sS8C/81+Vm3LbucB0m6tzXsDlFyzMLAE3v5vMpDGqCSSjAaLse1rmlrXXIaCLHXTQix6/0KhtwqQExyNJadcpb0nD+r18Osdq52pMWnMuhp1mI4Wen2tcGGSd8IcALMYyNuV1yAC4gkixvxOt+NgvmGojnZni8XZK4AeMTODGhzeB1sZSBbjoBbgqbiGz75LtaHMc4Zt3axvoOkc3YSeHWsvANjJXOb7YdLtfexAGa1mjsI0+Qryv0YznDOtb57JhmNtoC4y1b6osA9rpy+MPcLm29cAMlr+4vc34cFN4HtKyva+SdpErScrbNbvKQ2a+KS7ss4sDcOsQQbeTIrtkskcLXNjbC17N68X1ZmuRc6u6RDidf0KFxPBwyYPhjYx7GhslgGGxZK3I8j3OaSVotfQCx4LyiaWjjv6srVtWee3oxNs8GihLZ6YPEEnFpuWscRcGN3XE6zrX4EEeQVtXTD4fapKeVrnQ2LTnN905zc7ZGnzlrh/Z1uqbLGWktcLOaS0jyg2K6W11JtXE8zDR16YnMeb5REW08BERAREQEREBERAREQUzbn39v4pv78qgFP7c+/t/FN/flUAsWQiIg628Mn/VbZL/AISD/wCOolujwbsRotqdnMHrMRyy1GA1IzOe7SOswyCWGnmlc7V/+i1EE5J/Dsdcq4P2y5ScXxilpMPxGt8Yo8PY2Ohh3FJDuGMjZE0Z4IWyS2jjYLvLuF+Oqqsc72gta97Wu901riA64sbgGx0Qb55Otrzj3KFTYsb5KrFS6AEWc2liifDRtcO+KeKEHyg8F9+HXO6LayWWM5ZGU9DIx2hyvZGHNdrobEBaT2Ux+qwqqhxCgl3FZTv3tPNkil3b7EZskzXRu0J0cCFl7e7Y4hj1U7EMVqfGqx7GRum3UEF2RDLG3JTRsjFh1ht0HXnhfYDNtngmD7TYBDJXxxNlM9NTN39SyKtEG8OSMlzn089K6KRjA4gyE+5Y4jVXgfckuLVOP0lfU4dV0mH4fIaueoqoZadrpY2P8Xhg3rRvpTNuyQ33LQ4m3RB1hyYcq+ObNl33IxCSmikcHzUzmxz0srxlBc6GdrmNkLWtaXsyus0C+gVn258JHarF4HUk+J+L00jck0dDFFSOlabXa+WMb4MIuC0PDXBxBBBsguXLlypUsm3lNisUjX0GE1VDSPnjvIJYKObPXvjDR0rPmqmNLbh27a4XzK9+HjyXYpitbR47hFHPilM+iZRzMoI3VUsTopZpoZwyHM+WGVlVYOY0hu4JcRmbfjRbY5OvCG2mwKnbQ0eINko4xlggrIoqlsDepsL3jeMjHUzNlHUAg6C8BTkixTBqybGMWi+55qaGWko8PqLNr5o3T0U01VJDfNTxMMUTMrwH3m1DRlz6C51NwTbioxWQEw020Nc+ewLneLPramOpLAPdPEMkhA7QFgf+Pu1H3QdjAxiTx91O+iEhgo5IYqSSSGV8MNPLA6CEF8EJLmsDjuxcnW+vcaxKatnmrKl+8qamaSpqJMrGbyed7pJX5YwGNu9zjZoAF9AEHZXhkbLY/UzU+0ezFXidZhdVSxb6PCKipkEb2i8NXHDTSXkp5YHx9NjSAYXFxGZt+cZsM2yqKaokmZtK6higklrZKp2Ix0gp2D20SuqXCN/RPuNSRfQr45MeW3aHZyMU+GYk9lIC53ic7IqmmBdmLt22dpMF3OLjuiy51N9VLbeeEZtRjMEtHVYixlHPGYZ6ampqWFksbr52ufuzNZwNiA+1hw4oNnf0bf33xH8mj+Kp1zxynffbEvyjW/xMyyOTblDxbZyaSpwas8Tnmj3Er9zS1GeLM1+XLVRPa3pNabgA6KvYpXSVM0tTO7PNNI+eZ9mtzyyuL5HZWANbdzibAAC+iDGXbPgAfeDHPxz/AOCXEyu3J/yr45gFPPR4TX+KU1U4uqY/F6KfeOLN2TmqYHvZ0NOiQgpKvPINtsdnsbocVLi2GKYR1gGY5qKoBiqui33wiKRz2jXpRsPEBUZSOzODT4jVU9BSsz1NVNHTQN1AMsz2sZmIHRbd1yeoAlB/SfbfCsP2Wkx3btojfU1GG08bGu0a6phBjjYyQE2jqpBhbCGjjBm1Ll/M7EKySolkqJ3ukmlkfNNI7V0ksri6R7j1uLnE/Kut/Du2iGGYfg+xsFRLMaemgqa2V5dvJoqSI0lDviOi8yPZUyuaeBjiNvclcgoO8/DK2CxTGsCwiXCqOSuNE0S1MMHTqRFLTQtbJFCOnOA5li1l3dIHKRmI0x4GfJVi020FLiNTh9XSUOHmSomnq4Zadr5d1KyCCHesG9l3r2OIHuWscTYloO3/AAxNscRwLD9na/CayWiqmtkj3kWVzXxupaUuimjka6OeIlrXZJGuF2NNrgEc6bb+EntVi9O6inxIQU8jTHO2ihipXzsNrtfLGN61pAILWOaHBzg4EGyCx8s/KvCdumY5TuFRRYZV0lOx0IBM9NRFra3dEnK/M91WGOvYgsPBbZ8MXZrHa91JtLstWYlWYZPSRMngwieqJFnPfDXMhpn3likila0lrbs3F3aO04jWw+THlo2g2cZucLxJ8dKSXGjnZHU0uY5i4xxztduCXOuTEWFxAvdB7uwzbOpp6h8jNpnUUVPNLWvqXYiykbSxxudUCZ1Q4Rubuw67CSXC9gVW9i9gsWxqOplwrD569tG2N9U2mySTMbOZBFkgDt7OTupNI2uIy62uFeNuPCR2pxeCWjqcRjipJ4nwVFPTU1NE2aKUFsjHSGMyhrmuIIDwCCqdybcpGMbOSSTYNXPonzBjZwI4JmTNiLjGHsqI3sNs77G1xmKDqTwMdr9s3Yk3CsUp8TqcHbFKZ6jFYZ2yYe5jHOg3dTUtEkpfLu4hA5zrNcXNDQxy5z8JiioqfaTFocNEbaRtW7KyK27jnLGOrI2AaMayqM7cg0blygAABWbaXwo9ra6B1McSZSse0skkooIaedzXCxyzAGSF39aIscO1aVJQfiIiDLwf3+H8bH++1bHWuMH9/h/Gx/vtWx1YSRERVBfrTY3HEaj5F+Ig3xyWQHFo4baxxvPjDXcDu2gm44FrnFgt2O+a1YvscBnkip4nPtmDBljzcLtL2tN/m6gOCp/gnVQMlZTED3EUzXa34va8dluixb0rahjej18PlP8A0XI3k9M4h2tjHVXLn6PZOoD5JZWNbM8m7SL7pl9A3q11PXoG9hU/sxsgW6yC46/N2eX/AKrY1djFNCbvMYAHSc+wAt23UezbPDnnI2aNznGwyatHlJvYBcXVveXXrSsY4YeP4ZEYsugyDQf99NeC0xtzCWOMsLy1zxu3gXAc0OJ4douB/fat81ETJQTG8OYeD2nMAfkWpuUGnFPI2OWM5nEvAjGdsrLHPYNBLXZM3V1Ada9djaerpae+px1Khg9SQA2UWzsEeozgvYTka7ycezrCre1UYbUyWFgcjgP7UbCf03Vwwpkk87IaSCWpyuBlAbfdxkN6T3ONoTYNdZ5bc3sqvt5A6KtmiewsdHkjLXCx6MbLHzWtbyWXd22IvMfBxdeJ6YnHGe6DREW+1BERAREQEREBERAREQUzbn39v4pv78qgFP7c+/t/FN/flUAsWQiIgIiICIiAiIgIr3yQVmzML5ztTSYtVRFkYoxhToWuZIC/embezx3aW5LWvwK6H5I+T/k92nir56DDtoYm4ZCyoqRVzxRukZI2oc0QbmpkDn2ppPdFo1brxsHHqLeO0uL8m7qWpbh+FbUx17qeZtDJUPpDTsrDG8Uz5w2ucTCJchdYE2B0PBaOQERXjke5MMQ2qqJqPDX0rJYIDVymrkfEzdNfHGcpjjeS7NI3SyCjoiICIiAs/Z7GanD52VlDUS0tVEXGKohcWSxl7XMcWOGrSWPcP7xUhydtw44hSjGnSNwrejx50OfeiCxuWbsF9724C69uU9uFDEqkYC6V2EZ2eJOn3m9LN1HvM+9Af77vOI4WQRu02P1mJzurMQqp6yqeGtfPUPdLK5sbQ1jS5xvYNAFlGIvaiaDIwEXBe0EHgQXDQoJvanbfFcVjigxLEqythp//AC8dTK+VkN2tad2HHo9FrR8iry6C8PPZ2hwzHqenw2hpKCB2FQTOho4YqaJ0rqrEGukLIWhpeWxsF7XsxvYufUBERAREQEREBERBl4P7/D+Nj/fatjrXGD+/w/jY/wB9q2OrCSIiKoIiINi8l9QcPllYKjJLUwlntbHuLGxtE2jiACXMuPlGqkanaWupDcTVEgdHv2GUPmiAuSL9cd2tOlxxGnEKN5HaJtfiNPa5fBTyunhIA3scUbomPjeXZcw38d2ut7k2JutsVWCCtlFPuS3Od3eQg5GPuJXNYzQvEeexJ0Nj1LnbqYi/MZdjZUtanuzMYa929dWiWJlVBKzewxTwxOdHeSR+czR2bcXZ0LtuTqLHVR0NJVysidTysjJLt9E4agkjKxjY+lwFtSLarfvKHgbarI9ozSxHNT2yksfrbR3UdPmB0IBFSwCrsdMrJW+7LYo2yNcPdD23MAb36iuV7THaKxEurXZzaMzMz81KwyjrqeV0dS2YRyQxmERzlscMkD5d44Bzi9zpGyxi1ne9akaK3HZVhp5JLOLszpIor5Hlrs996Wnpuyvd0eBGlutTrSJnl7nXeO/robG3YG6DQdgWbG7MNNLGxH+HmssPar8Ujj1x5vO2zpEza3Mz/DX2FU0NNJHHUNkibMC8bprWtay7Q1r72IZdzrdlitZ8rzA3EHMvd7Io45CTc5m5hHmPW7c7hdB4i+lijkrqtuVtM0kS9xsfSsxt7Pe5+gBB6VrLljGsQfVzy1Mnu5pHykXvlzuJDAesNFm+ZoW54XW19S2r5Rx+fs1vE9StNCujHfOf2z9c/wAMRERd18+IiICIiAiIgIiICIiCmbc+/t/FN/flUAp/bn39v4pv78qgFiyEREBERAREQEREBdW+AP8A+S2p/wCAp/8AlYsuUl1d4A//AJLan/gKb/lYsg5RXSnKDTsHJls/II2CQ4xOHSBrQ8jfbSaF1rkaDTyBc1rrrCdjazark5wvD8DbDWV+H4pPNVUu+hhkaN/i5MYdM5sbZd3iNNLle5t2E2ubAhWvBHp2P2f23c9jHOZgwLHOa1xYfEsf1aSLtOg4dgVs/o7Nrqh0ldgu7pvFYaabEmSbs+NGeSSkiLHy5rGDK2+TLx61PckvJkdmNmtq6atq4ZMaqMElqMQw+B7ZW4bT+I4v4hHK9os6okvVOdYkWYy1xZz9bf0eGJQxY7VUssjY5KvDJoqYOIBlljmppHRRgm75N02WSw/BheepBR8d23xLlAxHCMKrYsPpSavxWKSgpzBlZiElKyeWUOlcJN2yAOAFuDuN1t/lw5YHbC1o2Y2SoMPooKKGA1s8tOJqiqqZ4o5hvXkje+0yQ5nuu4lxFwGgLTA2WxfYLGcNxDGaF8McNcJojG+CVtbBQyweN+LFr+uKZti/L763hYgba8KDkZxPaLFBtLszEzGsNxWCnl3tNNTt3M0EMVNlLZnsO7cyBjr6lrt612UgAhictWGUW1WyUO3MVDTYdjFPOKXGG0bd3T1YM7abeFvEy55aWRrnEuDZXsc5+VjhauTXF8Nwrk9pcVxHDYsSNPXTSU1LI1m7nrfG6llMKlxabwMLjIQb33TRrwUBytNZshsPDsjWywux3Ep21tXRwyNlNHAKmOpzyll2gDxami42e/fFheIyVi4l/srpvym7+OqkEBsLypV2121uAz4pBQxmnnFNHHSRSRxGJxlkyvbNLJexNhrwA86rvhNVMVFtpXTmmhnhp62jndRva0QTxxQUb308jcpbu3hpadDo46FQ3gsf60YP/wAaz91621jdLQzcqTosUELqN1cy7ai25fUDDGGhY8O6Ls1WKZoadHFwGt0Fj5I+WXbHEa+gjGzLGbOVVTT00rKPCKxlBDRVEjI3VDagBzA2ON+cuJyEMNwBw0h4UWAUuGbWYhR0MDKalZPSSxwRANijdVUlHUStjaNI497PIQxtg0EAAAALorbLZzbZ21BxXEcS+5+ytFiENX4w7E2UWFDB6apZI2GSnjlDn1T4Ru3b2OzpCQXZMpWpfDh2SraXaaXFZoHNoMQfR+KVHRLJH01JSQTRGxu2RroXGxA0IKDM/pGf9Yqb8j038Zia5pXS39Iz/rFTfkem/jMTXNKAiIgIiICIiAiIgy8H9/h/Gx/vtWx1rjB/f4fxsf77VsdWEkREVQREQXHkXx1uH4rTzSECKTPSyk8A2oblYT2NEu6J8gK3zS4vLJWSNiABbG5hNj0XG3Dy2BH95cqFbz5NMVlxGHNT1G4rmMEFQ8ta/wBsDSIahzT7pkjWgO4HMx2o0XP3tJnFvLPLr+Ga8RFtP17fdLYtiWJB7t1MW2sCctyT1lubqUe9kkTTI9xMriXuN7OLnHU2PV5D2KZrYnvjAqaetfVMG7mAkZFBNKIwTNEWkuEBedL62vcdtPxbBnVQySQQQRAnOI5XzSuBy9EvytDODuBJ6XVZcjW04rPpDu0taY4z9IWHDsSe46nW17jh5fMf5hWvAKzOOlxt89uB/SqNh8QaMo0A0+SwAGvVYKw0FSI7X0WvXmXnrW45Uzl/qzFHFTjNaeWWV3SIbaIxlt29ZzPv5LLTq274QVOXR0dSB0c08Tj2F4hewH0H/MtRL6PYxH6MTHx+r5re5/WnPw+giItxqCIiAiIgIiICIiAiIgpm3Pv7fxTf35VAKf259/b+Kb+/KoBYshERAREQEREBERAWZh+KVFMHinqJ4BIMsohkkiEjRcBsgY4Zx0naHvHtWGiApPANoa7Dy51BXVlC54DZHUc81M6RovZrzC9pcBc6HtKjEQZ0eMVTd9lqqlvjN/Gssso8ZzZ83jFne3X3kl81753dpWLTzPjc2SN7o5GOD2PYS17HtILXsc3VrgQCCOFl5oglMf2irsQLDX11ZXGMERGsqJ6kxh1swjMz3ZAcrb27o7F94DtRiOHtcygxGvomPOZ7aSpqKZrzYC7xC9ocbAC57FEIg9qyqkme6WaR8srzmfJK50kj3Hi57nElx8pXqcTqDCKU1E5pgcwp95JuA65OYR3yB1yTe3WViIg9aSpkhe2WKR8UjTmZJG5zHsd2tc0gtPlC/a2qkneZZpJJpXavklc6SRxAABc55JcbADXsXiiCWxnabEK2NkNZiFdVwxWMUVTUzzxxEAgGNkry1mhI0A0K+MW2hrqtkcVXXVlVHAMtPHUTzTMgaAAGwtkeRELACzbcAoxEGVieIz1ThJUzzVEgAYHzyPleGgkhodISQ27nG3lKxURAREQEREBERAREQZeD+/w/jY/32rY61xg3v8P42P8AfatjqwkiIiqCIiApjY7aCXDKllVF0g3oyxXsJoTbPGew6Ag9TmtPUodfRYRqdOvXS/VoOJ17FJjMYllW0xOYdQYuwV0EVdTSAwTxtkbm0vnAIzDWzxwI6iCoGHDZG6yEAdgI4f4Kl8lu00zWw4MOm6aWQUhcQGseIpp5YSe57U8g96S3A3Uhj1fVRvLJI3RvBsQ42A+Y2PnXA32hMTh9Jtd310hN1crYzpx6uC+qWbO8EnQcP8/KqjT1EjyLkuceJOgVlwdjtL6dq58x0w9qz1zmWXypYbJV4RMadwFTTWrIbgEPMFzJC4HRwfHnbY9ZaufROHOcAMtibN7AdRbtsDZdAbe4sKXD6g5rF7DE3tzS9A28wJd/dK5uo43SOzNJDnSWYBexuQLfM5dnwm1uic9s8fdyPFK1jUjHfHP2SiL7qIixzmEG7TxsQHA+5c0ni0jUL4XWcsREVQREQEREBERAREQfLo2nUtB84B/avncs7jfRH8l6Iorz3LO430R/JNyzuN9EfyXoiDaPgtbGYdjeLyUWJ0jKqmbh1RUtjzzQ2mjqKBjH5qd7H6MmlFr26XDQW6f9jrsl8Ss/O8S+tLQHgRff+X8k1f8AF4Wu1VFap9jrsl8Ss/O8S+tJ7HXZL4lZ+d4l9aWw6LaCjnqZ8PhqoJK2lEbqulY9rp6dszWvhMzAbsDmuaRfiCvOq2moIquLDJK2mbiM8ZmgoTIzxqWFu8vKyK+cxe1S9K1va39hQUD2OuyXxKz87xL60nsddkviVn53iX1pbWRBqn2OuyXxKz87xL60nsddkviVn53iX1pbWRBqn2OuyXxKz87xL60nsddkviVn53iX1pbWRBqn2OuyXxKz87xL60nsddkviVn53iX1pbWRBqn2OuyXxKz87xL60nsddkviVn53iX1pXHANt6KuxCuweB0hrcMEBrWujc2NnjbN5DkedJLt424KSx3aGjoDC2tq4KU1MzKWlE72xmoqZNI4Isx6crupo1KDXnsddkviVn53iX1pPY67JfErPzvEvrS2LtHjtJhsDquvqoKOlYWh9RUyMhiaXuDWAueQAS5wAHaVm0k7JWNljcHRva2Rjhwcx4DmuF+oggoNW+x12S+JWfneJfWk9jrsl8Ss/O8S+tLayINU+x12S+JWfneJfWk9jrsl8Ss/O8S+tLaywNo8Whw+lqK+pLm09JBNVzua0vcIaaN8spa0aucGMdoOKDXHsddkviVn53iX1pPY67JfErPzvEvrSuOC7dYdVYYzHhUtgwuSPfipqv8AR2sizmPPLn97GYW17Qp3Da2KpijqaeRk0E0bJ4JoyHxywytD45I3DRzHNc0gjiCEGsfY67JfErPzvEvrSex12S+JWfneJfWltZEGqfY67JfErPzvEvrSex12S+JWfneJfWltZEHJHhY8lWB4FhtLU4VhzKWeXEWU0km+qp80DqSvlLMtRM9o6cMRuBfo8bE35s3LO430R/Jdj+Hb96KH8rR/wGKLjxVHnuWdxvoj+Sblncb6I/kvREHwImjUNb8wX2iKgiIiP1o7SAOsnQDylZdJFC46yF3aQMrL90E3LvmCgmEyuN9W8bDhx6N/kN1MSgRtA17ANCDcXPFFe1dWRxA5AGDgDYZ3HtBPSt51gUjnPyTHLZxe2NrXXDHM1dfr3pGo8mo/BtjVQ3rw0us0C73dxo46DUcDw7Co+irTlJia8NsbuOhcblzCG/g2IZY3va+isJLYOxFayDHMML3BrYnvkk7rd9BI0DThZsmv9ldA7YYZHP0nNBI6/wDPUuS8Kc5tdS2Ju3W5PCzQ0DjoNCt/Um0k0UeW28jI9ydcna1vW0eTq8i526jqtj4Ojs9SK159XjBTMa+zW31UtBx4DRVtm1Mcbi4wPJPAWAGvVcn/AAWBiO1k+V742MiHeOpubANBItckgcFyp2tp4dP2vTrGUDy44w97o6Nh6LelIerO8aD+6w//ALVRcGjtJc8GNLhp+HZrWEWOtnOafkWVjZmqniUvc4/hl1r5hdxeXONg02JueGXzLAwqQSEtbI10ri27Wkvs3ouLnOAytIc1oy3vx7Ne5oaMaWnFI8nB19WdW83nzXKGW04Y8Nkikb7lwu0tIbby8D/+K9qjZTOSYJWsudGTE2AJ4NkANx5x8qiqm4kheD7l27Nr8HaftN1aqCoIGR1z2acOPCwXq81PxXCKilPt0Tmg8HjpRnzPbosFbQZXtaCHWI4OaeBB4ggi1v8Aqq/i2EU0t3RAQO4AstkJ6g5hOnZ0beYq9XqYU9F+ytyuLCRmabG3mBBHkIIPyr8WSCIiqCIiAiIgIiICIiDePgRff+X8k1f8Xha7VXFXgRff+X8k1f8AF4Wu1Viycm4xyk0uzG1e11bM01FXJBgsGG4fGf8ASMQrH0VM2OGJou7dguaXvAOVvAOcWtdt7kI5Op8P3+OY25lTtPigEmIT6ObRQHKYsKpCCRHTxBsYdlJDnRN1cGMK1jzDodpNq9ssKxGPNDLTYK6OVtt9S1DKGDdVNO4joSsJPkcHOa4FrnA2PkJ2/rsLrnbEbVS3xSBoOC4m+4ZjOH9IQgucenVNDHAOvd27e13tkbnSBYdruVLEZ8Xl2b2Yw2mr66jhZPildiM0tNhtBvmsdBAdyx0lRO9r2mzOGoscsmTI5OuVCsmxWXZnaDD4cNxllOK6lfSTOqKDEqPMWulpnSNbJG5rmv6DgSd1Jwy2VE5PcXptm9sdo6bGaiKhGMGhxDC6qseyCmqYohUCSKOaUhm8D6rdhhIJMDrX0v8AgxWDaTb/AA+qweWKtosCwyoOIV9Od7S7+ujrIYqVk7BupH/6TG4ZXG+WcDWJ9gm8U5bsSdjeJ7M4XgQxDEKR1MKN2+MFNuJYWy1dZiUzxlp4YTJC0Nbd0hkDRrZT3ItynV+J4hiWAY5h9PQYvhYglk8SmdPSz09Uxr43sL+kwhskLtSbiYaNLSFAcif+uO2P9rBv4WZY/Jv/ALQdpfydhn8Nh6D6g5a8axDEsUwHBMBhq67D6x9P4zPO+HDqejjL2iprpCMxnkeGtZBHcuDZnXtGb3/a7F9pm+KwYThGGTTSUwmrqyvrHwUVJVDIHUscUDH1E9yXkPGgDNTci9G8Gb787YflwfsqVF8rG2z5tqW7OYlj02zGBxYa3EPGYKiHDZsTq3ysDYTXzC9NDl3wtGWkmnlF7ubkC8ci3KVXYpW4ngmM0FPQ4vhLoN8aOV89JUw1bHPilhMgzs6IY6ziTaVvAggRI5UcbxivrqPZXC8OqKLC5zRVmI4tUVFPFU1sdxNS0TaeNziWEEbx12m4Ogc0uofg0YphrdrsfjosRlq6epp6D7nVNdUz1NTiIpYxHVvhnrDva1jJmytDwXDLGMpLQCngr7a4bs4zHcEx7EKfDMQp8crKtza+RtNv4JoqaNksBlsJ83izngMuS2WNwBDgUEx4NmI1NXtVtVPW0L8Nq3MwcVFE+WOoMErKZ7HBs0XQmiOTM14tdr2mwvZZ3hk1UcDtmp55GQwxbTUEs0srgyOKKMudJJI52jGNaCSToACo7wZ9o4MX2p2qxGkbMKWoZhD6d1RE+CSWBtPIyKoEclnthlawSsLgCWSsJAvYS3hfNBl2XDgHA7UYcC1wBBBcbgg6EeRBibKUzuULEo8cqmvGyOFzvGB0MgLW4ziEJLJMVrI3aup43AtjY4X4g2vMx+yeWzlJj2bpYZBSyV9fW1MdBheHROEb6ysmNmMLyDu4xpd1jq5gt0lp/HaWfkzxN2JUcUs2xGKTj7pUkQL/ALhV0haxtVCwatp39FoyixDRGek2DNn+FVVRsn2W2tjc2qwbDsREtXUQB08bKPEnULoq4GIOvE0UuhA1fJE0G7hcJnaLlU2j2dbDX7UYLhrcGlmjgqarB6qoqKjCt9pG+rimitOzN0SYja/AklrXT/L5ytu2Y+5ckdH90IcRrG0sghL3ziI7t2ajZGD4xO5ryGsuA4louLqkeFvt9hWKYBJg2FV9JiuJ4tNQ09BSYdPDWTSObWU85eWwOcY47U72ZnWGZwHavHwiaB1JNsLSvcHPgx3C6d7hwc6F1CxzhfqJaT8qDYFByg4rh2HYhje1mG0mE0dNFFUUlNSVPjtW7eGRppah5yxGqdI6ljblytLptSLaUHbLbXa2u2er8Qq9ncPgwmtwmtPi8NdI/GKKkqaScMrJ2SxtgmY2N7ZHRtLJMt+iHAtVs8NPCZ6vZXEW07XSOi8Xq5GN4mnpqiGSod/ZZG18h8kRUDt3y2bP1my1QylxCGesrsHqaWDDKc76viqJqGVj456eO76eOHpufI+zA2JzgSLXDy2KxiLD+TmCsnoqfEYYcN3klDVgOp6hvjJGSUFpBbrfgdQFY9s+VE4FsjRbRUmHUwDqLCnxYc1xipqeOtip8sERY3oxxNkDWgAaMHBUQf7Lf/tP/wDUsbl6/wBmeHfk7Z7/AJVEgsO2PLhtDQ0nONuzMTNmGyQjPV1W6xeekqHsjirm07btponvkYGxvDn9NpIynMNh8sXKnDgFBT1kVNJiFXiEsNLhNBGd3JWVNUAYml1ju2AEXNjq5jfwgVW/DR/1OxP+zh3/AMnhypnhJUslLBsjtIYZKigwWpppsSZGwymKnqG4e4VRaDYbs0hDXHg+aPUXQTHKRyt7WbM4e7EsY2ewmaJxja2XD66ZzKSSR7A2CujmjzkuDngSwlzQ5gB92COgYH5mtd2gH5xdck+FzyyYPjmz89Dgks2Jkvo6mqqIYJ46Wgh38e68akqI2ZZpZLMbEAXaPJDcuvWtIOg3+y39gQaA8O370UP5Wj/gMUXHi7D8O370UP5Wj/gMUXHiqCIiqCIiAvGtlyMc7sabefqXsozaB5yBg/COvmCBhLi11hfjGO0XDG6H5VJYjUEvY0aNGawHFpA6TSONrm4WHhzTdr9bF44HUgjXhx49a/ZZc07rfgtA1sNT/wBAsu0DyqrBr+svZLfrB6D2jjpYXX5RU9o8oFurhxufL519VA0cRpoGAA8S97GkaeRxWVTjgOFzewJP6RqfnWI9sBjD68AWtGwcO3pLbNLDnaWh5b2cLEf57Fq/YKAvq5XdhDfJoB/ity4TS/JwvfguTr3/AOst3Sj3UM7CpZD0SwNvxyOv+l9lU9vW5HNpg973N6chBAAc73DcrQBoLngeI7FtXEXx00Lpjwa0m5sLho7fmHyrSVVUGaR0shs57i4nsvft/B4Beu2jqnqnyYa04jCLmYWDLI1rozdpuLtfcWLJLa2tcXHC6k6SBl2iMjJla8ZQ1pDTfoPA4O049dgRxWPVzgDtGgLBo55Nwxrf7Zv0uprXnqAOTh8O7BuQ6RxzSEcC4gXA7rABlaOoNAW7LVe2QA6gkh1xe+XQi1rFScFRpd3AeXQn/IsoeKTMRex1tw+XT/PasXEa8ueIGHQavtwvr1W4WVwqaqcQvw0HC4v5B0j5LrBrsUDG3ubnpDtDOrXtJ7TwA7So6smLnshaQAbZjaxsLl2o68rSovE6wvfbRw4AN4XHVrropgYlfWOLxISRcjyfP5dApimlD2hw8vzg2KgsQbpfr42/yFmbOzXa5vYbjzH/ALLKBKoiLJBERAREQEREBERBvHwIvv8Ay/kmr/i8LXaq4O8Fna2gwTF5K3E6jxWmdh1RTNk3c815pKigexmWnje/VkMpva3R46i/T/shNlfjf9TxT6qoyhsOlwWkinlrYqSmirKgMbVVccMTKmpbC0NibUTNaJJgxoDWhxNgAAvHHNmsPrnwzV2H0VZLTOL6SWqp4KiSmeSxxfTvmYXQuLoozdtjeNvYFQvZCbK/G/6nin1VPZCbK/G/6nin1VQXzafZnD8UY2HEqCjxCJjs7I62CGpYx9rZ2CZpDH20uLFeuz2BUeHRCmw+jpaGnBLhBSQxU0Qc73TskLQ3Mes2uVr72Qmyvxv+p4p9VT2Qmyvxv+p4p9VQbDosFpIJpquCkpoaqpyeN1MUMUdRVboFsXjErGh8+RpIGcmwOiU2CUkdRJXR0lLHWztbHUVjIYm1U8cYaI2TTNbvJWNDWgBxIGUW4LXnshNlfjf9TxT6qnshNlfjf9TxT6qg2HhmC0lK+aWmpKanlqX76rlghihkqptfbah0bQ6aTU9J9zqVh7UbIYZiu7OJ4Zh+IGK+5NbTU9UYs+XOI9+x2QOytuBocovwVI9kJsr8b/qeKfVU9kJsr8b/AKnin1VBeZdlMNdUQ1zsOoXVtNGIKWrNNAammhaHhsUEuTPFGBJIA1pAG8fb3Rv4Y/sRhGITMqq/CcNramMBsdRVUlNUTMa0kta2SWMuDQSSBfQm6pvshNlfjf8AU8U+qp7ITZX43/U8U+qoNh0WCUkE01XBSUsNVU5BVVMUMUdRUiFuWEVErGh8wY3RuYmw0CYvgtJWGI1dJTVRp5W1NMamGKc09RH73UQGVp3Uzep7bEdq157ITZX43/U8U+qp7ITZX43/AFPFPqqDZWJ0MNVE+nqYYqinlaY5oJ2Mlhljdo5kkcgLXsI4gghY2F4FR0tOKGlo6WmogHtFHBBDDShspc6VohjaIw17nvJFtS51+K197ITZX43/AFPFPqqeyE2V+N/1PFPqqC37ObBYNhspqMPwbC6GcgtM1JR0tPLkd7pgfDGHBhsOiDbRSeLYHR1joZKujpap9NK2opH1EMU76WoYQWT07pWkwzAtaQ9liLDVa99kJsr8b/qeKfVU9kJsr8b/AKnin1VBtIqs4fye4JTvllgwTCYZKiOSGpfFQ0jHTwzi08MxbEDJFIPdNOjusFVP2Qmyvxv+p4p9VT2Qmyvxv+p4p9VQX7m7Q+K/c3xCj+52TdeIeLweJbq+bd+L5N1u82uXLa6Yhs3QVNM3D6igop6BjY2MopqeCWkYyCwhY2B7DG1rA1uUAWblFrWVB9kJsr8b/qeKfVU9kJsr8b/qeKfVUGxcawilroXUlbS09ZSyZd5TVUUdRTybtzXszxStLH5XsY4XGha09SheUCbEqWkacDw6jr52PYx1DUTCjifRhjw9kMmUsjkuIwA4ZbXVU9kJsr8b/qeKfVU9kJsr8b/qeKfVUFB2p2S2k2uZT4RX7PUOyeAtq4qzFAyvpcQqsQZCcwp6YYexrIcx4ufY3axwd0Sx/SC1b7ITZX43/U8U+qp7ITZX43/U8U+qoKd4dv3oofytH/AYouPF0l4WPKfg2O4bS02FV3jU8WIsqZI9xWQZYG0lfEX5qiFjT05ohYG/S4WBtzaqgiIqgiIgKHxF2Z5cNcnRcO0cTbygqXJUHTPJc4t1N3E34PBOrT/PqVgScZywxH+t7rXUZjxPHgOpYUEvt0uutx1A9v8An5FlSR56du7/AAXOLGuNnE5m+1tvoXX0GovbS9wsOnsJZj2Bululfr0PA3CyuQz3tuw6ZhmZ8hzB3Dr0YeKyaVo4gm/DhbiewXI4LwYQWWN3Xc3iNQMk+nDTXX5F6F4DXOF7NBcctgOiDpxXmLFyV012yzEOPtjzpqXAE2t5ToAFuCigIHA2tck21vppr2kaeZaq5O6JzaYkNIzXkeSD0gwbuJo4EkEGTzgdq2phsDnvikL3We+S8YLmt3bHSlmnB1s0XHs61zJ062mbfFuRaYiIVnlixHdxRUbT05PbZAOIijPRB/tP1/8AaPatWzjS2tu3gfPp/n51J7a414/WTVLTdhdu4DxbuIehG7j7l1nP/wDcKgJZHe4aem45IzYGztC5+uuVrTmsRbMY1u6VOmuGte2ZyysNYC4vcehGXBt9Q6VwAkfpp0WtbH5w/tUk4eUa/Na/Vrw4alYUEbWBrGE2AsOu3G1+03usozho1NiPwbW8pGvk/avRi+ZHCIF56r8dNbG/A+RQeBOL3SSO67gG44fKV+47iBeC0HTXtHbx+f8AQvnA3lsTh0NG3JsL8NeKyhJeRmAMkh4j2ttzY3cLvvbjYED5V54dRE+2O0HVoLW43Av2LGpqxjI2ucA4kuf0h1vJygfJYfIveSokeM8hyNIOWIaEggWv2cFJGPXuBuAb9v8AkcF8bOyWkt3gWnzjUH9H6V+ubfgBrZY+EHLKB5f8bH9qirUiIs0EREBERAREQEREBERAREQEREBERAREQEREBERAREQEREBERAREQEREBERAREQEREBERBh4xKWROI4mzR8p/ksGilbIRdjt4BxiLQXDrOV+jj5iF9bRye5b1XzH/BY1J7WM72gWByg3PHr08l1YGZWFpjMQ1GYta6QiOzyGuDTYltybt42uRwXvs/Qy1TQ3dTSyAuYXsje+YBvFrwATKBYiztR2hbb8EfYiKtnlxbEqaklw1gkipBUneE10JgL5BTvBY9jY5H9Nx0e1tgdSOpqXE6KnIYyOEEaBzWMYQB1NDAABpwt1LR3W/jTnEVz8cx39PVu6GxvqV6o/I9XDeH7K4jKGRjDa18wu7IaWobeNsMri6z2A2AOvEX0vwvDVIaGPtpq1paP67gLeQr+gtVtHSM6T4g6MkCwvceUarXPL5s7Q4rQuFBRMdXjLLTua2zy9jg4sMjgGtBaHdDg45eHFa+n4lW2Yt7vzel/D71iJiJn5NH7KTWjZbSPM6S2uaRsbgbi5s1uWKRvYdToOMztXjrqShnfHmLreLxOzZ3NmqBJG94dwORwJ0sLN04BeWyNOY4zHJmDml4DXNs5rmjI5hBvY5mu7OJ01KqfK/XNvS0jRlPtlRJYBtg0NjjabaZbmX6Mdi9NCYm2HjqcRlTYxlbcZbWy2PAdnEaDjfq0PYvnCbPJmJJBBZDe49rBJc+x4F7iX+YtH4Kxa+VxDYRo6S7ewiIe+m7dC1xsziP8AeLNjmAFmgW4cNNPNot5qM64HDX5bC381GYlUgC1yDc34HydXkK/J57Dj5rDhcEquyPcXEkk3N9VlAyaiXy3Hl/7r68aywzOB0LWsb1avLr2+SyjppNbLKrb7qOMWzSSAi/Do2Df0gqjIoYWxtbNNbNb2qM6kNto4jjdflQXv1cA1vVewJtw0WU2ERHQ7yS3TfcHXrt2BeboQelK+/kHHrUkYwd+Dx+RYkT8kgJ0s/h5L9az5ZuLY22HbbXyqJlBDrnTz9fyLFV2ReVI/Mxru1oP6F6rMEREQREQEREBERAREQEREBERAREQEREBERAREQEREBERAREQEREBERAREQEREBERAREAvoC0HtccrR5XHqCCu44SZTmc2NgsLuIBNgCco4u6+CxZ8VisQ1heQNC/3NwNCWjjwVli2ZE2WXxmIukaXNswOc8D8JgJuI/KLjyr82f2ZbNiNHSyPMsU1ZSwyMIia58Mk8TZW5WO1BYXdV1naMRkr704dQ8i2zDKDDqFlRUFhjhE9RAQ1rn1WIh00rJBwayMStYOsmMcLFWnFMGw8XmMtRfXK1kzmi58o6/OVWttdlZ8XqzFFVfc6na28lUC4SAXAaIGNIzuzBw6RAGUnW4BzdsNlWWDosRqY5CQBuA1kd+8WG4K+e1Y6otaeOZ/19XT3JrWJmeI/z7ozEcMq7tfTVcVQziIqs5JW+Rs0LchH9pnnKm8EfVxD2+It0tZsjHi393q8uir+E4RXsNn1UdS0XyucxkMgA7xa4Nd6IU6TVwssI7t1uRY8fl0K5mpT45bdZzPPDF2ipo6q8jYwypYbiQAAztsQY5NbbwWbZ/XYArl7batfVYjNI6zTHlpQ0aZdxfNYAk3Er5Li99Cum2TG+pvfi0/gk9TiB8y0h4QeyRp3HEqaN25qXtjqsouyCoebGdw/BbKNMwtaR7u+Auh4ZuMW/Tt59v6cjxTa5j9Ssdu8fdrOj9sc6YNu0kBnDSNtwCTYXubu4fhrOa6w4gDz/t+ZfVK4RMDdPLw1HC2nyKPqagDr07Ov9i7zglTUk6Ai1h/m3aoqckG+lu3tXrU1DLaXuf2fMsN02YW6+I8vkWSPppzPCzqsF8kTcokyM3hbewNrcba8T+hR9I4Zrn/us7DsQEdS17m5mOa6Nw7GuIsR5QQ1Ue5qHPAPRb1WaLf91+wEDjx8uvWpDEMNB9ugIc06kC2mv8lFOJB6Qtbjf/FTuPeoudf2edRlYOlfrspNr7j+X7b2URVHpG3VoscKtWCSZoW+S7fmWaonZd3tZHY4/pAUssgREVQREQEU/sPs6zE5KiE1kdJJDQ1dfA18Uk7qyShjdM+kibGQWyOijndm6RAhdZruAxsB2YxHEG7yhw3EK2PX22kpampiBboRvIYyzMD1XvogiUWRiNDNTSGGpgnppwA50NTFJTzNBuAXRzNDwCQdSOorHQEREBERAREQEREBERARF+XQfqIsiloJ5mySRQTyxwNElRJFHJJHTxuNmyTuY0thYToHOIF0GOiIgIiICIiAiIgIiICIiAiIgIiICCkE5bG49Fzhcd4d0+Q9fkui9qJxD2kcb6ec6C3l1WVO5PZM4dG1sjo4wCQRvZP7PuIx29Yt7lvn1WyuS3D2ur6Z8mr2ytdEy2a5a17yfOGxvdfqyrW2Ft3YAv0iS+TyuJzW+QlXrkxx5sOLUUbiAJI64Zjwa9kcTYzrw0dIL/1irq8Um0s9CudSsfF0TtDVxxsvLDBNEW2GntjS618w4gGw4dg7FTsSjwu2dratrtBliqJS1vlDHuc39CbQtkkkyb3LZtwLajjrfgTx0VSqsEpmPM8lRUSy9Q3r4ooweoNjIaPOblfP61eqfR9VozFY/pPtooLh0GIyADV0dVFG9x8gdDk/S0rwxjEHi0fjDXNPA3Lc1uogcFTJ8SmilAiPjUbibtf0QwNtmyS26TwDoDcGx4WKzKGrgqS7dPa6WMgSwnKJYyeGdtz84uFoX07fJ79dfmmaKrJ6iHjRw4aeQjiLdqlY6qCdpp3QiRjwWSiVoMZYdHNcHXDmlVzxpzPk0BOhHmPFZ1FjEbGPe5rhkY5xOhuGAk/JovCaTM8LMx5ufOU6ipo6yeOiDYoI3bpsYLzctNi5r3k31v8AIAqLU07r21Fu3XTtBbxGnYrHW1m+e57iS55c9wI63Enr86wXTahpHDS9+Gq+upE1iI9HxtpzMygybA9fk0N/mXlCTl4D5jfzAdqnJIQ4m4zN6tO0+TgbBYFVQuHSY0uYdMoGazh1ebyrPLFGAW8nEEHiLI94BaeNv5qRlwyQgC7S7XoC5IuLm3UTpw7Viy4a9paLscxwBZLciNweAQbkdHrGvAgq5E1g1W9tix12ni08De/bpdStRDHMBfK134Q0/wC/Uq6/CKuBzWuiLc/uHZmmNx8j2ki9ivqXB52OAkifCXEZZZJA2F5PANla1zC4nqvdMZRly074uIuw9YvYa/tURXNs4kcDZTFfRVVKBn9sjtckXcGHrBuBp5bW8qi5iH6jzEcMp04jiNbKKm9mBZj/AO0D87Wn/FS6jNm2+1X8tj52gA/sUmqCIiqCIiDffJBt74lBS4rjcuH1tLRhmBYRRU9JRTY9SvswGoa8NZLFRNpTI113uMhLBlzOBfhcvu1bH1WIUswx/DcUpaiOmw+mjrw7BTRxP/8ANNp2MjdTGamLZGhue5kj6QAcFTNhaaOtwnF6GOkppcSiFLi1JNug6vdS0smTE4aeT3QDInRyiNurg6fQ6WqO8qcQqG5pJ62sqZIoWPmkfNPUTSFkMDDJM4l7iTGwZjwyjgEVdtitrX4i6LBMenlrcPqXtp6arqHGetwernOSnrKSokvKYN46NskL3FhZewFiHUXGqCSjmnpZwBPTTS00zRewlp3vjkDSRctzMNj1iy2hs5yX4iaWpazBa9m0eH4lRSRuqCyOgkopRJ0WGX/RqoRz0+Z7muIyTMIJAc1VHljqGT4pVzx4jSYsZiyWStoYHUlJLM6Jge2CN0kl2NLQM4e4P1dcklBbse5KcOwo0rsY2kio4qykgqoGxUFTVVGeVpM28jhkIhpYyY7TON5CXgNbkJMdWcj1azGjgLaineGwfdB2IuvHTMwwC766RmYuYA7oZAT0yBmynOPbwm66Gpq8PdTzRTtGz2HRl0L2StbJnr3GMlhID8r2HLxs9vatpYltrQUu0QEtbSx0tfsvTYZ4/wC01NNSVMj55YXVIdmiMOUjM14LfbI81mklEafrdhMPnpaurwPHPuq/D4hU11NLQz4dIaTMWyVtI6aRwmiZxcw2c1tiTcta6J5QtjjhEWGzGoFR90sNgxTKI914uZwHGC+d29DQW9Po316IWydoosdoqOsfW4zspSU81HUU2XD48HNVisczLPo6PxOibMWSjTOS3L0XEC12/O2Wz7dpMMwWqocTwiBlBhUWGYmK+rZSvoZqZsbXPkY5pc6M2kI4EgMLQ4OuCoWl5GXSYvSYIMRGarwlmMeMeLEiMyCceLCPfjP04PfMzdH+501xcN5LIKypjw6gx2lq62Nss2MObTVMeHYVTU7W7+ZtbIQyvDZXCMbsNzFwJyAOI25T43QN2vw6eKvpX0bdmo4WVRliZGS3x97WvJdaOUxFr8h1AcNFpnwecbpKd1bh2IVDKKnxbCZ8L8dk6MdJPKy0b5idGREOkBcSACGXsLkBkScm1BWU9VNgGPNxeooYXVVVRSUFTh80tNH77UURme7ftb3AL6t1u5od9Q8mVFDh2H4zimPMoKOvZK7dsoqisqmysfaOKCOB5MzDGHPfKQ0MIY2zy8Ws3J7gXM81mL4tX4U97sOqKLD6Kgq2Vs1fUVLoS1zWsaC2lbum3e4aCS5DcutZ5UqyF+AbLwxTRSSQ0uJMmYx7HvicZqJrRK1pvGSY32zWvkd2IjOx7kkw/C5Y/uttNTU1FVtZJhdRBRVNTNVwyNY41M8Ub8tDTsMjBnc9wdqRlsbR7ORys+7NTgclTBFHRwmtqsUka4UseHhjHiqLM1w45w3dlws5knSytL1++EVWxTwYGIJopizZyijkET2yGOTI8GN4YTkkuD0TrotqbXbS4dNj2MYdNiFNBT4zgcGGw4jvGSUtPVbmUxNnkY7Kxjm1BJJIHRYPwwg1zs/yUYdixqXYPtIyrjpKWapnbNh9TSVIfG28O7jnkAlppHB4MgN4yGAtdnBE7SbLYE/ZVj343FEx2MNe/FvuPWSTR1DqMB2Gblr9++NoJdvQ7dm3C6y+RrZEbP1FfLiuKYOyokwetgpqamrYqh0kbt1JNUSOs0RRjcRhgd0n55DlG7KrfJ/SsxjZmXAqerooMUhxZuJMp62ojpPGKV1LHCXQOk0e5ry+46sgvbM24Q2GcndHDRwYnjmNNwqnrXSfcyGOinr6ysgiIBq3QxPBp6exa7W+kkeoLmg3jkn2Zgjp9p6Cmxegq6WXCqJ7cVbnhpYoZTiBkfVsdd9PJE1rnPju4gBvWbDCx7Bm7UYbhDMPrsNixDCKQ4TiFBWVUVM+1Puo46umfcsngfuC7O0lpEjdbtIWPsdQ0+E0O1FC7FMNrJX4RSASUcwfA+pc+tbLSU735fGnxufE0uYLXlaNDcAK5i3J5RSYbU4tguNjFmUDoW4jBJQ1GHSxMqHBsdRCKh5c+K5OhA0jk1u0tWuls/knroYsD2njlmijklpcObCx72MfM4T1gIia43kIL2XDb+7b2rWCAiIgIiICIiAiIgIiICIiAiIgIDax6wQR5wbj9iIglnVFmlw42JB7TbiPOqxtdjktLPRTRGz44HPsfws1RMOlbUXEbdf6qki82y9X/a/7FV+UF2d9O/8AB8WEd/60cs2b99p/vL11Ji1cFZms5huXBeXCg3bfGGTslLbOsHua12lz0erzXWWzlRwWRubxktdfUPjqcoB7CYjrcdS5qAWXu7FsehJs51v6w6A89jf+8FzbbKlvX8+ToV8R1a+n5823tv8AlHY5j4KCcTXDX542uZCwtIIsXAOkkBtw07b2savsdXPjGcOcJNOmCQ+/EnNe5JOt1Vo2WzXHANYPKXG518zT86s2AQ9E2Cw1NvWleiGHtFtS/VP8MvF+ULE4pgyOoBa1oJbLHG+5Nzq6wdw8qk8O5TquoY+llgizSxTNM0RczK1sZJJY4m9ybcetUbHIvb5Nbe4FgL/gN1Pk1X1hTcr33A6FNldxNnzSNd8+Un5lsV22niPdjMPP2rVjMdUsiaQtcRe+gHV2LwncRqOv/qF5GQXPbwXmx59yfk/l5VsNZkxznttof5f4le5qMosO9fS/Zp+xYbdQfkH7T/Jfpf13t/nyqYGZvbNDrkPBaQeOodp/nyLI8YYxro3C7HFxDTboFxzZR/VzF3zqPYRdt7ZQQT+0rHklMgceskuHyaj9imFW6lxNj2Mp3C92uyZtbOaLtHkva3yrJmxFhp7P6cbhkeziHNuOI7RcKkw1B6Lm8W2IssypqejYHoOJe0dmb3TfMCf2KYRnYhJI1piDy5sfttM8km8f4cT9elpqL90hQtU0OAlj6LvclvDUD3vzWuW/KOxe7qs2DQb21t2tI6bB+351hxSBriCMzescL2sW+Y9d1lgT2zTwYjbvE+a4H/VSigdl5LuksLNd0gOzXh+kqeVURERBERBl4Nic9FPFV0kz6eqgeJYJ4yA+N4BFxcEEFpc0tcC1zXOaQQSDcpdqcErXb/EMDnpawkSSVGA1jaKGeW9y/wATqoJYqVxNiTC4Akk2BVCRFdAclPK48VBwigbTYRR1EVc9tfjVfVYjNFiPi0jqSqmqKt7YI4jNFEHQNiykyOIJcTm09tbtG2vZTsGG4VQy07ZmTT4ZTR0YrnSvYWyTshAjuwMs3KAPbH2sCGiARB+AIAv1ER+BoHAAIWjjYXX6iD8sOxfqIg/A0DgAPMll+ogmsK2TxCqhNVT0cssHthD27sOl3Dc05gjc4SVWQe6MTXZbG9rLzbsxXeKnEBSS+JBhmM3QHtDX7t1QI829dTCTomYNyAggu0KvXJ3tNhdE3D5JpY4ZKcVTK0SYe6vrHSVL6psc1HVSOLKGjbDPAXMgDJc0M/RkMuZQmJV+HTQwzOrq1k8GEU+DGhpY3QvnfSQtpC51S8GIYZNE0yvicM5Mj2ZdcyCExTY7EKSNs09BNFG58cfBjnslnBdBHNFG4y08rwDlZI1rnW0BUhinJ/X01N4xU08sczq+mwyGkDGTSTzVUVbIWtdDI7LUsdSMjNOW571LL5dA69c+MKpXzz08kMrTiOF4nSUseGvp53wYZXGd1NXV0znz1mIGKQe2SvdFmhe4PvJlEXs1tNheDmN0NXU4j/8AWYsSkBpnwFtJ4hjFG91p32kxBjsQje4aMcWMAedS0KbUbE4k2aOldQTOnmbLJTxx7uffNpmufUiJ0LnMkkja0lzAS5ugIBIB9a/YTFYI3zy0ErYYonVDpQ6B7DBG3NLPCY5D4xExur3RZgwA5stlaRtdR0zGUsM1O6NsOMPL8Ow77l0ranEMImw+kDY3Xnknc8s3khysa0RAZ8pcozBtpqWI4cXueG0mC4th01mE5arEOcG4azvMP3RpbuGgu6/uSiqvVYBVxPnjkppGSUkbZqtrsv8Ao8UhgbG95vbK41NOBYm+9ba6jlsfbbEd3hFEySOaDEsQgpo69szXMdJh2AvqoMLnLZLPy1DZIDnI6X3KaQSCL64RBERAREQEREBERAREQEREBERAREQFi4nRNnaGmwLSXMdYOyl1swIPFpsLjT3I1WUiCs1WDMgY6YjM9vBmpicTYXsekWa3ynzXKgoHHPncbnNmJPXc6q4bRP8Aa3MB6XRcRp7nNb9tlVY2CwJ4X17TpwFuJ8iYEpPBlyMGoe90vXbKAGxkAgEcX/Mrzs3RAMuQqm1l5w0aiNjGg6dbQ93DQnM8i/XZbCwWICMeZaevbN2xpRxlRNpKcCeTtO71Fh/uxx6yvhtJu45J2lrw8wizHAuY2KEZg8fguzOOnHog8CL5m1mUVD72Jyx/hG40I1b1Dh/kqvV1TK1ha15DC67mCxa46dKxHkA+RbcdmvPd4PYXnQ2FtfPfgNR8q8je1utt7HqcBpp5l8+NPIsS21yfcs4kWJ4diCd3k6wNLcdT7lB9tkPEdetv+h4r6dLfQi36NV5GXgC3QXN2mx186eMDUhrr6i9wdT5LedUegdc5fIdV9U0trXHBYjJgOrXyr7ErT5EH6527Jb1dXm4hfYmuMl9L5m+RfjXtcLG1+o3HD519OpesaEdnaFADjcEGxGt+wjgvRzszsxtqNerhofMvMRuHugQe3qP8lmYZh75nC4LYvwncLjsb2kqqldmKYsjLz+Gej/ZHA/Kb/oUuvxrQAABYAWAHAAcAv1EEREBFTOdc/ch9F/rpzrn7kPov9dRcLmipnOufuQ+i/wBdOdc/ch9F/roYXNFTOdc/ch9F/rpzrn7kPov9dDC5oqZzrn7kPov9dOdc/ch9F/roYXNFTOdc/ch9F/rpzrn7kPov9dDC5oqZzrn7kPov9dOdc/ch9F/roYXNFTOdc/ch9F/rpzrn7kPov9dDC5oqZzrn7kPov9dOdc/ch9F/roYXNFTOdc/ch9F/rpzrn7kPov8AXQwuaKmc65+5D6L/AF051z9yH0X+uhhdHEnUkk6C51NgAANeoAAeYBfipnOufuQ+i/1051z9yH0X+uhhc0VM51z9yH0X+unOufuQ+i/10MLmipnOufuQ+i/1051z9yH0X+uhhc0VM51z9yH0X+unOufuQ+i/10MLmipnOufuQ+i/1051z9yH0X+uhhc0VM51z9yH0X+unOufuQ+i/wBdDC5oqZzrn7kPov8AXTnXP3IfRf66GFzRUznXP3IfRf66c65+5D6L/XQwuaKmc65+5D6L/XTnXP3IfRf66GFzRUznXP3IfRf66c65+5D6L/XQwz8ble91gx2UakhpJcSbC9uIDGt8xe7tXjQUJeGsc1zQZGNeSHCzSQCfNYLG511Hch9F/rpzrqO5D6L/AF1l1GE9g4dJI+VwLS97n6gi2Yk63Ww8OLWsALm8B1hae51z9yH0X+uvznVP3IPRf661baGZzl6xqYjC4bXMLp3kAubkiN2lrh/vBbUXB06r9XaqvWwuJ9w+2umU/IvDnXP3IfRf66c65+5D6L/XWxHbDyw+Y6J3cd8oP8l6CjPcf8x/kvnnXP3IfRf66c66juQ+i/10MHiju4/0T/JYviz7noSce67+Syudc/ch9F/rpzrqO5D6L/XQwxDTv4ZH+ToO/kvjxd5/3cgP9hw/wWdzrqO5D6MnrpzrqO5D80nroYYApXkgbuTXQ9B3X8iv5ibwLQbdoBVP511Hch9F/rpzrn7kPov9dDC4CJvdb8wX2qZzrn7kPov9dOdc/ch9F/roYXNFTOdc/ch9F/rpzrn7kPov9dDC5oqZzrn7kPov9dOdc/ch9F/roYQCIiiiIiAiIgIiICIiAiIgIiICIiAiIgIiICIiAiIgIiICIiAiIgIiICIiAiIgIiICIiAiIgIiICIiAiIgIiICIiAiIgIiICIiAiIgIiICIiAiIgIiICIiAiIgIiICIiAiIgIiICIiAiIgIiICIiAiIgIiICIiAiIgIiICIiAiIgIiICIiAiIgIiICIiAiIgIiICIiAiIgIiICIiAiIgIiICIiAiIgIiICIiAiIgIiICIiAiIgIiICIiAiIgIiICIiAiIgIiICIiAiIgIiICIiAiIgIiICIiAiIgIiICIiAiIg/9k=\n"
                },
                "metadata": {}
              }
            ]
          }
        },
        "3ef18c6626684502bc424c3c43da35fa": {
          "model_module": "@jupyter-widgets/output",
          "model_name": "OutputModel",
          "model_module_version": "1.0.0",
          "state": {
            "_dom_classes": [],
            "_model_module": "@jupyter-widgets/output",
            "_model_module_version": "1.0.0",
            "_model_name": "OutputModel",
            "_view_count": null,
            "_view_module": "@jupyter-widgets/output",
            "_view_module_version": "1.0.0",
            "_view_name": "OutputView",
            "layout": "IPY_MODEL_b1fd25175e4c4932ac5bac13c4f474a9",
            "msg_id": "",
            "outputs": [
              {
                "output_type": "stream",
                "name": "stdout",
                "text": [
                  "Video available at https://www.bilibili.com/video/BV1dt4y1Q7C5\n"
                ]
              },
              {
                "output_type": "display_data",
                "data": {
                  "text/plain": "<__main__.PlayVideo at 0x7d99cfbb4d90>",
                  "text/html": "\n        <iframe\n            width=\"854\"\n            height=\"480\"\n            src=\"https://player.bilibili.com/player.html?bvid=BV1dt4y1Q7C5&page=1?fs=1&autoplay=False\"\n            frameborder=\"0\"\n            allowfullscreen\n            \n        ></iframe>\n        "
                },
                "metadata": {}
              }
            ]
          }
        },
        "188552d81f5a46139a7685fafc27636c": {
          "model_module": "@jupyter-widgets/base",
          "model_name": "LayoutModel",
          "model_module_version": "1.2.0",
          "state": {
            "_model_module": "@jupyter-widgets/base",
            "_model_module_version": "1.2.0",
            "_model_name": "LayoutModel",
            "_view_count": null,
            "_view_module": "@jupyter-widgets/base",
            "_view_module_version": "1.2.0",
            "_view_name": "LayoutView",
            "align_content": null,
            "align_items": null,
            "align_self": null,
            "border": null,
            "bottom": null,
            "display": null,
            "flex": null,
            "flex_flow": null,
            "grid_area": null,
            "grid_auto_columns": null,
            "grid_auto_flow": null,
            "grid_auto_rows": null,
            "grid_column": null,
            "grid_gap": null,
            "grid_row": null,
            "grid_template_areas": null,
            "grid_template_columns": null,
            "grid_template_rows": null,
            "height": null,
            "justify_content": null,
            "justify_items": null,
            "left": null,
            "margin": null,
            "max_height": null,
            "max_width": null,
            "min_height": null,
            "min_width": null,
            "object_fit": null,
            "object_position": null,
            "order": null,
            "overflow": null,
            "overflow_x": null,
            "overflow_y": null,
            "padding": null,
            "right": null,
            "top": null,
            "visibility": null,
            "width": null
          }
        },
        "bb68e725d730438991436d341801434f": {
          "model_module": "@jupyter-widgets/base",
          "model_name": "LayoutModel",
          "model_module_version": "1.2.0",
          "state": {
            "_model_module": "@jupyter-widgets/base",
            "_model_module_version": "1.2.0",
            "_model_name": "LayoutModel",
            "_view_count": null,
            "_view_module": "@jupyter-widgets/base",
            "_view_module_version": "1.2.0",
            "_view_name": "LayoutView",
            "align_content": null,
            "align_items": null,
            "align_self": null,
            "border": null,
            "bottom": null,
            "display": null,
            "flex": null,
            "flex_flow": null,
            "grid_area": null,
            "grid_auto_columns": null,
            "grid_auto_flow": null,
            "grid_auto_rows": null,
            "grid_column": null,
            "grid_gap": null,
            "grid_row": null,
            "grid_template_areas": null,
            "grid_template_columns": null,
            "grid_template_rows": null,
            "height": null,
            "justify_content": null,
            "justify_items": null,
            "left": null,
            "margin": null,
            "max_height": null,
            "max_width": null,
            "min_height": null,
            "min_width": null,
            "object_fit": null,
            "object_position": null,
            "order": null,
            "overflow": null,
            "overflow_x": null,
            "overflow_y": null,
            "padding": null,
            "right": null,
            "top": null,
            "visibility": null,
            "width": null
          }
        },
        "b1fd25175e4c4932ac5bac13c4f474a9": {
          "model_module": "@jupyter-widgets/base",
          "model_name": "LayoutModel",
          "model_module_version": "1.2.0",
          "state": {
            "_model_module": "@jupyter-widgets/base",
            "_model_module_version": "1.2.0",
            "_model_name": "LayoutModel",
            "_view_count": null,
            "_view_module": "@jupyter-widgets/base",
            "_view_module_version": "1.2.0",
            "_view_name": "LayoutView",
            "align_content": null,
            "align_items": null,
            "align_self": null,
            "border": null,
            "bottom": null,
            "display": null,
            "flex": null,
            "flex_flow": null,
            "grid_area": null,
            "grid_auto_columns": null,
            "grid_auto_flow": null,
            "grid_auto_rows": null,
            "grid_column": null,
            "grid_gap": null,
            "grid_row": null,
            "grid_template_areas": null,
            "grid_template_columns": null,
            "grid_template_rows": null,
            "height": null,
            "justify_content": null,
            "justify_items": null,
            "left": null,
            "margin": null,
            "max_height": null,
            "max_width": null,
            "min_height": null,
            "min_width": null,
            "object_fit": null,
            "object_position": null,
            "order": null,
            "overflow": null,
            "overflow_x": null,
            "overflow_y": null,
            "padding": null,
            "right": null,
            "top": null,
            "visibility": null,
            "width": null
          }
        },
        "60fdf138ea4e4d418a2819975ec4e65b": {
          "model_module": "@jupyter-widgets/controls",
          "model_name": "TabModel",
          "model_module_version": "1.5.0",
          "state": {
            "_dom_classes": [],
            "_model_module": "@jupyter-widgets/controls",
            "_model_module_version": "1.5.0",
            "_model_name": "TabModel",
            "_titles": {
              "0": "Youtube",
              "1": "Bilibili"
            },
            "_view_count": null,
            "_view_module": "@jupyter-widgets/controls",
            "_view_module_version": "1.5.0",
            "_view_name": "TabView",
            "box_style": "",
            "children": [
              "IPY_MODEL_92bb5fed49354c47b380d2227e19e70e",
              "IPY_MODEL_0e99a40bc55b490da983a41aa8ea9dbf"
            ],
            "layout": "IPY_MODEL_a25f591af84447cd86b7981c4c5490d5",
            "selected_index": 0
          }
        },
        "92bb5fed49354c47b380d2227e19e70e": {
          "model_module": "@jupyter-widgets/output",
          "model_name": "OutputModel",
          "model_module_version": "1.0.0",
          "state": {
            "_dom_classes": [],
            "_model_module": "@jupyter-widgets/output",
            "_model_module_version": "1.0.0",
            "_model_name": "OutputModel",
            "_view_count": null,
            "_view_module": "@jupyter-widgets/output",
            "_view_module_version": "1.0.0",
            "_view_name": "OutputView",
            "layout": "IPY_MODEL_ed48bc1b2bb148d6a20d0020bd5c97ba",
            "msg_id": "",
            "outputs": [
              {
                "output_type": "stream",
                "name": "stdout",
                "text": [
                  "Video available at https://youtube.com/watch?v=DHhM80MOTe8\n"
                ]
              },
              {
                "output_type": "display_data",
                "data": {
                  "text/plain": "<IPython.lib.display.YouTubeVideo at 0x7d99c4eb3a90>",
                  "text/html": "\n        <iframe\n            width=\"854\"\n            height=\"480\"\n            src=\"https://www.youtube.com/embed/DHhM80MOTe8?fs=1&rel=0\"\n            frameborder=\"0\"\n            allowfullscreen\n            \n        ></iframe>\n        ",
                  "image/jpeg": "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\n"
                },
                "metadata": {}
              }
            ]
          }
        },
        "0e99a40bc55b490da983a41aa8ea9dbf": {
          "model_module": "@jupyter-widgets/output",
          "model_name": "OutputModel",
          "model_module_version": "1.0.0",
          "state": {
            "_dom_classes": [],
            "_model_module": "@jupyter-widgets/output",
            "_model_module_version": "1.0.0",
            "_model_name": "OutputModel",
            "_view_count": null,
            "_view_module": "@jupyter-widgets/output",
            "_view_module_version": "1.0.0",
            "_view_name": "OutputView",
            "layout": "IPY_MODEL_9726b5f5b8dd43a8bd725e65806b3e36",
            "msg_id": "",
            "outputs": [
              {
                "output_type": "stream",
                "name": "stdout",
                "text": [
                  "Video available at https://www.bilibili.com/video/BV1ov411B7Pm\n"
                ]
              },
              {
                "output_type": "display_data",
                "data": {
                  "text/plain": "<__main__.PlayVideo at 0x7d99bcb29590>",
                  "text/html": "\n        <iframe\n            width=\"854\"\n            height=\"480\"\n            src=\"https://player.bilibili.com/player.html?bvid=BV1ov411B7Pm&page=1?fs=1&autoplay=False\"\n            frameborder=\"0\"\n            allowfullscreen\n            \n        ></iframe>\n        "
                },
                "metadata": {}
              }
            ]
          }
        },
        "a25f591af84447cd86b7981c4c5490d5": {
          "model_module": "@jupyter-widgets/base",
          "model_name": "LayoutModel",
          "model_module_version": "1.2.0",
          "state": {
            "_model_module": "@jupyter-widgets/base",
            "_model_module_version": "1.2.0",
            "_model_name": "LayoutModel",
            "_view_count": null,
            "_view_module": "@jupyter-widgets/base",
            "_view_module_version": "1.2.0",
            "_view_name": "LayoutView",
            "align_content": null,
            "align_items": null,
            "align_self": null,
            "border": null,
            "bottom": null,
            "display": null,
            "flex": null,
            "flex_flow": null,
            "grid_area": null,
            "grid_auto_columns": null,
            "grid_auto_flow": null,
            "grid_auto_rows": null,
            "grid_column": null,
            "grid_gap": null,
            "grid_row": null,
            "grid_template_areas": null,
            "grid_template_columns": null,
            "grid_template_rows": null,
            "height": null,
            "justify_content": null,
            "justify_items": null,
            "left": null,
            "margin": null,
            "max_height": null,
            "max_width": null,
            "min_height": null,
            "min_width": null,
            "object_fit": null,
            "object_position": null,
            "order": null,
            "overflow": null,
            "overflow_x": null,
            "overflow_y": null,
            "padding": null,
            "right": null,
            "top": null,
            "visibility": null,
            "width": null
          }
        },
        "ed48bc1b2bb148d6a20d0020bd5c97ba": {
          "model_module": "@jupyter-widgets/base",
          "model_name": "LayoutModel",
          "model_module_version": "1.2.0",
          "state": {
            "_model_module": "@jupyter-widgets/base",
            "_model_module_version": "1.2.0",
            "_model_name": "LayoutModel",
            "_view_count": null,
            "_view_module": "@jupyter-widgets/base",
            "_view_module_version": "1.2.0",
            "_view_name": "LayoutView",
            "align_content": null,
            "align_items": null,
            "align_self": null,
            "border": null,
            "bottom": null,
            "display": null,
            "flex": null,
            "flex_flow": null,
            "grid_area": null,
            "grid_auto_columns": null,
            "grid_auto_flow": null,
            "grid_auto_rows": null,
            "grid_column": null,
            "grid_gap": null,
            "grid_row": null,
            "grid_template_areas": null,
            "grid_template_columns": null,
            "grid_template_rows": null,
            "height": null,
            "justify_content": null,
            "justify_items": null,
            "left": null,
            "margin": null,
            "max_height": null,
            "max_width": null,
            "min_height": null,
            "min_width": null,
            "object_fit": null,
            "object_position": null,
            "order": null,
            "overflow": null,
            "overflow_x": null,
            "overflow_y": null,
            "padding": null,
            "right": null,
            "top": null,
            "visibility": null,
            "width": null
          }
        },
        "9726b5f5b8dd43a8bd725e65806b3e36": {
          "model_module": "@jupyter-widgets/base",
          "model_name": "LayoutModel",
          "model_module_version": "1.2.0",
          "state": {
            "_model_module": "@jupyter-widgets/base",
            "_model_module_version": "1.2.0",
            "_model_name": "LayoutModel",
            "_view_count": null,
            "_view_module": "@jupyter-widgets/base",
            "_view_module_version": "1.2.0",
            "_view_name": "LayoutView",
            "align_content": null,
            "align_items": null,
            "align_self": null,
            "border": null,
            "bottom": null,
            "display": null,
            "flex": null,
            "flex_flow": null,
            "grid_area": null,
            "grid_auto_columns": null,
            "grid_auto_flow": null,
            "grid_auto_rows": null,
            "grid_column": null,
            "grid_gap": null,
            "grid_row": null,
            "grid_template_areas": null,
            "grid_template_columns": null,
            "grid_template_rows": null,
            "height": null,
            "justify_content": null,
            "justify_items": null,
            "left": null,
            "margin": null,
            "max_height": null,
            "max_width": null,
            "min_height": null,
            "min_width": null,
            "object_fit": null,
            "object_position": null,
            "order": null,
            "overflow": null,
            "overflow_x": null,
            "overflow_y": null,
            "padding": null,
            "right": null,
            "top": null,
            "visibility": null,
            "width": null
          }
        },
        "c61aee3aeb3a476eb3fcd72c1b5e3ed3": {
          "model_module": "@jupyter-widgets/controls",
          "model_name": "VBoxModel",
          "model_module_version": "1.5.0",
          "state": {
            "_dom_classes": [
              "widget-interact"
            ],
            "_model_module": "@jupyter-widgets/controls",
            "_model_module_version": "1.5.0",
            "_model_name": "VBoxModel",
            "_view_count": null,
            "_view_module": "@jupyter-widgets/controls",
            "_view_module_version": "1.5.0",
            "_view_name": "VBoxView",
            "box_style": "",
            "children": [
              "IPY_MODEL_4a171e8585444dd1bc17ca1819a6be76",
              "IPY_MODEL_6f186e428838467dac0285829655ebf7",
              "IPY_MODEL_b5524fbae315431784b32f74aba03a5c",
              "IPY_MODEL_7c9188604fbd4802a76f4b82b05cc362",
              "IPY_MODEL_5f11e1c32ad8446f8329d5bd0604e80c",
              "IPY_MODEL_7ff5a684f7004e08b6e96e611cb66381",
              "IPY_MODEL_c1cdc1143b194ad8839952e62bec3d98",
              "IPY_MODEL_417a457c53934b0ebd3a229ea7c5c604"
            ],
            "layout": "IPY_MODEL_9fe843b3482e4906b56eea60cf953d18"
          }
        },
        "4a171e8585444dd1bc17ca1819a6be76": {
          "model_module": "@jupyter-widgets/controls",
          "model_name": "FloatSliderModel",
          "model_module_version": "1.5.0",
          "state": {
            "_dom_classes": [],
            "_model_module": "@jupyter-widgets/controls",
            "_model_module_version": "1.5.0",
            "_model_name": "FloatSliderModel",
            "_view_count": null,
            "_view_module": "@jupyter-widgets/controls",
            "_view_module_version": "1.5.0",
            "_view_name": "FloatSliderView",
            "continuous_update": true,
            "description": "exp_scale",
            "description_tooltip": null,
            "disabled": false,
            "layout": "IPY_MODEL_814107704e194b74a85fcb045311854d",
            "max": 20000,
            "min": 0,
            "orientation": "horizontal",
            "readout": true,
            "readout_format": ".2f",
            "step": 250,
            "style": "IPY_MODEL_e1423d218b9d4770b2d7cdc68d0c72e9",
            "value": 1000
          }
        },
        "6f186e428838467dac0285829655ebf7": {
          "model_module": "@jupyter-widgets/controls",
          "model_name": "FloatSliderModel",
          "model_module_version": "1.5.0",
          "state": {
            "_dom_classes": [],
            "_model_module": "@jupyter-widgets/controls",
            "_model_module_version": "1.5.0",
            "_model_name": "FloatSliderModel",
            "_view_count": null,
            "_view_module": "@jupyter-widgets/controls",
            "_view_module_version": "1.5.0",
            "_view_name": "FloatSliderView",
            "continuous_update": true,
            "description": "exp_rate",
            "description_tooltip": null,
            "disabled": false,
            "layout": "IPY_MODEL_16b8983072ca483bb2884c72464b3db4",
            "max": 50,
            "min": -200,
            "orientation": "horizontal",
            "readout": true,
            "readout_format": ".2f",
            "step": 1,
            "style": "IPY_MODEL_6c82290e4864466aaf192117d4fcc4c5",
            "value": -39
          }
        },
        "b5524fbae315431784b32f74aba03a5c": {
          "model_module": "@jupyter-widgets/controls",
          "model_name": "FloatSliderModel",
          "model_module_version": "1.5.0",
          "state": {
            "_dom_classes": [],
            "_model_module": "@jupyter-widgets/controls",
            "_model_module_version": "1.5.0",
            "_model_name": "FloatSliderModel",
            "_view_count": null,
            "_view_module": "@jupyter-widgets/controls",
            "_view_module_version": "1.5.0",
            "_view_name": "FloatSliderView",
            "continuous_update": true,
            "description": "exp_x0",
            "description_tooltip": null,
            "disabled": false,
            "layout": "IPY_MODEL_6523b4d3ba4e491b9b947452650e915e",
            "max": 0.5,
            "min": -0.5,
            "orientation": "horizontal",
            "readout": true,
            "readout_format": ".2f",
            "step": 0.005,
            "style": "IPY_MODEL_7e409bfea58e4a4280321fb0f7bef079",
            "value": 0.1
          }
        },
        "7c9188604fbd4802a76f4b82b05cc362": {
          "model_module": "@jupyter-widgets/controls",
          "model_name": "FloatSliderModel",
          "model_module_version": "1.5.0",
          "state": {
            "_dom_classes": [],
            "_model_module": "@jupyter-widgets/controls",
            "_model_module_version": "1.5.0",
            "_model_name": "FloatSliderModel",
            "_view_count": null,
            "_view_module": "@jupyter-widgets/controls",
            "_view_module_version": "1.5.0",
            "_view_name": "FloatSliderView",
            "continuous_update": true,
            "description": "inv_scale",
            "description_tooltip": null,
            "disabled": false,
            "layout": "IPY_MODEL_baff1df564a94e80aee2bae3f2d7bcaa",
            "max": 300,
            "min": 0,
            "orientation": "horizontal",
            "readout": true,
            "readout_format": ".2f",
            "step": 10,
            "style": "IPY_MODEL_e3a8c3a4be8943c4ae3b17da208f3ee5",
            "value": 300
          }
        },
        "5f11e1c32ad8446f8329d5bd0604e80c": {
          "model_module": "@jupyter-widgets/controls",
          "model_name": "FloatSliderModel",
          "model_module_version": "1.5.0",
          "state": {
            "_dom_classes": [],
            "_model_module": "@jupyter-widgets/controls",
            "_model_module_version": "1.5.0",
            "_model_name": "FloatSliderModel",
            "_view_count": null,
            "_view_module": "@jupyter-widgets/controls",
            "_view_module_version": "1.5.0",
            "_view_name": "FloatSliderView",
            "continuous_update": true,
            "description": "inv_x0",
            "description_tooltip": null,
            "disabled": false,
            "layout": "IPY_MODEL_6f93b396405349a5b84791cbe1f9cd85",
            "max": 0.2,
            "min": -0.2,
            "orientation": "horizontal",
            "readout": true,
            "readout_format": ".2f",
            "step": 0.01,
            "style": "IPY_MODEL_61fbda2db745463eb149620755877228",
            "value": -0.06
          }
        },
        "7ff5a684f7004e08b6e96e611cb66381": {
          "model_module": "@jupyter-widgets/controls",
          "model_name": "FloatSliderModel",
          "model_module_version": "1.5.0",
          "state": {
            "_dom_classes": [],
            "_model_module": "@jupyter-widgets/controls",
            "_model_module_version": "1.5.0",
            "_model_name": "FloatSliderModel",
            "_view_count": null,
            "_view_module": "@jupyter-widgets/controls",
            "_view_module_version": "1.5.0",
            "_view_name": "FloatSliderView",
            "continuous_update": true,
            "description": "lin_slope",
            "description_tooltip": null,
            "disabled": false,
            "layout": "IPY_MODEL_adf81cbe13b14ec286c1215a21c54177",
            "max": 100000,
            "min": -600000,
            "orientation": "horizontal",
            "readout": true,
            "readout_format": ".2f",
            "step": 10000,
            "style": "IPY_MODEL_72ee194bf80b421cba00795443f0c091",
            "value": -100000
          }
        },
        "c1cdc1143b194ad8839952e62bec3d98": {
          "model_module": "@jupyter-widgets/controls",
          "model_name": "FloatSliderModel",
          "model_module_version": "1.5.0",
          "state": {
            "_dom_classes": [],
            "_model_module": "@jupyter-widgets/controls",
            "_model_module_version": "1.5.0",
            "_model_name": "FloatSliderModel",
            "_view_count": null,
            "_view_module": "@jupyter-widgets/controls",
            "_view_module_version": "1.5.0",
            "_view_name": "FloatSliderView",
            "continuous_update": true,
            "description": "lin_y0",
            "description_tooltip": null,
            "disabled": false,
            "layout": "IPY_MODEL_e4457003ea8f4967914e787280cc874a",
            "max": 40000,
            "min": 0,
            "orientation": "horizontal",
            "readout": true,
            "readout_format": ".2f",
            "step": 1000,
            "style": "IPY_MODEL_9b2296a26eee41bab0494d8a40bde421",
            "value": 10000
          }
        },
        "417a457c53934b0ebd3a229ea7c5c604": {
          "model_module": "@jupyter-widgets/output",
          "model_name": "OutputModel",
          "model_module_version": "1.0.0",
          "state": {
            "_dom_classes": [],
            "_model_module": "@jupyter-widgets/output",
            "_model_module_version": "1.0.0",
            "_model_name": "OutputModel",
            "_view_count": null,
            "_view_module": "@jupyter-widgets/output",
            "_view_module_version": "1.0.0",
            "_view_name": "OutputView",
            "layout": "IPY_MODEL_66040f09665e402e906e68ae149b1652",
            "msg_id": "",
            "outputs": [
              {
                "output_type": "display_data",
                "data": {
                  "text/plain": "<Figure size 800x600 with 1 Axes>",
                  "image/png": "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\n"
                },
                "metadata": {
                  "image/png": {
                    "width": 775,
                    "height": 575
                  }
                }
              }
            ]
          }
        },
        "9fe843b3482e4906b56eea60cf953d18": {
          "model_module": "@jupyter-widgets/base",
          "model_name": "LayoutModel",
          "model_module_version": "1.2.0",
          "state": {
            "_model_module": "@jupyter-widgets/base",
            "_model_module_version": "1.2.0",
            "_model_name": "LayoutModel",
            "_view_count": null,
            "_view_module": "@jupyter-widgets/base",
            "_view_module_version": "1.2.0",
            "_view_name": "LayoutView",
            "align_content": null,
            "align_items": null,
            "align_self": null,
            "border": null,
            "bottom": null,
            "display": null,
            "flex": null,
            "flex_flow": null,
            "grid_area": null,
            "grid_auto_columns": null,
            "grid_auto_flow": null,
            "grid_auto_rows": null,
            "grid_column": null,
            "grid_gap": null,
            "grid_row": null,
            "grid_template_areas": null,
            "grid_template_columns": null,
            "grid_template_rows": null,
            "height": null,
            "justify_content": null,
            "justify_items": null,
            "left": null,
            "margin": null,
            "max_height": null,
            "max_width": null,
            "min_height": null,
            "min_width": null,
            "object_fit": null,
            "object_position": null,
            "order": null,
            "overflow": null,
            "overflow_x": null,
            "overflow_y": null,
            "padding": null,
            "right": null,
            "top": null,
            "visibility": null,
            "width": null
          }
        },
        "814107704e194b74a85fcb045311854d": {
          "model_module": "@jupyter-widgets/base",
          "model_name": "LayoutModel",
          "model_module_version": "1.2.0",
          "state": {
            "_model_module": "@jupyter-widgets/base",
            "_model_module_version": "1.2.0",
            "_model_name": "LayoutModel",
            "_view_count": null,
            "_view_module": "@jupyter-widgets/base",
            "_view_module_version": "1.2.0",
            "_view_name": "LayoutView",
            "align_content": null,
            "align_items": null,
            "align_self": null,
            "border": null,
            "bottom": null,
            "display": null,
            "flex": null,
            "flex_flow": null,
            "grid_area": null,
            "grid_auto_columns": null,
            "grid_auto_flow": null,
            "grid_auto_rows": null,
            "grid_column": null,
            "grid_gap": null,
            "grid_row": null,
            "grid_template_areas": null,
            "grid_template_columns": null,
            "grid_template_rows": null,
            "height": null,
            "justify_content": null,
            "justify_items": null,
            "left": null,
            "margin": null,
            "max_height": null,
            "max_width": null,
            "min_height": null,
            "min_width": null,
            "object_fit": null,
            "object_position": null,
            "order": null,
            "overflow": null,
            "overflow_x": null,
            "overflow_y": null,
            "padding": null,
            "right": null,
            "top": null,
            "visibility": null,
            "width": null
          }
        },
        "e1423d218b9d4770b2d7cdc68d0c72e9": {
          "model_module": "@jupyter-widgets/controls",
          "model_name": "SliderStyleModel",
          "model_module_version": "1.5.0",
          "state": {
            "_model_module": "@jupyter-widgets/controls",
            "_model_module_version": "1.5.0",
            "_model_name": "SliderStyleModel",
            "_view_count": null,
            "_view_module": "@jupyter-widgets/base",
            "_view_module_version": "1.2.0",
            "_view_name": "StyleView",
            "description_width": "",
            "handle_color": null
          }
        },
        "16b8983072ca483bb2884c72464b3db4": {
          "model_module": "@jupyter-widgets/base",
          "model_name": "LayoutModel",
          "model_module_version": "1.2.0",
          "state": {
            "_model_module": "@jupyter-widgets/base",
            "_model_module_version": "1.2.0",
            "_model_name": "LayoutModel",
            "_view_count": null,
            "_view_module": "@jupyter-widgets/base",
            "_view_module_version": "1.2.0",
            "_view_name": "LayoutView",
            "align_content": null,
            "align_items": null,
            "align_self": null,
            "border": null,
            "bottom": null,
            "display": null,
            "flex": null,
            "flex_flow": null,
            "grid_area": null,
            "grid_auto_columns": null,
            "grid_auto_flow": null,
            "grid_auto_rows": null,
            "grid_column": null,
            "grid_gap": null,
            "grid_row": null,
            "grid_template_areas": null,
            "grid_template_columns": null,
            "grid_template_rows": null,
            "height": null,
            "justify_content": null,
            "justify_items": null,
            "left": null,
            "margin": null,
            "max_height": null,
            "max_width": null,
            "min_height": null,
            "min_width": null,
            "object_fit": null,
            "object_position": null,
            "order": null,
            "overflow": null,
            "overflow_x": null,
            "overflow_y": null,
            "padding": null,
            "right": null,
            "top": null,
            "visibility": null,
            "width": null
          }
        },
        "6c82290e4864466aaf192117d4fcc4c5": {
          "model_module": "@jupyter-widgets/controls",
          "model_name": "SliderStyleModel",
          "model_module_version": "1.5.0",
          "state": {
            "_model_module": "@jupyter-widgets/controls",
            "_model_module_version": "1.5.0",
            "_model_name": "SliderStyleModel",
            "_view_count": null,
            "_view_module": "@jupyter-widgets/base",
            "_view_module_version": "1.2.0",
            "_view_name": "StyleView",
            "description_width": "",
            "handle_color": null
          }
        },
        "6523b4d3ba4e491b9b947452650e915e": {
          "model_module": "@jupyter-widgets/base",
          "model_name": "LayoutModel",
          "model_module_version": "1.2.0",
          "state": {
            "_model_module": "@jupyter-widgets/base",
            "_model_module_version": "1.2.0",
            "_model_name": "LayoutModel",
            "_view_count": null,
            "_view_module": "@jupyter-widgets/base",
            "_view_module_version": "1.2.0",
            "_view_name": "LayoutView",
            "align_content": null,
            "align_items": null,
            "align_self": null,
            "border": null,
            "bottom": null,
            "display": null,
            "flex": null,
            "flex_flow": null,
            "grid_area": null,
            "grid_auto_columns": null,
            "grid_auto_flow": null,
            "grid_auto_rows": null,
            "grid_column": null,
            "grid_gap": null,
            "grid_row": null,
            "grid_template_areas": null,
            "grid_template_columns": null,
            "grid_template_rows": null,
            "height": null,
            "justify_content": null,
            "justify_items": null,
            "left": null,
            "margin": null,
            "max_height": null,
            "max_width": null,
            "min_height": null,
            "min_width": null,
            "object_fit": null,
            "object_position": null,
            "order": null,
            "overflow": null,
            "overflow_x": null,
            "overflow_y": null,
            "padding": null,
            "right": null,
            "top": null,
            "visibility": null,
            "width": null
          }
        },
        "7e409bfea58e4a4280321fb0f7bef079": {
          "model_module": "@jupyter-widgets/controls",
          "model_name": "SliderStyleModel",
          "model_module_version": "1.5.0",
          "state": {
            "_model_module": "@jupyter-widgets/controls",
            "_model_module_version": "1.5.0",
            "_model_name": "SliderStyleModel",
            "_view_count": null,
            "_view_module": "@jupyter-widgets/base",
            "_view_module_version": "1.2.0",
            "_view_name": "StyleView",
            "description_width": "",
            "handle_color": null
          }
        },
        "baff1df564a94e80aee2bae3f2d7bcaa": {
          "model_module": "@jupyter-widgets/base",
          "model_name": "LayoutModel",
          "model_module_version": "1.2.0",
          "state": {
            "_model_module": "@jupyter-widgets/base",
            "_model_module_version": "1.2.0",
            "_model_name": "LayoutModel",
            "_view_count": null,
            "_view_module": "@jupyter-widgets/base",
            "_view_module_version": "1.2.0",
            "_view_name": "LayoutView",
            "align_content": null,
            "align_items": null,
            "align_self": null,
            "border": null,
            "bottom": null,
            "display": null,
            "flex": null,
            "flex_flow": null,
            "grid_area": null,
            "grid_auto_columns": null,
            "grid_auto_flow": null,
            "grid_auto_rows": null,
            "grid_column": null,
            "grid_gap": null,
            "grid_row": null,
            "grid_template_areas": null,
            "grid_template_columns": null,
            "grid_template_rows": null,
            "height": null,
            "justify_content": null,
            "justify_items": null,
            "left": null,
            "margin": null,
            "max_height": null,
            "max_width": null,
            "min_height": null,
            "min_width": null,
            "object_fit": null,
            "object_position": null,
            "order": null,
            "overflow": null,
            "overflow_x": null,
            "overflow_y": null,
            "padding": null,
            "right": null,
            "top": null,
            "visibility": null,
            "width": null
          }
        },
        "e3a8c3a4be8943c4ae3b17da208f3ee5": {
          "model_module": "@jupyter-widgets/controls",
          "model_name": "SliderStyleModel",
          "model_module_version": "1.5.0",
          "state": {
            "_model_module": "@jupyter-widgets/controls",
            "_model_module_version": "1.5.0",
            "_model_name": "SliderStyleModel",
            "_view_count": null,
            "_view_module": "@jupyter-widgets/base",
            "_view_module_version": "1.2.0",
            "_view_name": "StyleView",
            "description_width": "",
            "handle_color": null
          }
        },
        "6f93b396405349a5b84791cbe1f9cd85": {
          "model_module": "@jupyter-widgets/base",
          "model_name": "LayoutModel",
          "model_module_version": "1.2.0",
          "state": {
            "_model_module": "@jupyter-widgets/base",
            "_model_module_version": "1.2.0",
            "_model_name": "LayoutModel",
            "_view_count": null,
            "_view_module": "@jupyter-widgets/base",
            "_view_module_version": "1.2.0",
            "_view_name": "LayoutView",
            "align_content": null,
            "align_items": null,
            "align_self": null,
            "border": null,
            "bottom": null,
            "display": null,
            "flex": null,
            "flex_flow": null,
            "grid_area": null,
            "grid_auto_columns": null,
            "grid_auto_flow": null,
            "grid_auto_rows": null,
            "grid_column": null,
            "grid_gap": null,
            "grid_row": null,
            "grid_template_areas": null,
            "grid_template_columns": null,
            "grid_template_rows": null,
            "height": null,
            "justify_content": null,
            "justify_items": null,
            "left": null,
            "margin": null,
            "max_height": null,
            "max_width": null,
            "min_height": null,
            "min_width": null,
            "object_fit": null,
            "object_position": null,
            "order": null,
            "overflow": null,
            "overflow_x": null,
            "overflow_y": null,
            "padding": null,
            "right": null,
            "top": null,
            "visibility": null,
            "width": null
          }
        },
        "61fbda2db745463eb149620755877228": {
          "model_module": "@jupyter-widgets/controls",
          "model_name": "SliderStyleModel",
          "model_module_version": "1.5.0",
          "state": {
            "_model_module": "@jupyter-widgets/controls",
            "_model_module_version": "1.5.0",
            "_model_name": "SliderStyleModel",
            "_view_count": null,
            "_view_module": "@jupyter-widgets/base",
            "_view_module_version": "1.2.0",
            "_view_name": "StyleView",
            "description_width": "",
            "handle_color": null
          }
        },
        "adf81cbe13b14ec286c1215a21c54177": {
          "model_module": "@jupyter-widgets/base",
          "model_name": "LayoutModel",
          "model_module_version": "1.2.0",
          "state": {
            "_model_module": "@jupyter-widgets/base",
            "_model_module_version": "1.2.0",
            "_model_name": "LayoutModel",
            "_view_count": null,
            "_view_module": "@jupyter-widgets/base",
            "_view_module_version": "1.2.0",
            "_view_name": "LayoutView",
            "align_content": null,
            "align_items": null,
            "align_self": null,
            "border": null,
            "bottom": null,
            "display": null,
            "flex": null,
            "flex_flow": null,
            "grid_area": null,
            "grid_auto_columns": null,
            "grid_auto_flow": null,
            "grid_auto_rows": null,
            "grid_column": null,
            "grid_gap": null,
            "grid_row": null,
            "grid_template_areas": null,
            "grid_template_columns": null,
            "grid_template_rows": null,
            "height": null,
            "justify_content": null,
            "justify_items": null,
            "left": null,
            "margin": null,
            "max_height": null,
            "max_width": null,
            "min_height": null,
            "min_width": null,
            "object_fit": null,
            "object_position": null,
            "order": null,
            "overflow": null,
            "overflow_x": null,
            "overflow_y": null,
            "padding": null,
            "right": null,
            "top": null,
            "visibility": null,
            "width": null
          }
        },
        "72ee194bf80b421cba00795443f0c091": {
          "model_module": "@jupyter-widgets/controls",
          "model_name": "SliderStyleModel",
          "model_module_version": "1.5.0",
          "state": {
            "_model_module": "@jupyter-widgets/controls",
            "_model_module_version": "1.5.0",
            "_model_name": "SliderStyleModel",
            "_view_count": null,
            "_view_module": "@jupyter-widgets/base",
            "_view_module_version": "1.2.0",
            "_view_name": "StyleView",
            "description_width": "",
            "handle_color": null
          }
        },
        "e4457003ea8f4967914e787280cc874a": {
          "model_module": "@jupyter-widgets/base",
          "model_name": "LayoutModel",
          "model_module_version": "1.2.0",
          "state": {
            "_model_module": "@jupyter-widgets/base",
            "_model_module_version": "1.2.0",
            "_model_name": "LayoutModel",
            "_view_count": null,
            "_view_module": "@jupyter-widgets/base",
            "_view_module_version": "1.2.0",
            "_view_name": "LayoutView",
            "align_content": null,
            "align_items": null,
            "align_self": null,
            "border": null,
            "bottom": null,
            "display": null,
            "flex": null,
            "flex_flow": null,
            "grid_area": null,
            "grid_auto_columns": null,
            "grid_auto_flow": null,
            "grid_auto_rows": null,
            "grid_column": null,
            "grid_gap": null,
            "grid_row": null,
            "grid_template_areas": null,
            "grid_template_columns": null,
            "grid_template_rows": null,
            "height": null,
            "justify_content": null,
            "justify_items": null,
            "left": null,
            "margin": null,
            "max_height": null,
            "max_width": null,
            "min_height": null,
            "min_width": null,
            "object_fit": null,
            "object_position": null,
            "order": null,
            "overflow": null,
            "overflow_x": null,
            "overflow_y": null,
            "padding": null,
            "right": null,
            "top": null,
            "visibility": null,
            "width": null
          }
        },
        "9b2296a26eee41bab0494d8a40bde421": {
          "model_module": "@jupyter-widgets/controls",
          "model_name": "SliderStyleModel",
          "model_module_version": "1.5.0",
          "state": {
            "_model_module": "@jupyter-widgets/controls",
            "_model_module_version": "1.5.0",
            "_model_name": "SliderStyleModel",
            "_view_count": null,
            "_view_module": "@jupyter-widgets/base",
            "_view_module_version": "1.2.0",
            "_view_name": "StyleView",
            "description_width": "",
            "handle_color": null
          }
        },
        "66040f09665e402e906e68ae149b1652": {
          "model_module": "@jupyter-widgets/base",
          "model_name": "LayoutModel",
          "model_module_version": "1.2.0",
          "state": {
            "_model_module": "@jupyter-widgets/base",
            "_model_module_version": "1.2.0",
            "_model_name": "LayoutModel",
            "_view_count": null,
            "_view_module": "@jupyter-widgets/base",
            "_view_module_version": "1.2.0",
            "_view_name": "LayoutView",
            "align_content": null,
            "align_items": null,
            "align_self": null,
            "border": null,
            "bottom": null,
            "display": null,
            "flex": null,
            "flex_flow": null,
            "grid_area": null,
            "grid_auto_columns": null,
            "grid_auto_flow": null,
            "grid_auto_rows": null,
            "grid_column": null,
            "grid_gap": null,
            "grid_row": null,
            "grid_template_areas": null,
            "grid_template_columns": null,
            "grid_template_rows": null,
            "height": null,
            "justify_content": null,
            "justify_items": null,
            "left": null,
            "margin": null,
            "max_height": null,
            "max_width": null,
            "min_height": null,
            "min_width": null,
            "object_fit": null,
            "object_position": null,
            "order": null,
            "overflow": null,
            "overflow_x": null,
            "overflow_y": null,
            "padding": null,
            "right": null,
            "top": null,
            "visibility": null,
            "width": null
          }
        },
        "1549ffa0cf16470c84fe3101d780baba": {
          "model_module": "@jupyter-widgets/controls",
          "model_name": "TabModel",
          "model_module_version": "1.5.0",
          "state": {
            "_dom_classes": [],
            "_model_module": "@jupyter-widgets/controls",
            "_model_module_version": "1.5.0",
            "_model_name": "TabModel",
            "_titles": {
              "0": "Youtube",
              "1": "Bilibili"
            },
            "_view_count": null,
            "_view_module": "@jupyter-widgets/controls",
            "_view_module_version": "1.5.0",
            "_view_name": "TabView",
            "box_style": "",
            "children": [
              "IPY_MODEL_670053ff3d55491dbb1277f04daab45f",
              "IPY_MODEL_5d6cb70da5b2429198392b4676a183b5"
            ],
            "layout": "IPY_MODEL_089bbdc5fa06450f9118b53b4b07980d",
            "selected_index": 0
          }
        },
        "670053ff3d55491dbb1277f04daab45f": {
          "model_module": "@jupyter-widgets/output",
          "model_name": "OutputModel",
          "model_module_version": "1.0.0",
          "state": {
            "_dom_classes": [],
            "_model_module": "@jupyter-widgets/output",
            "_model_module_version": "1.0.0",
            "_model_name": "OutputModel",
            "_view_count": null,
            "_view_module": "@jupyter-widgets/output",
            "_view_module_version": "1.0.0",
            "_view_name": "OutputView",
            "layout": "IPY_MODEL_eb7b068f81434a4584159c03d0e2af24",
            "msg_id": "",
            "outputs": [
              {
                "output_type": "stream",
                "name": "stdout",
                "text": [
                  "Video available at https://youtube.com/watch?v=uW2HDk_4-wk\n"
                ]
              },
              {
                "output_type": "display_data",
                "data": {
                  "text/plain": "<IPython.lib.display.YouTubeVideo at 0x7d99bcc73a90>",
                  "text/html": "\n        <iframe\n            width=\"854\"\n            height=\"480\"\n            src=\"https://www.youtube.com/embed/uW2HDk_4-wk?fs=1&rel=0\"\n            frameborder=\"0\"\n            allowfullscreen\n            \n        ></iframe>\n        ",
                  "image/jpeg": "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\n"
                },
                "metadata": {}
              }
            ]
          }
        },
        "5d6cb70da5b2429198392b4676a183b5": {
          "model_module": "@jupyter-widgets/output",
          "model_name": "OutputModel",
          "model_module_version": "1.0.0",
          "state": {
            "_dom_classes": [],
            "_model_module": "@jupyter-widgets/output",
            "_model_module_version": "1.0.0",
            "_model_name": "OutputModel",
            "_view_count": null,
            "_view_module": "@jupyter-widgets/output",
            "_view_module_version": "1.0.0",
            "_view_name": "OutputView",
            "layout": "IPY_MODEL_59224c9197dd46d7975ee7a22dac7ebf",
            "msg_id": "",
            "outputs": [
              {
                "output_type": "stream",
                "name": "stdout",
                "text": [
                  "Video available at https://www.bilibili.com/video/BV1w54y1S7Eb\n"
                ]
              },
              {
                "output_type": "display_data",
                "data": {
                  "text/plain": "<__main__.PlayVideo at 0x7d99bce9b810>",
                  "text/html": "\n        <iframe\n            width=\"854\"\n            height=\"480\"\n            src=\"https://player.bilibili.com/player.html?bvid=BV1w54y1S7Eb&page=1?fs=1&autoplay=False\"\n            frameborder=\"0\"\n            allowfullscreen\n            \n        ></iframe>\n        "
                },
                "metadata": {}
              }
            ]
          }
        },
        "089bbdc5fa06450f9118b53b4b07980d": {
          "model_module": "@jupyter-widgets/base",
          "model_name": "LayoutModel",
          "model_module_version": "1.2.0",
          "state": {
            "_model_module": "@jupyter-widgets/base",
            "_model_module_version": "1.2.0",
            "_model_name": "LayoutModel",
            "_view_count": null,
            "_view_module": "@jupyter-widgets/base",
            "_view_module_version": "1.2.0",
            "_view_name": "LayoutView",
            "align_content": null,
            "align_items": null,
            "align_self": null,
            "border": null,
            "bottom": null,
            "display": null,
            "flex": null,
            "flex_flow": null,
            "grid_area": null,
            "grid_auto_columns": null,
            "grid_auto_flow": null,
            "grid_auto_rows": null,
            "grid_column": null,
            "grid_gap": null,
            "grid_row": null,
            "grid_template_areas": null,
            "grid_template_columns": null,
            "grid_template_rows": null,
            "height": null,
            "justify_content": null,
            "justify_items": null,
            "left": null,
            "margin": null,
            "max_height": null,
            "max_width": null,
            "min_height": null,
            "min_width": null,
            "object_fit": null,
            "object_position": null,
            "order": null,
            "overflow": null,
            "overflow_x": null,
            "overflow_y": null,
            "padding": null,
            "right": null,
            "top": null,
            "visibility": null,
            "width": null
          }
        },
        "eb7b068f81434a4584159c03d0e2af24": {
          "model_module": "@jupyter-widgets/base",
          "model_name": "LayoutModel",
          "model_module_version": "1.2.0",
          "state": {
            "_model_module": "@jupyter-widgets/base",
            "_model_module_version": "1.2.0",
            "_model_name": "LayoutModel",
            "_view_count": null,
            "_view_module": "@jupyter-widgets/base",
            "_view_module_version": "1.2.0",
            "_view_name": "LayoutView",
            "align_content": null,
            "align_items": null,
            "align_self": null,
            "border": null,
            "bottom": null,
            "display": null,
            "flex": null,
            "flex_flow": null,
            "grid_area": null,
            "grid_auto_columns": null,
            "grid_auto_flow": null,
            "grid_auto_rows": null,
            "grid_column": null,
            "grid_gap": null,
            "grid_row": null,
            "grid_template_areas": null,
            "grid_template_columns": null,
            "grid_template_rows": null,
            "height": null,
            "justify_content": null,
            "justify_items": null,
            "left": null,
            "margin": null,
            "max_height": null,
            "max_width": null,
            "min_height": null,
            "min_width": null,
            "object_fit": null,
            "object_position": null,
            "order": null,
            "overflow": null,
            "overflow_x": null,
            "overflow_y": null,
            "padding": null,
            "right": null,
            "top": null,
            "visibility": null,
            "width": null
          }
        },
        "59224c9197dd46d7975ee7a22dac7ebf": {
          "model_module": "@jupyter-widgets/base",
          "model_name": "LayoutModel",
          "model_module_version": "1.2.0",
          "state": {
            "_model_module": "@jupyter-widgets/base",
            "_model_module_version": "1.2.0",
            "_model_name": "LayoutModel",
            "_view_count": null,
            "_view_module": "@jupyter-widgets/base",
            "_view_module_version": "1.2.0",
            "_view_name": "LayoutView",
            "align_content": null,
            "align_items": null,
            "align_self": null,
            "border": null,
            "bottom": null,
            "display": null,
            "flex": null,
            "flex_flow": null,
            "grid_area": null,
            "grid_auto_columns": null,
            "grid_auto_flow": null,
            "grid_auto_rows": null,
            "grid_column": null,
            "grid_gap": null,
            "grid_row": null,
            "grid_template_areas": null,
            "grid_template_columns": null,
            "grid_template_rows": null,
            "height": null,
            "justify_content": null,
            "justify_items": null,
            "left": null,
            "margin": null,
            "max_height": null,
            "max_width": null,
            "min_height": null,
            "min_width": null,
            "object_fit": null,
            "object_position": null,
            "order": null,
            "overflow": null,
            "overflow_x": null,
            "overflow_y": null,
            "padding": null,
            "right": null,
            "top": null,
            "visibility": null,
            "width": null
          }
        }
      }
    }
  },
  "nbformat": 4,
  "nbformat_minor": 0
}